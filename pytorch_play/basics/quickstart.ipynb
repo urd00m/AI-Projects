{
 "cells": [
  {
   "cell_type": "code",
   "execution_count": 2,
   "id": "6035e3a8",
   "metadata": {},
   "outputs": [],
   "source": [
    "import torch\n",
    "from torch import nn\n",
    "from torch.utils.data import DataLoader\n",
    "from torchvision import datasets\n",
    "from torchvision.transforms import ToTensor"
   ]
  },
  {
   "cell_type": "code",
   "execution_count": 3,
   "id": "d7cf2e83",
   "metadata": {},
   "outputs": [
    {
     "name": "stdout",
     "output_type": "stream",
     "text": [
      "Downloading http://fashion-mnist.s3-website.eu-central-1.amazonaws.com/train-images-idx3-ubyte.gz\n",
      "Downloading http://fashion-mnist.s3-website.eu-central-1.amazonaws.com/train-images-idx3-ubyte.gz to data/FashionMNIST/raw/train-images-idx3-ubyte.gz\n"
     ]
    },
    {
     "data": {
      "application/vnd.jupyter.widget-view+json": {
       "model_id": "6899400de20444fea3c2d441b9367485",
       "version_major": 2,
       "version_minor": 0
      },
      "text/plain": [
       "  0%|          | 0/26421880 [00:00<?, ?it/s]"
      ]
     },
     "metadata": {},
     "output_type": "display_data"
    },
    {
     "name": "stdout",
     "output_type": "stream",
     "text": [
      "Extracting data/FashionMNIST/raw/train-images-idx3-ubyte.gz to data/FashionMNIST/raw\n",
      "\n",
      "Downloading http://fashion-mnist.s3-website.eu-central-1.amazonaws.com/train-labels-idx1-ubyte.gz\n",
      "Downloading http://fashion-mnist.s3-website.eu-central-1.amazonaws.com/train-labels-idx1-ubyte.gz to data/FashionMNIST/raw/train-labels-idx1-ubyte.gz\n"
     ]
    },
    {
     "data": {
      "application/vnd.jupyter.widget-view+json": {
       "model_id": "2050712818694e4e888d3d72e41853a2",
       "version_major": 2,
       "version_minor": 0
      },
      "text/plain": [
       "  0%|          | 0/29515 [00:00<?, ?it/s]"
      ]
     },
     "metadata": {},
     "output_type": "display_data"
    },
    {
     "name": "stdout",
     "output_type": "stream",
     "text": [
      "Extracting data/FashionMNIST/raw/train-labels-idx1-ubyte.gz to data/FashionMNIST/raw\n",
      "\n",
      "Downloading http://fashion-mnist.s3-website.eu-central-1.amazonaws.com/t10k-images-idx3-ubyte.gz\n",
      "Downloading http://fashion-mnist.s3-website.eu-central-1.amazonaws.com/t10k-images-idx3-ubyte.gz to data/FashionMNIST/raw/t10k-images-idx3-ubyte.gz\n"
     ]
    },
    {
     "data": {
      "application/vnd.jupyter.widget-view+json": {
       "model_id": "6f366799930d478dac6e5b01fab02b38",
       "version_major": 2,
       "version_minor": 0
      },
      "text/plain": [
       "  0%|          | 0/4422102 [00:00<?, ?it/s]"
      ]
     },
     "metadata": {},
     "output_type": "display_data"
    },
    {
     "name": "stdout",
     "output_type": "stream",
     "text": [
      "Extracting data/FashionMNIST/raw/t10k-images-idx3-ubyte.gz to data/FashionMNIST/raw\n",
      "\n",
      "Downloading http://fashion-mnist.s3-website.eu-central-1.amazonaws.com/t10k-labels-idx1-ubyte.gz\n",
      "Downloading http://fashion-mnist.s3-website.eu-central-1.amazonaws.com/t10k-labels-idx1-ubyte.gz to data/FashionMNIST/raw/t10k-labels-idx1-ubyte.gz\n"
     ]
    },
    {
     "data": {
      "application/vnd.jupyter.widget-view+json": {
       "model_id": "769dbce71af247f897b6c07a3acaae8c",
       "version_major": 2,
       "version_minor": 0
      },
      "text/plain": [
       "  0%|          | 0/5148 [00:00<?, ?it/s]"
      ]
     },
     "metadata": {},
     "output_type": "display_data"
    },
    {
     "name": "stdout",
     "output_type": "stream",
     "text": [
      "Extracting data/FashionMNIST/raw/t10k-labels-idx1-ubyte.gz to data/FashionMNIST/raw\n",
      "\n"
     ]
    }
   ],
   "source": [
    "# Get data \n",
    "training_data = datasets.FashionMNIST(\n",
    "    root=\"data\",\n",
    "    train=True,\n",
    "    download=True,\n",
    "    transform=ToTensor(),\n",
    ")\n",
    "\n",
    "# Download test data from open datasets.\n",
    "test_data = datasets.FashionMNIST(\n",
    "    root=\"data\",\n",
    "    train=False,\n",
    "    download=True,\n",
    "    transform=ToTensor(),\n",
    ")"
   ]
  },
  {
   "cell_type": "code",
   "execution_count": 4,
   "id": "ca8ecbb7",
   "metadata": {},
   "outputs": [
    {
     "name": "stdout",
     "output_type": "stream",
     "text": [
      "Shape of X [N, C, H, W]: torch.Size([64, 1, 28, 28])\n",
      "Shape of y: torch.Size([64]) torch.int64\n"
     ]
    }
   ],
   "source": [
    "# Create dataloader  \n",
    "batch_size = 64\n",
    "\n",
    "# Create data loaders.\n",
    "train_dataloader = DataLoader(training_data, batch_size=batch_size)\n",
    "test_dataloader = DataLoader(test_data, batch_size=batch_size)\n",
    "\n",
    "for X, y in test_dataloader:\n",
    "    print(f\"Shape of X [N, C, H, W]: {X.shape}\")\n",
    "    print(f\"Shape of y: {y.shape} {y.dtype}\")\n",
    "    break "
   ]
  },
  {
   "cell_type": "code",
   "execution_count": 5,
   "id": "fb8f02ac",
   "metadata": {},
   "outputs": [
    {
     "name": "stdout",
     "output_type": "stream",
     "text": [
      "Using cpu device\n"
     ]
    }
   ],
   "source": [
    "# Device \n",
    "device = \"cuda\" if torch.cuda.is_available() else \"cpu\"\n",
    "print(f\"Using {device} device\")\n"
   ]
  },
  {
   "cell_type": "code",
   "execution_count": 12,
   "id": "8bad9af5",
   "metadata": {},
   "outputs": [
    {
     "name": "stdout",
     "output_type": "stream",
     "text": [
      "NeuralNetwork(\n",
      "  (flatten): Flatten(start_dim=1, end_dim=-1)\n",
      "  (linear_relu_stack): Sequential(\n",
      "    (0): Linear(in_features=784, out_features=512, bias=True)\n",
      "    (1): ReLU()\n",
      "    (2): Linear(in_features=512, out_features=312, bias=True)\n",
      "    (3): ReLU()\n",
      "    (4): Linear(in_features=312, out_features=10, bias=True)\n",
      "  )\n",
      ")\n"
     ]
    }
   ],
   "source": [
    "# Model \n",
    "class NeuralNetwork(nn.Module):\n",
    "    def __init__(self):\n",
    "        super(NeuralNetwork, self).__init__()\n",
    "        self.flatten = nn.Flatten()\n",
    "        self.linear_relu_stack = nn.Sequential(\n",
    "            nn.Linear(28*28, 512),\n",
    "            nn.ReLU(),\n",
    "            nn.Linear(512, 312),\n",
    "            nn.ReLU(),\n",
    "            nn.Linear(312, 10)\n",
    "        )\n",
    "\n",
    "    def forward(self, x):\n",
    "        x = self.flatten(x)\n",
    "        logits = self.linear_relu_stack(x)\n",
    "        return logits\n",
    "\n",
    "model = NeuralNetwork().to(device)\n",
    "print(model)"
   ]
  },
  {
   "cell_type": "code",
   "execution_count": 14,
   "id": "7b1e31ad",
   "metadata": {},
   "outputs": [],
   "source": [
    "# Loss function and optimizer \n",
    "loss_fn = nn.CrossEntropyLoss()\n",
    "optimizer = torch.optim.Adam(model.parameters(), lr=1e-3)"
   ]
  },
  {
   "cell_type": "code",
   "execution_count": 15,
   "id": "ae0efbc5",
   "metadata": {},
   "outputs": [],
   "source": [
    "# Training \n",
    "def train(dataloader, model, loss_fn, optimizer):\n",
    "    size = len(dataloader.dataset)\n",
    "    model.train()\n",
    "    for batch, (X, y) in enumerate(dataloader):\n",
    "        X, y = X.to(device), y.to(device)\n",
    "\n",
    "        # Compute prediction error\n",
    "        pred = model(X)\n",
    "        loss = loss_fn(pred, y)\n",
    "\n",
    "        # Backpropagation\n",
    "        optimizer.zero_grad()\n",
    "        loss.backward()\n",
    "        optimizer.step()\n",
    "\n",
    "        if batch % 100 == 0:\n",
    "            loss, current = loss.item(), batch * len(X)\n",
    "            print(f\"loss: {loss:>7f}  [{current:>5d}/{size:>5d}]\")"
   ]
  },
  {
   "cell_type": "code",
   "execution_count": 16,
   "id": "a2edc795",
   "metadata": {},
   "outputs": [],
   "source": [
    "# See if model is working \n",
    "def test(dataloader, model, loss_fn):\n",
    "    size = len(dataloader.dataset)\n",
    "    num_batches = len(dataloader)\n",
    "    model.eval()\n",
    "    test_loss, correct = 0, 0\n",
    "    with torch.no_grad():\n",
    "        for X, y in dataloader:\n",
    "            X, y = X.to(device), y.to(device)\n",
    "            pred = model(X)\n",
    "            test_loss += loss_fn(pred, y).item()\n",
    "            correct += (pred.argmax(1) == y).type(torch.float).sum().item()\n",
    "    test_loss /= num_batches\n",
    "    correct /= size\n",
    "    print(f\"Test Error: \\n Accuracy: {(100*correct):>0.1f}%, Avg loss: {test_loss:>8f} \\n\")"
   ]
  },
  {
   "cell_type": "code",
   "execution_count": 17,
   "id": "0bcf04d3",
   "metadata": {},
   "outputs": [
    {
     "name": "stdout",
     "output_type": "stream",
     "text": [
      "Epoch 1\n",
      "-------------------------------\n",
      "loss: 2.296129  [    0/60000]\n",
      "loss: 0.568918  [ 6400/60000]\n",
      "loss: 0.385508  [12800/60000]\n",
      "loss: 0.516154  [19200/60000]\n",
      "loss: 0.478129  [25600/60000]\n",
      "loss: 0.440600  [32000/60000]\n",
      "loss: 0.381721  [38400/60000]\n",
      "loss: 0.535000  [44800/60000]\n",
      "loss: 0.446350  [51200/60000]\n",
      "loss: 0.525771  [57600/60000]\n",
      "Test Error: \n",
      " Accuracy: 84.6%, Avg loss: 0.422414 \n",
      "\n",
      "Epoch 2\n",
      "-------------------------------\n",
      "loss: 0.259012  [    0/60000]\n",
      "loss: 0.355612  [ 6400/60000]\n",
      "loss: 0.295566  [12800/60000]\n",
      "loss: 0.391454  [19200/60000]\n",
      "loss: 0.404466  [25600/60000]\n",
      "loss: 0.395563  [32000/60000]\n",
      "loss: 0.328515  [38400/60000]\n",
      "loss: 0.496704  [44800/60000]\n",
      "loss: 0.387178  [51200/60000]\n",
      "loss: 0.415278  [57600/60000]\n",
      "Test Error: \n",
      " Accuracy: 85.1%, Avg loss: 0.399279 \n",
      "\n",
      "Epoch 3\n",
      "-------------------------------\n",
      "loss: 0.241160  [    0/60000]\n",
      "loss: 0.310335  [ 6400/60000]\n",
      "loss: 0.242138  [12800/60000]\n",
      "loss: 0.339899  [19200/60000]\n",
      "loss: 0.369744  [25600/60000]\n",
      "loss: 0.345545  [32000/60000]\n",
      "loss: 0.269709  [38400/60000]\n",
      "loss: 0.438893  [44800/60000]\n",
      "loss: 0.321591  [51200/60000]\n",
      "loss: 0.402128  [57600/60000]\n",
      "Test Error: \n",
      " Accuracy: 86.4%, Avg loss: 0.373959 \n",
      "\n",
      "Epoch 4\n",
      "-------------------------------\n",
      "loss: 0.215813  [    0/60000]\n",
      "loss: 0.299702  [ 6400/60000]\n",
      "loss: 0.224476  [12800/60000]\n",
      "loss: 0.302599  [19200/60000]\n",
      "loss: 0.307987  [25600/60000]\n",
      "loss: 0.337708  [32000/60000]\n",
      "loss: 0.246550  [38400/60000]\n",
      "loss: 0.389436  [44800/60000]\n",
      "loss: 0.301236  [51200/60000]\n",
      "loss: 0.348134  [57600/60000]\n",
      "Test Error: \n",
      " Accuracy: 87.1%, Avg loss: 0.350424 \n",
      "\n",
      "Epoch 5\n",
      "-------------------------------\n",
      "loss: 0.193091  [    0/60000]\n",
      "loss: 0.287506  [ 6400/60000]\n",
      "loss: 0.209560  [12800/60000]\n",
      "loss: 0.265362  [19200/60000]\n",
      "loss: 0.345912  [25600/60000]\n",
      "loss: 0.312889  [32000/60000]\n",
      "loss: 0.237957  [38400/60000]\n",
      "loss: 0.331080  [44800/60000]\n",
      "loss: 0.288810  [51200/60000]\n",
      "loss: 0.324199  [57600/60000]\n",
      "Test Error: \n",
      " Accuracy: 87.4%, Avg loss: 0.347970 \n",
      "\n",
      "Epoch 6\n",
      "-------------------------------\n",
      "loss: 0.183511  [    0/60000]\n",
      "loss: 0.233997  [ 6400/60000]\n",
      "loss: 0.208666  [12800/60000]\n",
      "loss: 0.226931  [19200/60000]\n",
      "loss: 0.306822  [25600/60000]\n",
      "loss: 0.282568  [32000/60000]\n",
      "loss: 0.234058  [38400/60000]\n",
      "loss: 0.314469  [44800/60000]\n",
      "loss: 0.273840  [51200/60000]\n",
      "loss: 0.300020  [57600/60000]\n",
      "Test Error: \n",
      " Accuracy: 88.1%, Avg loss: 0.338178 \n",
      "\n",
      "Epoch 7\n",
      "-------------------------------\n",
      "loss: 0.174191  [    0/60000]\n",
      "loss: 0.213734  [ 6400/60000]\n",
      "loss: 0.201468  [12800/60000]\n",
      "loss: 0.264985  [19200/60000]\n",
      "loss: 0.267527  [25600/60000]\n",
      "loss: 0.310967  [32000/60000]\n",
      "loss: 0.205312  [38400/60000]\n",
      "loss: 0.294086  [44800/60000]\n",
      "loss: 0.250370  [51200/60000]\n",
      "loss: 0.305921  [57600/60000]\n",
      "Test Error: \n",
      " Accuracy: 88.3%, Avg loss: 0.335146 \n",
      "\n",
      "Epoch 8\n",
      "-------------------------------\n",
      "loss: 0.171798  [    0/60000]\n",
      "loss: 0.169339  [ 6400/60000]\n",
      "loss: 0.188389  [12800/60000]\n",
      "loss: 0.256257  [19200/60000]\n",
      "loss: 0.254813  [25600/60000]\n",
      "loss: 0.258554  [32000/60000]\n",
      "loss: 0.181038  [38400/60000]\n",
      "loss: 0.258381  [44800/60000]\n",
      "loss: 0.234915  [51200/60000]\n",
      "loss: 0.258181  [57600/60000]\n",
      "Test Error: \n",
      " Accuracy: 88.5%, Avg loss: 0.337500 \n",
      "\n",
      "Epoch 9\n",
      "-------------------------------\n",
      "loss: 0.137195  [    0/60000]\n",
      "loss: 0.150252  [ 6400/60000]\n",
      "loss: 0.225732  [12800/60000]\n",
      "loss: 0.206544  [19200/60000]\n",
      "loss: 0.349607  [25600/60000]\n",
      "loss: 0.270356  [32000/60000]\n",
      "loss: 0.187006  [38400/60000]\n",
      "loss: 0.308742  [44800/60000]\n",
      "loss: 0.266248  [51200/60000]\n",
      "loss: 0.237281  [57600/60000]\n",
      "Test Error: \n",
      " Accuracy: 87.6%, Avg loss: 0.372228 \n",
      "\n",
      "Epoch 10\n",
      "-------------------------------\n",
      "loss: 0.141950  [    0/60000]\n",
      "loss: 0.146945  [ 6400/60000]\n",
      "loss: 0.185948  [12800/60000]\n",
      "loss: 0.207969  [19200/60000]\n",
      "loss: 0.280237  [25600/60000]\n",
      "loss: 0.255344  [32000/60000]\n",
      "loss: 0.166319  [38400/60000]\n",
      "loss: 0.270851  [44800/60000]\n",
      "loss: 0.222974  [51200/60000]\n",
      "loss: 0.230645  [57600/60000]\n",
      "Test Error: \n",
      " Accuracy: 88.0%, Avg loss: 0.362040 \n",
      "\n",
      "Done!\n"
     ]
    }
   ],
   "source": [
    "# training \n",
    "epochs = 10\n",
    "for t in range(epochs):\n",
    "    print(f\"Epoch {t+1}\\n-------------------------------\")\n",
    "    train(train_dataloader, model, loss_fn, optimizer)\n",
    "    test(test_dataloader, model, loss_fn)\n",
    "print(\"Done!\")"
   ]
  },
  {
   "cell_type": "code",
   "execution_count": 18,
   "id": "8a3eb5a2",
   "metadata": {},
   "outputs": [
    {
     "name": "stdout",
     "output_type": "stream",
     "text": [
      "Predicted: \"Ankle boot\", Actual: \"Ankle boot\"\n"
     ]
    }
   ],
   "source": [
    "# Inference \n",
    "classes = [\n",
    "    \"T-shirt/top\",\n",
    "    \"Trouser\",\n",
    "    \"Pullover\",\n",
    "    \"Dress\",\n",
    "    \"Coat\",\n",
    "    \"Sandal\",\n",
    "    \"Shirt\",\n",
    "    \"Sneaker\",\n",
    "    \"Bag\",\n",
    "    \"Ankle boot\",\n",
    "]\n",
    "\n",
    "model.eval()\n",
    "x, y = test_data[0][0], test_data[0][1]\n",
    "with torch.no_grad():\n",
    "    pred = model(x)\n",
    "    predicted, actual = classes[pred[0].argmax(0)], classes[y]\n",
    "    print(f'Predicted: \"{predicted}\", Actual: \"{actual}\"')"
   ]
  },
  {
   "cell_type": "code",
   "execution_count": null,
   "id": "73886ab9",
   "metadata": {},
   "outputs": [],
   "source": []
  }
 ],
 "metadata": {
  "kernelspec": {
   "display_name": "Python 3 (ipykernel)",
   "language": "python",
   "name": "python3"
  },
  "language_info": {
   "codemirror_mode": {
    "name": "ipython",
    "version": 3
   },
   "file_extension": ".py",
   "mimetype": "text/x-python",
   "name": "python",
   "nbconvert_exporter": "python",
   "pygments_lexer": "ipython3",
   "version": "3.7.13"
  }
 },
 "nbformat": 4,
 "nbformat_minor": 5
}
