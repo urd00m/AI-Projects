{
 "cells": [
  {
   "cell_type": "code",
   "execution_count": 2,
   "id": "c3f7663d",
   "metadata": {},
   "outputs": [],
   "source": [
    "import torch\n",
    "from torch import nn\n",
    "from torch.utils.data import DataLoader\n",
    "from torchvision import datasets\n",
    "from torchvision.transforms import ToTensor"
   ]
  },
  {
   "cell_type": "code",
   "execution_count": 3,
   "id": "3e933e0d",
   "metadata": {},
   "outputs": [
    {
     "name": "stdout",
     "output_type": "stream",
     "text": [
      "Downloading http://fashion-mnist.s3-website.eu-central-1.amazonaws.com/train-images-idx3-ubyte.gz\n",
      "Downloading http://fashion-mnist.s3-website.eu-central-1.amazonaws.com/train-images-idx3-ubyte.gz to data/FashionMNIST/raw/train-images-idx3-ubyte.gz\n"
     ]
    },
    {
     "data": {
      "application/vnd.jupyter.widget-view+json": {
       "model_id": "6899400de20444fea3c2d441b9367485",
       "version_major": 2,
       "version_minor": 0
      },
      "text/plain": [
       "  0%|          | 0/26421880 [00:00<?, ?it/s]"
      ]
     },
     "metadata": {},
     "output_type": "display_data"
    },
    {
     "name": "stdout",
     "output_type": "stream",
     "text": [
      "Extracting data/FashionMNIST/raw/train-images-idx3-ubyte.gz to data/FashionMNIST/raw\n",
      "\n",
      "Downloading http://fashion-mnist.s3-website.eu-central-1.amazonaws.com/train-labels-idx1-ubyte.gz\n",
      "Downloading http://fashion-mnist.s3-website.eu-central-1.amazonaws.com/train-labels-idx1-ubyte.gz to data/FashionMNIST/raw/train-labels-idx1-ubyte.gz\n"
     ]
    },
    {
     "data": {
      "application/vnd.jupyter.widget-view+json": {
       "model_id": "2050712818694e4e888d3d72e41853a2",
       "version_major": 2,
       "version_minor": 0
      },
      "text/plain": [
       "  0%|          | 0/29515 [00:00<?, ?it/s]"
      ]
     },
     "metadata": {},
     "output_type": "display_data"
    },
    {
     "name": "stdout",
     "output_type": "stream",
     "text": [
      "Extracting data/FashionMNIST/raw/train-labels-idx1-ubyte.gz to data/FashionMNIST/raw\n",
      "\n",
      "Downloading http://fashion-mnist.s3-website.eu-central-1.amazonaws.com/t10k-images-idx3-ubyte.gz\n",
      "Downloading http://fashion-mnist.s3-website.eu-central-1.amazonaws.com/t10k-images-idx3-ubyte.gz to data/FashionMNIST/raw/t10k-images-idx3-ubyte.gz\n"
     ]
    },
    {
     "data": {
      "application/vnd.jupyter.widget-view+json": {
       "model_id": "6f366799930d478dac6e5b01fab02b38",
       "version_major": 2,
       "version_minor": 0
      },
      "text/plain": [
       "  0%|          | 0/4422102 [00:00<?, ?it/s]"
      ]
     },
     "metadata": {},
     "output_type": "display_data"
    },
    {
     "name": "stdout",
     "output_type": "stream",
     "text": [
      "Extracting data/FashionMNIST/raw/t10k-images-idx3-ubyte.gz to data/FashionMNIST/raw\n",
      "\n",
      "Downloading http://fashion-mnist.s3-website.eu-central-1.amazonaws.com/t10k-labels-idx1-ubyte.gz\n",
      "Downloading http://fashion-mnist.s3-website.eu-central-1.amazonaws.com/t10k-labels-idx1-ubyte.gz to data/FashionMNIST/raw/t10k-labels-idx1-ubyte.gz\n"
     ]
    },
    {
     "data": {
      "application/vnd.jupyter.widget-view+json": {
       "model_id": "769dbce71af247f897b6c07a3acaae8c",
       "version_major": 2,
       "version_minor": 0
      },
      "text/plain": [
       "  0%|          | 0/5148 [00:00<?, ?it/s]"
      ]
     },
     "metadata": {},
     "output_type": "display_data"
    },
    {
     "name": "stdout",
     "output_type": "stream",
     "text": [
      "Extracting data/FashionMNIST/raw/t10k-labels-idx1-ubyte.gz to data/FashionMNIST/raw\n",
      "\n"
     ]
    }
   ],
   "source": [
    "# Get data \n",
    "training_data = datasets.FashionMNIST(\n",
    "    root=\"data\",\n",
    "    train=True,\n",
    "    download=True,\n",
    "    transform=ToTensor(),\n",
    ")\n",
    "\n",
    "# Download test data from open datasets.\n",
    "test_data = datasets.FashionMNIST(\n",
    "    root=\"data\",\n",
    "    train=False,\n",
    "    download=True,\n",
    "    transform=ToTensor(),\n",
    ")"
   ]
  },
  {
   "cell_type": "code",
   "execution_count": 4,
   "id": "303b4fe2",
   "metadata": {},
   "outputs": [
    {
     "name": "stdout",
     "output_type": "stream",
     "text": [
      "Shape of X [N, C, H, W]: torch.Size([64, 1, 28, 28])\n",
      "Shape of y: torch.Size([64]) torch.int64\n"
     ]
    }
   ],
   "source": [
    "# Create dataloader  \n",
    "batch_size = 64\n",
    "\n",
    "# Create data loaders.\n",
    "train_dataloader = DataLoader(training_data, batch_size=batch_size)\n",
    "test_dataloader = DataLoader(test_data, batch_size=batch_size)\n",
    "\n",
    "for X, y in test_dataloader:\n",
    "    print(f\"Shape of X [N, C, H, W]: {X.shape}\")\n",
    "    print(f\"Shape of y: {y.shape} {y.dtype}\")\n",
    "    break "
   ]
  },
  {
   "cell_type": "code",
   "execution_count": 5,
   "id": "3446dd8e",
   "metadata": {},
   "outputs": [
    {
     "name": "stdout",
     "output_type": "stream",
     "text": [
      "Using cpu device\n"
     ]
    }
   ],
   "source": [
    "# Device \n",
    "device = \"cuda\" if torch.cuda.is_available() else \"cpu\"\n",
    "print(f\"Using {device} device\")\n"
   ]
  },
  {
   "cell_type": "code",
   "execution_count": 12,
   "id": "a820553f",
   "metadata": {},
   "outputs": [
    {
     "name": "stdout",
     "output_type": "stream",
     "text": [
      "NeuralNetwork(\n",
      "  (flatten): Flatten(start_dim=1, end_dim=-1)\n",
      "  (linear_relu_stack): Sequential(\n",
      "    (0): Linear(in_features=784, out_features=512, bias=True)\n",
      "    (1): ReLU()\n",
      "    (2): Linear(in_features=512, out_features=312, bias=True)\n",
      "    (3): ReLU()\n",
      "    (4): Linear(in_features=312, out_features=10, bias=True)\n",
      "  )\n",
      ")\n"
     ]
    }
   ],
   "source": [
    "# Model \n",
    "class NeuralNetwork(nn.Module):\n",
    "    def __init__(self):\n",
    "        super(NeuralNetwork, self).__init__()\n",
    "        self.flatten = nn.Flatten()\n",
    "        self.linear_relu_stack = nn.Sequential(\n",
    "            nn.Linear(28*28, 512),\n",
    "            nn.ReLU(),\n",
    "            nn.Linear(512, 312),\n",
    "            nn.ReLU(),\n",
    "            nn.Linear(312, 10)\n",
    "        )\n",
    "\n",
    "    def forward(self, x):\n",
    "        x = self.flatten(x)\n",
    "        logits = self.linear_relu_stack(x)\n",
    "        return logits\n",
    "\n",
    "model = NeuralNetwork().to(device)\n",
    "print(model)"
   ]
  },
  {
   "cell_type": "code",
   "execution_count": 22,
   "id": "2903d787",
   "metadata": {},
   "outputs": [],
   "source": [
    "# Loss function and optimizer \n",
    "loss_fn = nn.CrossEntropyLoss()\n",
    "optimizer = torch.optim.Adam(model.parameters(), lr=1e-3)"
   ]
  },
  {
   "cell_type": "code",
   "execution_count": 23,
   "id": "363bdeac",
   "metadata": {},
   "outputs": [],
   "source": [
    "# Training \n",
    "def train(dataloader, model, loss_fn, optimizer):\n",
    "    size = len(dataloader.dataset)\n",
    "    model.train()\n",
    "    for batch, (X, y) in enumerate(dataloader):\n",
    "        X, y = X.to(device), y.to(device)\n",
    "\n",
    "        # Compute prediction error\n",
    "        pred = model(X)\n",
    "        loss = loss_fn(pred, y)\n",
    "\n",
    "        # Backpropagation\n",
    "        optimizer.zero_grad()\n",
    "        loss.backward()\n",
    "        optimizer.step()\n",
    "\n",
    "        if batch % 100 == 0:\n",
    "            loss, current = loss.item(), batch * len(X)\n",
    "            print(f\"loss: {loss:>7f}  [{current:>5d}/{size:>5d}]\")"
   ]
  },
  {
   "cell_type": "code",
   "execution_count": 24,
   "id": "4dc3148c",
   "metadata": {},
   "outputs": [],
   "source": [
    "# See if model is working \n",
    "def test(dataloader, model, loss_fn):\n",
    "    size = len(dataloader.dataset)\n",
    "    num_batches = len(dataloader)\n",
    "    model.eval()\n",
    "    test_loss, correct = 0, 0\n",
    "    with torch.no_grad():\n",
    "        for X, y in dataloader:\n",
    "            X, y = X.to(device), y.to(device)\n",
    "            pred = model(X)\n",
    "            test_loss += loss_fn(pred, y).item()\n",
    "            correct += (pred.argmax(1) == y).type(torch.float).sum().item()\n",
    "    test_loss /= num_batches\n",
    "    correct /= size\n",
    "    print(f\"Test Error: \\n Accuracy: {(100*correct):>0.1f}%, Avg loss: {test_loss:>8f} \\n\")"
   ]
  },
  {
   "cell_type": "code",
   "execution_count": 25,
   "id": "a52c0f88",
   "metadata": {
    "scrolled": true
   },
   "outputs": [
    {
     "name": "stdout",
     "output_type": "stream",
     "text": [
      "Epoch 1\n",
      "-------------------------------\n",
      "loss: 0.272898  [    0/60000]\n",
      "loss: 0.153371  [ 6400/60000]\n",
      "loss: 0.238665  [12800/60000]\n",
      "loss: 0.206741  [19200/60000]\n",
      "loss: 0.234507  [25600/60000]\n",
      "loss: 0.253039  [32000/60000]\n",
      "loss: 0.213380  [38400/60000]\n",
      "loss: 0.255204  [44800/60000]\n",
      "loss: 0.202445  [51200/60000]\n",
      "loss: 0.196814  [57600/60000]\n",
      "Test Error: \n",
      " Accuracy: 88.2%, Avg loss: 0.373671 \n",
      "\n",
      "Epoch 2\n",
      "-------------------------------\n",
      "loss: 0.134051  [    0/60000]\n",
      "loss: 0.168127  [ 6400/60000]\n",
      "loss: 0.202683  [12800/60000]\n",
      "loss: 0.226282  [19200/60000]\n",
      "loss: 0.292221  [25600/60000]\n",
      "loss: 0.213263  [32000/60000]\n",
      "loss: 0.142314  [38400/60000]\n",
      "loss: 0.218527  [44800/60000]\n",
      "loss: 0.234342  [51200/60000]\n",
      "loss: 0.199279  [57600/60000]\n",
      "Test Error: \n",
      " Accuracy: 88.3%, Avg loss: 0.365674 \n",
      "\n",
      "Epoch 3\n",
      "-------------------------------\n",
      "loss: 0.161832  [    0/60000]\n",
      "loss: 0.182679  [ 6400/60000]\n",
      "loss: 0.194521  [12800/60000]\n",
      "loss: 0.142119  [19200/60000]\n",
      "loss: 0.297156  [25600/60000]\n",
      "loss: 0.190447  [32000/60000]\n",
      "loss: 0.141630  [38400/60000]\n",
      "loss: 0.202461  [44800/60000]\n",
      "loss: 0.125364  [51200/60000]\n",
      "loss: 0.204238  [57600/60000]\n",
      "Test Error: \n",
      " Accuracy: 88.0%, Avg loss: 0.391475 \n",
      "\n",
      "Epoch 4\n",
      "-------------------------------\n",
      "loss: 0.133973  [    0/60000]\n",
      "loss: 0.110767  [ 6400/60000]\n",
      "loss: 0.201055  [12800/60000]\n",
      "loss: 0.126326  [19200/60000]\n",
      "loss: 0.235895  [25600/60000]\n",
      "loss: 0.186606  [32000/60000]\n",
      "loss: 0.124809  [38400/60000]\n",
      "loss: 0.182533  [44800/60000]\n",
      "loss: 0.158394  [51200/60000]\n",
      "loss: 0.142485  [57600/60000]\n",
      "Test Error: \n",
      " Accuracy: 87.7%, Avg loss: 0.412615 \n",
      "\n",
      "Epoch 5\n",
      "-------------------------------\n",
      "loss: 0.121209  [    0/60000]\n",
      "loss: 0.140251  [ 6400/60000]\n",
      "loss: 0.143365  [12800/60000]\n",
      "loss: 0.167834  [19200/60000]\n",
      "loss: 0.164055  [25600/60000]\n",
      "loss: 0.162864  [32000/60000]\n",
      "loss: 0.092290  [38400/60000]\n",
      "loss: 0.228874  [44800/60000]\n",
      "loss: 0.284591  [51200/60000]\n",
      "loss: 0.177794  [57600/60000]\n",
      "Test Error: \n",
      " Accuracy: 88.0%, Avg loss: 0.422567 \n",
      "\n",
      "Epoch 6\n",
      "-------------------------------\n",
      "loss: 0.111077  [    0/60000]\n",
      "loss: 0.126993  [ 6400/60000]\n",
      "loss: 0.182154  [12800/60000]\n",
      "loss: 0.121934  [19200/60000]\n",
      "loss: 0.160889  [25600/60000]\n",
      "loss: 0.141138  [32000/60000]\n",
      "loss: 0.094886  [38400/60000]\n",
      "loss: 0.185556  [44800/60000]\n",
      "loss: 0.147507  [51200/60000]\n",
      "loss: 0.192016  [57600/60000]\n",
      "Test Error: \n",
      " Accuracy: 87.7%, Avg loss: 0.410910 \n",
      "\n",
      "Epoch 7\n",
      "-------------------------------\n",
      "loss: 0.138600  [    0/60000]\n",
      "loss: 0.125053  [ 6400/60000]\n",
      "loss: 0.196059  [12800/60000]\n",
      "loss: 0.149219  [19200/60000]\n",
      "loss: 0.155828  [25600/60000]\n",
      "loss: 0.222469  [32000/60000]\n",
      "loss: 0.111168  [38400/60000]\n",
      "loss: 0.166075  [44800/60000]\n",
      "loss: 0.181846  [51200/60000]\n",
      "loss: 0.151495  [57600/60000]\n",
      "Test Error: \n",
      " Accuracy: 88.5%, Avg loss: 0.406419 \n",
      "\n",
      "Epoch 8\n",
      "-------------------------------\n",
      "loss: 0.127437  [    0/60000]\n",
      "loss: 0.119420  [ 6400/60000]\n",
      "loss: 0.203156  [12800/60000]\n",
      "loss: 0.150686  [19200/60000]\n",
      "loss: 0.186047  [25600/60000]\n",
      "loss: 0.228093  [32000/60000]\n",
      "loss: 0.155769  [38400/60000]\n",
      "loss: 0.211060  [44800/60000]\n",
      "loss: 0.092213  [51200/60000]\n",
      "loss: 0.144634  [57600/60000]\n",
      "Test Error: \n",
      " Accuracy: 88.2%, Avg loss: 0.428464 \n",
      "\n",
      "Epoch 9\n",
      "-------------------------------\n",
      "loss: 0.086396  [    0/60000]\n",
      "loss: 0.122276  [ 6400/60000]\n",
      "loss: 0.185129  [12800/60000]\n",
      "loss: 0.150585  [19200/60000]\n",
      "loss: 0.106372  [25600/60000]\n",
      "loss: 0.154635  [32000/60000]\n",
      "loss: 0.097686  [38400/60000]\n",
      "loss: 0.165566  [44800/60000]\n",
      "loss: 0.114580  [51200/60000]\n",
      "loss: 0.190590  [57600/60000]\n",
      "Test Error: \n",
      " Accuracy: 88.6%, Avg loss: 0.421578 \n",
      "\n",
      "Epoch 10\n",
      "-------------------------------\n",
      "loss: 0.096179  [    0/60000]\n",
      "loss: 0.251210  [ 6400/60000]\n",
      "loss: 0.129696  [12800/60000]\n",
      "loss: 0.129367  [19200/60000]\n",
      "loss: 0.099596  [25600/60000]\n",
      "loss: 0.164582  [32000/60000]\n",
      "loss: 0.100451  [38400/60000]\n",
      "loss: 0.216934  [44800/60000]\n",
      "loss: 0.098317  [51200/60000]\n",
      "loss: 0.123806  [57600/60000]\n",
      "Test Error: \n",
      " Accuracy: 87.9%, Avg loss: 0.476086 \n",
      "\n",
      "Done!\n"
     ]
    }
   ],
   "source": [
    "# training \n",
    "epochs = 10\n",
    "for t in range(epochs):\n",
    "    print(f\"Epoch {t+1}\\n-------------------------------\")\n",
    "    train(train_dataloader, model, loss_fn, optimizer)\n",
    "    test(test_dataloader, model, loss_fn)\n",
    "print(\"Done!\")"
   ]
  },
  {
   "cell_type": "code",
   "execution_count": 27,
   "id": "de87901e",
   "metadata": {},
   "outputs": [
    {
     "name": "stdout",
     "output_type": "stream",
     "text": [
      "Predicted: \"Ankle boot\", Actual: \"Ankle boot\"\n",
      "Predicted: \"Pullover\", Actual: \"Pullover\"\n",
      "Predicted: \"Trouser\", Actual: \"Trouser\"\n",
      "Predicted: \"Trouser\", Actual: \"Trouser\"\n",
      "Predicted: \"Shirt\", Actual: \"Shirt\"\n"
     ]
    }
   ],
   "source": [
    "# Inference \n",
    "classes = [\n",
    "    \"T-shirt/top\",\n",
    "    \"Trouser\",\n",
    "    \"Pullover\",\n",
    "    \"Dress\",\n",
    "    \"Coat\",\n",
    "    \"Sandal\",\n",
    "    \"Shirt\",\n",
    "    \"Sneaker\",\n",
    "    \"Bag\",\n",
    "    \"Ankle boot\",\n",
    "]\n",
    "\n",
    "model.eval()\n",
    "for i in range(5):\n",
    "    x, y = test_data[i][0], test_data[i][1]\n",
    "    with torch.no_grad():\n",
    "        pred = model(x)\n",
    "        predicted, actual = classes[pred[0].argmax(0)], classes[y]\n",
    "        print(f'Predicted: \"{predicted}\", Actual: \"{actual}\"')"
   ]
  },
  {
   "cell_type": "code",
   "execution_count": null,
   "id": "7c8dc834",
   "metadata": {},
   "outputs": [],
   "source": []
  }
 ],
 "metadata": {
  "kernelspec": {
   "display_name": "Python 3 (ipykernel)",
   "language": "python",
   "name": "python3"
  },
  "language_info": {
   "codemirror_mode": {
    "name": "ipython",
    "version": 3
   },
   "file_extension": ".py",
   "mimetype": "text/x-python",
   "name": "python",
   "nbconvert_exporter": "python",
   "pygments_lexer": "ipython3",
   "version": "3.7.13"
  }
 },
 "nbformat": 4,
 "nbformat_minor": 5
}
