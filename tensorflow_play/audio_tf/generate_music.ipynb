{
 "cells": [
  {
   "cell_type": "code",
   "execution_count": 2,
   "id": "d9d37873",
   "metadata": {},
   "outputs": [
    {
     "ename": "SyntaxError",
     "evalue": "invalid syntax (fluidsynth.py, line 36)",
     "output_type": "error",
     "traceback": [
      "Traceback \u001b[0;36m(most recent call last)\u001b[0m:\n",
      "  File \u001b[1;32m\"/Users/alanwang/opt/anaconda3/envs/tf/lib/python3.7/site-packages/IPython/core/interactiveshell.py\"\u001b[0m, line \u001b[1;32m3457\u001b[0m, in \u001b[1;35mrun_code\u001b[0m\n    exec(code_obj, self.user_global_ns, self.user_ns)\n",
      "\u001b[0;36m  File \u001b[0;32m\"/var/folders/8p/pknqq5q17clfh88998yvpqw80000gn/T/ipykernel_94687/2655790278.py\"\u001b[0;36m, line \u001b[0;32m3\u001b[0;36m, in \u001b[0;35m<module>\u001b[0;36m\u001b[0m\n\u001b[0;31m    import fluidsynth\u001b[0m\n",
      "\u001b[0;36m  File \u001b[0;32m\"/Users/alanwang/opt/anaconda3/envs/tf/lib/python3.7/site-packages/fluidsynth.py\"\u001b[0;36m, line \u001b[0;32m36\u001b[0m\n\u001b[0;31m    raise ImportError, \"Couldn't find the FluidSynth library.\"\u001b[0m\n\u001b[0m                     ^\u001b[0m\n\u001b[0;31mSyntaxError\u001b[0m\u001b[0;31m:\u001b[0m invalid syntax\n"
     ]
    }
   ],
   "source": [
    "import collections\n",
    "import datetime\n",
    "import fluidsynth\n",
    "import glob\n",
    "import numpy as np\n",
    "import pathlib\n",
    "import pandas as pd\n",
    "import pretty_midi\n",
    "import seaborn as sns\n",
    "import tensorflow as tf\n",
    "\n",
    "from IPython import display\n",
    "from matplotlib import pyplot as plt\n",
    "from typing import Dict, List, Optional, Sequence, Tuple"
   ]
  },
  {
   "cell_type": "code",
   "execution_count": null,
   "id": "2831c66d",
   "metadata": {},
   "outputs": [],
   "source": [
    "seed = 42\n",
    "tf.random.set_seed(seed)\n",
    "np.random.seed(seed)\n",
    "\n",
    "# Sampling rate for audio playback\n",
    "_SAMPLING_RATE = 16000"
   ]
  },
  {
   "cell_type": "code",
   "execution_count": null,
   "id": "1dc25488",
   "metadata": {},
   "outputs": [],
   "source": [
    "# get data\n",
    "data_dir = pathlib.Path('data/maestro-v2.0.0')\n",
    "if not data_dir.exists():\n",
    "    tf.keras.utils.get_file(\n",
    "        'maestro-v2.0.0-midi.zip',\n",
    "        origin='https://storage.googleapis.com/magentadata/datasets/maestro/v2.0.0/maestro-v2.0.0-midi.zip',\n",
    "        extract=True,\n",
    "        cache_dir='.', cache_subdir='data',\n",
    "    )"
   ]
  },
  {
   "cell_type": "code",
   "execution_count": null,
   "id": "9a26278d",
   "metadata": {},
   "outputs": [],
   "source": [
    "# dataset info \n",
    "filenames = glob.glob(str(data_dir/'**/*.mid*'))\n",
    "print('Number of files:', len(filenames))"
   ]
  },
  {
   "cell_type": "code",
   "execution_count": null,
   "id": "774c2358",
   "metadata": {},
   "outputs": [],
   "source": [
    "# Inspect MIDI file \n",
    "sample_file = filenames[1]\n",
    "print(sample_file)\n",
    "\n",
    "pm = pretty_midi.PrettyMIDI(sample_file)\n",
    "def display_audio(pm: pretty_midi.PrettyMIDI, seconds=30):\n",
    "    waveform = pm.fluidsynth(fs=_SAMPLING_RATE)\n",
    "    # Take a sample of the generated waveform to mitigate kernel resets\n",
    "    waveform_short = waveform[:seconds*_SAMPLING_RATE]\n",
    "    return display.Audio(waveform_short, rate=_SAMPLING_RATE)\n",
    "display_audio(pm)\n"
   ]
  },
  {
   "cell_type": "code",
   "execution_count": null,
   "id": "16f9ffd0",
   "metadata": {},
   "outputs": [],
   "source": []
  }
 ],
 "metadata": {
  "kernelspec": {
   "display_name": "Python 3 (ipykernel)",
   "language": "python",
   "name": "python3"
  },
  "language_info": {
   "codemirror_mode": {
    "name": "ipython",
    "version": 3
   },
   "file_extension": ".py",
   "mimetype": "text/x-python",
   "name": "python",
   "nbconvert_exporter": "python",
   "pygments_lexer": "ipython3",
   "version": "3.7.13"
  }
 },
 "nbformat": 4,
 "nbformat_minor": 5
}
