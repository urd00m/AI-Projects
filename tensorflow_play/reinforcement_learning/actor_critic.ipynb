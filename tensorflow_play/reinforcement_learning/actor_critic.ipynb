{
 "cells": [
  {
   "cell_type": "code",
   "execution_count": 1,
   "id": "7e283edd",
   "metadata": {},
   "outputs": [
    {
     "name": "stderr",
     "output_type": "stream",
     "text": [
      "/Users/alanwang/opt/anaconda3/envs/tf/lib/python3.7/site-packages/gym/envs/registration.py:593: UserWarning: \u001b[33mWARN: The environment CartPole-v0 is out of date. You should consider upgrading to version `v1`.\u001b[0m\n",
      "  f\"The environment {id} is out of date. You should consider \"\n",
      "/Users/alanwang/opt/anaconda3/envs/tf/lib/python3.7/site-packages/gym/core.py:330: DeprecationWarning: \u001b[33mWARN: Initializing wrapper in old step API which returns one bool instead of two. It is recommended to set `new_step_api=True` to use new step API. This will be the default behaviour in future.\u001b[0m\n",
      "  \"Initializing wrapper in old step API which returns one bool instead of two. It is recommended to set `new_step_api=True` to use new step API. This will be the default behaviour in future.\"\n",
      "/Users/alanwang/opt/anaconda3/envs/tf/lib/python3.7/site-packages/gym/wrappers/step_api_compatibility.py:40: DeprecationWarning: \u001b[33mWARN: Initializing environment in old step API which returns one bool instead of two. It is recommended to set `new_step_api=True` to use new step API. This will be the default behaviour in future.\u001b[0m\n",
      "  \"Initializing environment in old step API which returns one bool instead of two. It is recommended to set `new_step_api=True` to use new step API. This will be the default behaviour in future.\"\n",
      "/Users/alanwang/opt/anaconda3/envs/tf/lib/python3.7/site-packages/gym/core.py:269: DeprecationWarning: \u001b[33mWARN: Function `env.seed(seed)` is marked as deprecated and will be removed in the future. Please use `env.reset(seed=seed)` instead.\u001b[0m\n",
      "  \"Function `env.seed(seed)` is marked as deprecated and will be removed in the future. \"\n"
     ]
    }
   ],
   "source": [
    "import collections\n",
    "import gym\n",
    "import numpy as np\n",
    "import statistics\n",
    "import tensorflow as tf\n",
    "import tqdm\n",
    "\n",
    "from matplotlib import pyplot as plt\n",
    "from tensorflow.keras import layers\n",
    "from typing import Any, List, Sequence, Tuple\n",
    "\n",
    "\n",
    "# Create the environment\n",
    "env = gym.make(\"CartPole-v0\")\n",
    "\n",
    "# Set seed for experiment reproducibility\n",
    "seed = 42\n",
    "env.seed(seed)\n",
    "tf.random.set_seed(seed)\n",
    "np.random.seed(seed)\n",
    "\n",
    "# Small epsilon value for stabilizing division operations\n",
    "eps = np.finfo(np.float32).eps.item()"
   ]
  },
  {
   "cell_type": "code",
   "execution_count": 2,
   "id": "f4a91c05",
   "metadata": {},
   "outputs": [
    {
     "name": "stderr",
     "output_type": "stream",
     "text": [
      "2022-07-15 14:07:53.257237: I tensorflow/core/platform/cpu_feature_guard.cc:193] This TensorFlow binary is optimized with oneAPI Deep Neural Network Library (oneDNN) to use the following CPU instructions in performance-critical operations:  AVX2 AVX512F AVX512_VNNI FMA\n",
      "To enable them in other operations, rebuild TensorFlow with the appropriate compiler flags.\n"
     ]
    }
   ],
   "source": [
    "# Model \n",
    "class ActorCritic(tf.keras.Model):\n",
    "    \"\"\"Combined actor-critic network.\"\"\"\n",
    "\n",
    "    def __init__(\n",
    "                  self, \n",
    "                  num_actions: int, \n",
    "                  num_hidden_units: int):\n",
    "        \"\"\"Initialize.\"\"\"\n",
    "        super().__init__()\n",
    "\n",
    "        self.common = layers.Dense(num_hidden_units, activation=\"relu\")\n",
    "        self.actor = layers.Dense(num_actions)\n",
    "        self.critic = layers.Dense(1)\n",
    "\n",
    "    def call(self, inputs: tf.Tensor) -> Tuple[tf.Tensor, tf.Tensor]:\n",
    "        x = self.common(inputs)\n",
    "        return self.actor(x), self.critic(x)\n",
    "    \n",
    "num_actions = env.action_space.n  # 2\n",
    "num_hidden_units = 128\n",
    "\n",
    "model = ActorCritic(num_actions, num_hidden_units)"
   ]
  },
  {
   "cell_type": "code",
   "execution_count": 3,
   "id": "7778a39d",
   "metadata": {},
   "outputs": [],
   "source": [
    "# create environment for training \n",
    "# Wrap OpenAI Gym's `env.step` call as an operation in a TensorFlow function.\n",
    "# This would allow it to be included in a callable TensorFlow graph.\n",
    "def env_step(action: np.ndarray) -> Tuple[np.ndarray, np.ndarray, np.ndarray]:\n",
    "    \"\"\"Returns state, reward and done flag given an action.\"\"\"\n",
    "\n",
    "    state, reward, done, _ = env.step(action)\n",
    "    return (state.astype(np.float32), \n",
    "          np.array(reward, np.int32), \n",
    "          np.array(done, np.int32))\n",
    "\n",
    "\n",
    "def tf_env_step(action: tf.Tensor) -> List[tf.Tensor]:\n",
    "    return tf.numpy_function(env_step, [action], \n",
    "                           [tf.float32, tf.int32, tf.int32])\n",
    "\n",
    "# Function to run a single episode \n",
    "def run_episode(\n",
    "                initial_state: tf.Tensor,  \n",
    "                model: tf.keras.Model, \n",
    "                max_steps: int) -> Tuple[tf.Tensor, tf.Tensor, tf.Tensor]:\n",
    "    \"\"\"Runs a single episode to collect training data.\"\"\"\n",
    "    action_probs = tf.TensorArray(dtype=tf.float32, size=0, dynamic_size=True)\n",
    "    values = tf.TensorArray(dtype=tf.float32, size=0, dynamic_size=True)\n",
    "    rewards = tf.TensorArray(dtype=tf.int32, size=0, dynamic_size=True)\n",
    "\n",
    "    initial_state_shape = initial_state.shape\n",
    "    state = initial_state\n",
    "    for t in tf.range(max_steps):\n",
    "    #for t in range(max_steps):\n",
    "        # Convert state into a batched tensor (batch size = 1)\n",
    "        state = tf.expand_dims(state, 0)\n",
    "\n",
    "        # Run the model and to get action probabilities and critic value\n",
    "        action_logits_t, value = model(state)\n",
    "\n",
    "        # Sample next action from the action probability distribution\n",
    "        action = tf.random.categorical(action_logits_t, 1)[0, 0]\n",
    "        action_probs_t = tf.nn.softmax(action_logits_t)\n",
    "\n",
    "        # Store critic values\n",
    "        values = values.write(t, tf.squeeze(value))\n",
    "\n",
    "        # Store log probability of the action chosen\n",
    "        action_probs = action_probs.write(t, action_probs_t[0, action])\n",
    "\n",
    "        # Apply action to the environment to get next state and reward\n",
    "        state, reward, done = tf_env_step(action)\n",
    "        state.set_shape(initial_state_shape)\n",
    "\n",
    "        # Store reward\n",
    "        rewards = rewards.write(t, reward)\n",
    "        \n",
    "        if tf.cast(done, tf.bool): \n",
    "            break\n",
    "        #t = tf.cond(tf.equal(done, True), lambda: 10000000, lambda: t)\n",
    "\n",
    "    action_probs = action_probs.stack()\n",
    "    values = values.stack()\n",
    "    rewards = rewards.stack()\n",
    "\n",
    "    return action_probs, values, rewards"
   ]
  },
  {
   "cell_type": "code",
   "execution_count": 4,
   "id": "f1595afc",
   "metadata": {},
   "outputs": [],
   "source": [
    "# Expected Returns \n",
    "def get_expected_return(\n",
    "                        rewards: tf.Tensor, \n",
    "                        gamma: float, \n",
    "                        standardize: bool = True) -> tf.Tensor:\n",
    "    \"\"\"Compute expected returns per timestep.\"\"\"\n",
    "    n = tf.shape(rewards)[0]\n",
    "    returns = tf.TensorArray(dtype=tf.float32, size=n)\n",
    "\n",
    "    # Start from the end of `rewards` and accumulate reward sums\n",
    "    # into the `returns` array\n",
    "    rewards = tf.cast(rewards[::-1], dtype=tf.float32)\n",
    "    discounted_sum = tf.constant(0.0)\n",
    "    discounted_sum_shape = discounted_sum.shape\n",
    "    for i in tf.range(n):\n",
    "        reward = rewards[i]\n",
    "        discounted_sum = reward + gamma * discounted_sum\n",
    "        discounted_sum.set_shape(discounted_sum_shape)\n",
    "        returns = returns.write(i, discounted_sum)\n",
    "    returns = returns.stack()[::-1]\n",
    "\n",
    "    if standardize:\n",
    "        returns = ((returns - tf.math.reduce_mean(returns)) / \n",
    "               (tf.math.reduce_std(returns) + eps))\n",
    "    return returns"
   ]
  },
  {
   "cell_type": "code",
   "execution_count": 5,
   "id": "eabc7045",
   "metadata": {},
   "outputs": [],
   "source": [
    "# Loss \n",
    "huber_loss = tf.keras.losses.Huber(reduction=tf.keras.losses.Reduction.SUM)\n",
    "\n",
    "def compute_loss(\n",
    "                    action_probs: tf.Tensor,  \n",
    "                    values: tf.Tensor,  \n",
    "                    returns: tf.Tensor) -> tf.Tensor:\n",
    "    \"\"\"Computes the combined actor-critic loss.\"\"\"\n",
    "\n",
    "    advantage = returns - values\n",
    "\n",
    "    action_log_probs = tf.math.log(action_probs)\n",
    "    actor_loss = -tf.math.reduce_sum(action_log_probs * advantage)\n",
    "\n",
    "    critic_loss = huber_loss(values, returns)\n",
    "\n",
    "    return actor_loss + critic_loss"
   ]
  },
  {
   "cell_type": "code",
   "execution_count": 6,
   "id": "f306ecd7",
   "metadata": {},
   "outputs": [],
   "source": [
    "# Training \n",
    "optimizer = tf.keras.optimizers.Adam(learning_rate=0.01)\n",
    "\n",
    "\n",
    "@tf.function\n",
    "def train_step(\n",
    "                initial_state: tf.Tensor, \n",
    "                model: tf.keras.Model, \n",
    "                optimizer: tf.keras.optimizers.Optimizer, \n",
    "                gamma: float, \n",
    "                max_steps_per_episode: int) -> tf.Tensor:\n",
    "    \"\"\"Runs a model training step.\"\"\"\n",
    "\n",
    "    with tf.GradientTape() as tape:\n",
    "        # Run the model for one episode to collect training data\n",
    "        action_probs, values, rewards = run_episode(\n",
    "            initial_state, model, max_steps_per_episode) \n",
    "\n",
    "        # Calculate expected returns\n",
    "        returns = get_expected_return(rewards, gamma)\n",
    "\n",
    "        # Convert training data to appropriate TF tensor shapes\n",
    "        action_probs, values, returns = [\n",
    "            tf.expand_dims(x, 1) for x in [action_probs, values, returns]] \n",
    "\n",
    "        # Calculating loss values to update our network\n",
    "        loss = compute_loss(action_probs, values, returns)\n",
    "\n",
    "    # Compute the gradients from the loss\n",
    "    grads = tape.gradient(loss, model.trainable_variables)\n",
    "\n",
    "    # Apply the gradients to the model's parameters\n",
    "    optimizer.apply_gradients(zip(grads, model.trainable_variables))\n",
    "\n",
    "    episode_reward = tf.math.reduce_sum(rewards)\n",
    "\n",
    "    return episode_reward"
   ]
  },
  {
   "cell_type": "code",
   "execution_count": 7,
   "id": "fb4f61e3",
   "metadata": {},
   "outputs": [
    {
     "name": "stderr",
     "output_type": "stream",
     "text": [
      "\r",
      "  0%|                                                 | 0/10000 [00:00<?, ?it/s]"
     ]
    },
    {
     "name": "stdout",
     "output_type": "stream",
     "text": [
      "WARNING:tensorflow:From /var/folders/8p/pknqq5q17clfh88998yvpqw80000gn/T/ipykernel_30012/2970036444.py:20: experimental_run_functions_eagerly (from tensorflow.python.eager.def_function) is deprecated and will be removed in a future version.\n",
      "Instructions for updating:\n",
      "Use `tf.config.run_functions_eagerly` instead of the experimental version.\n"
     ]
    },
    {
     "name": "stderr",
     "output_type": "stream",
     "text": [
      "Episode 875:   9%| | 875/10000 [06:44<1:10:17,  2.16it/s, episode_reward=200, ru"
     ]
    },
    {
     "name": "stdout",
     "output_type": "stream",
     "text": [
      "\n",
      "Solved at episode 875: average reward: 195.05!\n"
     ]
    },
    {
     "name": "stderr",
     "output_type": "stream",
     "text": [
      "\n"
     ]
    }
   ],
   "source": [
    "# Training \n",
    "min_episodes_criterion = 100\n",
    "max_episodes = 10000\n",
    "max_steps_per_episode = 1000\n",
    "\n",
    "# Cartpole-v0 is considered solved if average reward is >= 195 over 100 \n",
    "# consecutive trials\n",
    "reward_threshold = 195\n",
    "running_reward = 0\n",
    "\n",
    "# Discount factor for future rewards\n",
    "gamma = 0.99\n",
    "\n",
    "# Keep last episodes reward\n",
    "episodes_reward: collections.deque = collections.deque(maxlen=min_episodes_criterion)\n",
    "\n",
    "with tqdm.trange(max_episodes) as t:\n",
    "    for i in t:\n",
    "        initial_state = tf.constant(env.reset(), dtype=tf.float32)\n",
    "        tf.config.experimental_run_functions_eagerly(True)\n",
    "        episode_reward = int(train_step(\n",
    "            initial_state, model, optimizer, gamma, max_steps_per_episode))\n",
    "\n",
    "        episodes_reward.append(episode_reward)\n",
    "        running_reward = statistics.mean(episodes_reward)\n",
    "\n",
    "        t.set_description(f'Episode {i}')\n",
    "        t.set_postfix(episode_reward=episode_reward, running_reward=running_reward)\n",
    "\n",
    "        # Show average episode reward every 10 episodes\n",
    "        if i % 10 == 0:\n",
    "            pass # print(f'Episode {i}: average reward: {avg_reward}')\n",
    "\n",
    "        if running_reward > reward_threshold and i >= min_episodes_criterion:  \n",
    "            break\n",
    "\n",
    "print(f'\\nSolved at episode {i}: average reward: {running_reward:.2f}!')"
   ]
  },
  {
   "cell_type": "code",
   "execution_count": 8,
   "id": "0107706f",
   "metadata": {},
   "outputs": [
    {
     "name": "stderr",
     "output_type": "stream",
     "text": [
      "/Users/alanwang/opt/anaconda3/envs/tf/lib/python3.7/site-packages/gym/core.py:52: DeprecationWarning: \u001b[33mWARN: The argument mode in render method is deprecated; use render_mode during environment initialization instead.\n",
      "See here for more information: https://www.gymlibrary.ml/content/api/\u001b[0m\n",
      "  \"The argument mode in render method is deprecated; \"\n"
     ]
    }
   ],
   "source": [
    "# visualize training \n",
    "# Render an episode and save as a GIF file\n",
    "\n",
    "from IPython import display as ipythondisplay\n",
    "from PIL import Image\n",
    "from pyvirtualdisplay import Display\n",
    "\n",
    "\n",
    "display = Display(visible=0, size=(400, 300))\n",
    "display.start()\n",
    "\n",
    "\n",
    "def render_episode(env: gym.Env, model: tf.keras.Model, max_steps: int): \n",
    "    screen = env.render(mode='rgb_array')\n",
    "    im = Image.fromarray(screen)\n",
    "\n",
    "    images = [im]\n",
    "\n",
    "    state = tf.constant(env.reset(), dtype=tf.float32)\n",
    "    for i in range(1, max_steps + 1):\n",
    "        state = tf.expand_dims(state, 0)\n",
    "        action_probs, _ = model(state)\n",
    "        action = np.argmax(np.squeeze(action_probs))\n",
    "\n",
    "        state, _, done, _ = env.step(action)\n",
    "        state = tf.constant(state, dtype=tf.float32)\n",
    "\n",
    "        # Render screen every 10 steps\n",
    "        if i % 10 == 0:\n",
    "            screen = env.render(mode='rgb_array')\n",
    "            images.append(Image.fromarray(screen))\n",
    "\n",
    "        if done:\n",
    "            break\n",
    "\n",
    "    return images\n",
    "\n",
    "\n",
    "# Save GIF image\n",
    "images = render_episode(env, model, max_steps_per_episode)\n",
    "image_file = 'cartpole-v0.gif'\n",
    "# loop=0: loop forever, duration=1: play each frame for 1ms\n",
    "images[0].save(\n",
    "    image_file, save_all=True, append_images=images[1:], loop=0, duration=1)"
   ]
  },
  {
   "cell_type": "code",
   "execution_count": 9,
   "id": "ef3475ab",
   "metadata": {},
   "outputs": [
    {
     "data": {
      "text/html": [
       "<img src=\"data:image/gif;base64,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\"/>"
      ],
      "text/plain": [
       "<IPython.core.display.HTML object>"
      ]
     },
     "execution_count": 9,
     "metadata": {},
     "output_type": "execute_result"
    }
   ],
   "source": [
    "import tensorflow_docs.vis.embed as embed\n",
    "embed.embed_file(image_file)"
   ]
  },
  {
   "cell_type": "markdown",
   "id": "9a36c9be",
   "metadata": {},
   "source": [
    "# Running on untrained model "
   ]
  },
  {
   "cell_type": "code",
   "execution_count": 13,
   "id": "e8b5bffa",
   "metadata": {},
   "outputs": [],
   "source": [
    "# Grab model \n",
    "model_untrained = ActorCritic(num_actions, num_hidden_units)"
   ]
  },
  {
   "cell_type": "code",
   "execution_count": 14,
   "id": "4c9725c0",
   "metadata": {},
   "outputs": [
    {
     "name": "stderr",
     "output_type": "stream",
     "text": [
      "/Users/alanwang/opt/anaconda3/envs/tf/lib/python3.7/site-packages/gym/core.py:52: DeprecationWarning: \u001b[33mWARN: The argument mode in render method is deprecated; use render_mode during environment initialization instead.\n",
      "See here for more information: https://www.gymlibrary.ml/content/api/\u001b[0m\n",
      "  \"The argument mode in render method is deprecated; \"\n"
     ]
    }
   ],
   "source": [
    "# Visualize \n",
    "display = Display(visible=0, size=(400, 300))\n",
    "display.start()\n",
    "\n",
    "\n",
    "def render_episode(env: gym.Env, model: tf.keras.Model, max_steps: int): \n",
    "    screen = env.render(mode='rgb_array')\n",
    "    im = Image.fromarray(screen)\n",
    "\n",
    "    images = [im]\n",
    "\n",
    "    state = tf.constant(env.reset(), dtype=tf.float32)\n",
    "    for i in range(1, max_steps + 1):\n",
    "        state = tf.expand_dims(state, 0)\n",
    "        action_probs, _ = model(state)\n",
    "        action = np.argmax(np.squeeze(action_probs))\n",
    "\n",
    "        state, _, done, _ = env.step(action)\n",
    "        state = tf.constant(state, dtype=tf.float32)\n",
    "\n",
    "        # Render screen every 10 steps\n",
    "        if i % 10 == 0:\n",
    "            screen = env.render(mode='rgb_array')\n",
    "            images.append(Image.fromarray(screen))\n",
    "\n",
    "        if done:\n",
    "            break\n",
    "\n",
    "    return images\n",
    "\n",
    "\n",
    "# Save GIF image\n",
    "images = render_episode(env, model_untrained, max_steps_per_episode)\n",
    "image_file = 'cartpole-v0.gif'\n",
    "# loop=0: loop forever, duration=1: play each frame for 1ms\n",
    "images[0].save(\n",
    "    image_file, save_all=True, append_images=images[1:], loop=0, duration=1)"
   ]
  },
  {
   "cell_type": "code",
   "execution_count": 15,
   "id": "f9013b86",
   "metadata": {},
   "outputs": [
    {
     "data": {
      "text/html": [
       "<img src=\"data:image/gif;base64,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\"/>"
      ],
      "text/plain": [
       "<IPython.core.display.HTML object>"
      ]
     },
     "execution_count": 15,
     "metadata": {},
     "output_type": "execute_result"
    }
   ],
   "source": [
    "import tensorflow_docs.vis.embed as embed\n",
    "embed.embed_file(image_file)"
   ]
  },
  {
   "cell_type": "code",
   "execution_count": null,
   "id": "e4854cf0",
   "metadata": {},
   "outputs": [],
   "source": []
  }
 ],
 "metadata": {
  "kernelspec": {
   "display_name": "Python 3 (ipykernel)",
   "language": "python",
   "name": "python3"
  },
  "language_info": {
   "codemirror_mode": {
    "name": "ipython",
    "version": 3
   },
   "file_extension": ".py",
   "mimetype": "text/x-python",
   "name": "python",
   "nbconvert_exporter": "python",
   "pygments_lexer": "ipython3",
   "version": "3.7.13"
  }
 },
 "nbformat": 4,
 "nbformat_minor": 5
}
