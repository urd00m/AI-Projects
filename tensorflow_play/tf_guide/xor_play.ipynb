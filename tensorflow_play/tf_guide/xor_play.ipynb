{
 "cells": [
  {
   "cell_type": "code",
   "execution_count": 2,
   "id": "71a43536",
   "metadata": {},
   "outputs": [],
   "source": [
    "import tensorflow as tf\n",
    "import numpy as np"
   ]
  },
  {
   "cell_type": "code",
   "execution_count": 3,
   "id": "a4d35f52",
   "metadata": {},
   "outputs": [
    {
     "data": {
      "text/plain": [
       "(4, 2)"
      ]
     },
     "execution_count": 3,
     "metadata": {},
     "output_type": "execute_result"
    }
   ],
   "source": [
    "# Load data set \n",
    "train_data = np.array([[0,0], [1, 0], [0, 1], [1, 1]]) # possible 2-bit xor combinations \n",
    "train_labels = np.array([[0], [1], [1], [0]])\n",
    "train_data.shape"
   ]
  },
  {
   "cell_type": "code",
   "execution_count": 52,
   "id": "e0f16982",
   "metadata": {},
   "outputs": [],
   "source": [
    "# Model \n",
    "model = tf.keras.Sequential([\n",
    "    tf.keras.layers.InputLayer(input_shape=(2,)),\n",
    "    tf.keras.layers.Dense(16, activation=\"relu\"),\n",
    "    tf.keras.layers.Dense(2),\n",
    "])  \n",
    "\n",
    "# Compile \n",
    "model.compile(optimizer='sgd',\n",
    "              loss=tf.keras.losses.SparseCategoricalCrossentropy(from_logits=True),\n",
    "              metrics=['accuracy'])"
   ]
  },
  {
   "cell_type": "code",
   "execution_count": 60,
   "id": "92b9f5be",
   "metadata": {},
   "outputs": [
    {
     "name": "stdout",
     "output_type": "stream",
     "text": [
      "Train on 4 samples\n",
      "Epoch 1/100\n",
      "4/4 [==============================] - 0s 8ms/sample - loss: 0.4567 - accuracy: 1.0000\n",
      "Epoch 2/100\n",
      "4/4 [==============================] - 0s 567us/sample - loss: 0.4566 - accuracy: 1.0000\n",
      "Epoch 3/100\n",
      "4/4 [==============================] - 0s 623us/sample - loss: 0.4560 - accuracy: 1.0000\n",
      "Epoch 4/100\n",
      "4/4 [==============================] - 0s 723us/sample - loss: 0.4557 - accuracy: 1.0000\n",
      "Epoch 5/100\n",
      "4/4 [==============================] - 0s 593us/sample - loss: 0.4554 - accuracy: 1.0000\n",
      "Epoch 6/100\n",
      "4/4 [==============================] - 0s 852us/sample - loss: 0.4550 - accuracy: 1.0000\n",
      "Epoch 7/100\n",
      "4/4 [==============================] - 0s 769us/sample - loss: 0.4545 - accuracy: 1.0000\n",
      "Epoch 8/100\n",
      "4/4 [==============================] - 0s 587us/sample - loss: 0.4543 - accuracy: 1.0000\n",
      "Epoch 9/100\n",
      "4/4 [==============================] - 0s 680us/sample - loss: 0.4538 - accuracy: 1.0000\n",
      "Epoch 10/100\n",
      "4/4 [==============================] - 0s 846us/sample - loss: 0.4536 - accuracy: 1.0000\n",
      "Epoch 11/100\n",
      "4/4 [==============================] - 0s 784us/sample - loss: 0.4531 - accuracy: 1.0000\n",
      "Epoch 12/100\n",
      "4/4 [==============================] - 0s 628us/sample - loss: 0.4527 - accuracy: 1.0000\n",
      "Epoch 13/100\n",
      "4/4 [==============================] - 0s 868us/sample - loss: 0.4525 - accuracy: 1.0000\n",
      "Epoch 14/100\n",
      "4/4 [==============================] - 0s 658us/sample - loss: 0.4520 - accuracy: 1.0000\n",
      "Epoch 15/100\n",
      "4/4 [==============================] - 0s 811us/sample - loss: 0.4516 - accuracy: 1.0000\n",
      "Epoch 16/100\n",
      "4/4 [==============================] - 0s 719us/sample - loss: 0.4513 - accuracy: 1.0000\n",
      "Epoch 17/100\n",
      "4/4 [==============================] - 0s 697us/sample - loss: 0.4508 - accuracy: 1.0000\n",
      "Epoch 18/100\n",
      "4/4 [==============================] - 0s 725us/sample - loss: 0.4506 - accuracy: 1.0000\n",
      "Epoch 19/100\n",
      "4/4 [==============================] - 0s 605us/sample - loss: 0.4501 - accuracy: 1.0000\n",
      "Epoch 20/100\n",
      "4/4 [==============================] - 0s 799us/sample - loss: 0.4499 - accuracy: 1.0000\n",
      "Epoch 21/100\n",
      "4/4 [==============================] - 0s 832us/sample - loss: 0.4494 - accuracy: 1.0000\n",
      "Epoch 22/100\n",
      "4/4 [==============================] - 0s 786us/sample - loss: 0.4490 - accuracy: 1.0000\n",
      "Epoch 23/100\n",
      "4/4 [==============================] - 0s 663us/sample - loss: 0.4487 - accuracy: 1.0000\n",
      "Epoch 24/100\n",
      "4/4 [==============================] - 0s 769us/sample - loss: 0.4482 - accuracy: 1.0000\n",
      "Epoch 25/100\n",
      "4/4 [==============================] - 0s 819us/sample - loss: 0.4479 - accuracy: 1.0000\n",
      "Epoch 26/100\n",
      "4/4 [==============================] - 0s 588us/sample - loss: 0.4476 - accuracy: 1.0000\n",
      "Epoch 27/100\n",
      "4/4 [==============================] - 0s 745us/sample - loss: 0.4470 - accuracy: 1.0000\n",
      "Epoch 28/100\n",
      "4/4 [==============================] - 0s 702us/sample - loss: 0.4470 - accuracy: 1.0000\n",
      "Epoch 29/100\n",
      "4/4 [==============================] - 0s 786us/sample - loss: 0.4464 - accuracy: 1.0000\n",
      "Epoch 30/100\n",
      "4/4 [==============================] - 0s 724us/sample - loss: 0.4459 - accuracy: 1.0000\n",
      "Epoch 31/100\n",
      "4/4 [==============================] - 0s 622us/sample - loss: 0.4459 - accuracy: 1.0000\n",
      "Epoch 32/100\n",
      "4/4 [==============================] - 0s 873us/sample - loss: 0.4452 - accuracy: 1.0000\n",
      "Epoch 33/100\n",
      "4/4 [==============================] - 0s 656us/sample - loss: 0.4450 - accuracy: 1.0000\n",
      "Epoch 34/100\n",
      "4/4 [==============================] - 0s 812us/sample - loss: 0.4445 - accuracy: 1.0000\n",
      "Epoch 35/100\n",
      "4/4 [==============================] - 0s 666us/sample - loss: 0.4442 - accuracy: 1.0000\n",
      "Epoch 36/100\n",
      "4/4 [==============================] - 0s 618us/sample - loss: 0.4438 - accuracy: 1.0000\n",
      "Epoch 37/100\n",
      "4/4 [==============================] - 0s 841us/sample - loss: 0.4435 - accuracy: 1.0000\n",
      "Epoch 38/100\n",
      "4/4 [==============================] - 0s 848us/sample - loss: 0.4431 - accuracy: 1.0000\n",
      "Epoch 39/100\n",
      "4/4 [==============================] - 0s 745us/sample - loss: 0.4428 - accuracy: 1.0000\n",
      "Epoch 40/100\n",
      "4/4 [==============================] - 0s 624us/sample - loss: 0.4423 - accuracy: 1.0000\n",
      "Epoch 41/100\n",
      "4/4 [==============================] - 0s 732us/sample - loss: 0.4420 - accuracy: 1.0000\n",
      "Epoch 42/100\n",
      "4/4 [==============================] - 0s 900us/sample - loss: 0.4415 - accuracy: 1.0000\n",
      "Epoch 43/100\n",
      "4/4 [==============================] - 0s 992us/sample - loss: 0.4411 - accuracy: 1.0000\n",
      "Epoch 44/100\n",
      "4/4 [==============================] - 0s 877us/sample - loss: 0.4409 - accuracy: 1.0000\n",
      "Epoch 45/100\n",
      "4/4 [==============================] - 0s 831us/sample - loss: 0.4404 - accuracy: 1.0000\n",
      "Epoch 46/100\n",
      "4/4 [==============================] - 0s 901us/sample - loss: 0.4401 - accuracy: 1.0000\n",
      "Epoch 47/100\n",
      "4/4 [==============================] - 0s 872us/sample - loss: 0.4398 - accuracy: 1.0000\n",
      "Epoch 48/100\n",
      "4/4 [==============================] - 0s 630us/sample - loss: 0.4393 - accuracy: 1.0000\n",
      "Epoch 49/100\n",
      "4/4 [==============================] - 0s 987us/sample - loss: 0.4391 - accuracy: 1.0000\n",
      "Epoch 50/100\n",
      "4/4 [==============================] - 0s 725us/sample - loss: 0.4386 - accuracy: 1.0000\n",
      "Epoch 51/100\n",
      "4/4 [==============================] - 0s 988us/sample - loss: 0.4382 - accuracy: 1.0000\n",
      "Epoch 52/100\n",
      "4/4 [==============================] - 0s 692us/sample - loss: 0.4379 - accuracy: 1.0000\n",
      "Epoch 53/100\n",
      "4/4 [==============================] - 0s 902us/sample - loss: 0.4374 - accuracy: 1.0000\n",
      "Epoch 54/100\n",
      "4/4 [==============================] - 0s 609us/sample - loss: 0.4373 - accuracy: 1.0000\n",
      "Epoch 55/100\n",
      "4/4 [==============================] - 0s 931us/sample - loss: 0.4367 - accuracy: 1.0000\n",
      "Epoch 56/100\n",
      "4/4 [==============================] - 0s 736us/sample - loss: 0.4362 - accuracy: 1.0000\n",
      "Epoch 57/100\n",
      "4/4 [==============================] - 0s 892us/sample - loss: 0.4360 - accuracy: 1.0000\n",
      "Epoch 58/100\n",
      "4/4 [==============================] - 0s 728us/sample - loss: 0.4354 - accuracy: 1.0000\n",
      "Epoch 59/100\n",
      "4/4 [==============================] - 0s 968us/sample - loss: 0.4352 - accuracy: 1.0000\n",
      "Epoch 60/100\n",
      "4/4 [==============================] - 0s 920us/sample - loss: 0.4350 - accuracy: 1.0000\n",
      "Epoch 61/100\n",
      "4/4 [==============================] - 0s 731us/sample - loss: 0.4343 - accuracy: 1.0000\n",
      "Epoch 62/100\n",
      "4/4 [==============================] - 0s 764us/sample - loss: 0.4342 - accuracy: 1.0000\n",
      "Epoch 63/100\n",
      "4/4 [==============================] - 0s 848us/sample - loss: 0.4337 - accuracy: 1.0000\n",
      "Epoch 64/100\n",
      "4/4 [==============================] - 0s 664us/sample - loss: 0.4333 - accuracy: 1.0000\n",
      "Epoch 65/100\n",
      "4/4 [==============================] - 0s 706us/sample - loss: 0.4330 - accuracy: 1.0000\n",
      "Epoch 66/100\n",
      "4/4 [==============================] - 0s 770us/sample - loss: 0.4326 - accuracy: 1.0000\n",
      "Epoch 67/100\n",
      "4/4 [==============================] - 0s 1ms/sample - loss: 0.4322 - accuracy: 1.0000\n",
      "Epoch 68/100\n",
      "4/4 [==============================] - 0s 817us/sample - loss: 0.4319 - accuracy: 1.0000\n",
      "Epoch 69/100\n",
      "4/4 [==============================] - 0s 835us/sample - loss: 0.4314 - accuracy: 1.0000\n",
      "Epoch 70/100\n",
      "4/4 [==============================] - 0s 806us/sample - loss: 0.4312 - accuracy: 1.0000\n",
      "Epoch 71/100\n",
      "4/4 [==============================] - 0s 1ms/sample - loss: 0.4307 - accuracy: 1.0000\n",
      "Epoch 72/100\n",
      "4/4 [==============================] - 0s 768us/sample - loss: 0.4303 - accuracy: 1.0000\n",
      "Epoch 73/100\n",
      "4/4 [==============================] - 0s 761us/sample - loss: 0.4300 - accuracy: 1.0000\n",
      "Epoch 74/100\n",
      "4/4 [==============================] - 0s 812us/sample - loss: 0.4295 - accuracy: 1.0000\n",
      "Epoch 75/100\n",
      "4/4 [==============================] - 0s 793us/sample - loss: 0.4293 - accuracy: 1.0000\n",
      "Epoch 76/100\n",
      "4/4 [==============================] - 0s 766us/sample - loss: 0.4288 - accuracy: 1.0000\n",
      "Epoch 77/100\n",
      "4/4 [==============================] - 0s 741us/sample - loss: 0.4285 - accuracy: 1.0000\n",
      "Epoch 78/100\n",
      "4/4 [==============================] - 0s 726us/sample - loss: 0.4281 - accuracy: 1.0000\n",
      "Epoch 79/100\n",
      "4/4 [==============================] - 0s 744us/sample - loss: 0.4277 - accuracy: 1.0000\n",
      "Epoch 80/100\n",
      "4/4 [==============================] - 0s 792us/sample - loss: 0.4274 - accuracy: 1.0000\n",
      "Epoch 81/100\n",
      "4/4 [==============================] - 0s 643us/sample - loss: 0.4269 - accuracy: 1.0000\n"
     ]
    },
    {
     "name": "stdout",
     "output_type": "stream",
     "text": [
      "Epoch 82/100\n",
      "4/4 [==============================] - 0s 838us/sample - loss: 0.4265 - accuracy: 1.0000\n",
      "Epoch 83/100\n",
      "4/4 [==============================] - 0s 664us/sample - loss: 0.4262 - accuracy: 1.0000\n",
      "Epoch 84/100\n",
      "4/4 [==============================] - 0s 988us/sample - loss: 0.4257 - accuracy: 1.0000\n",
      "Epoch 85/100\n",
      "4/4 [==============================] - 0s 787us/sample - loss: 0.4254 - accuracy: 1.0000\n",
      "Epoch 86/100\n",
      "4/4 [==============================] - 0s 758us/sample - loss: 0.4250 - accuracy: 1.0000\n",
      "Epoch 87/100\n",
      "4/4 [==============================] - 0s 690us/sample - loss: 0.4247 - accuracy: 1.0000\n",
      "Epoch 88/100\n",
      "4/4 [==============================] - 0s 683us/sample - loss: 0.4243 - accuracy: 1.0000\n",
      "Epoch 89/100\n",
      "4/4 [==============================] - 0s 649us/sample - loss: 0.4240 - accuracy: 1.0000\n",
      "Epoch 90/100\n",
      "4/4 [==============================] - 0s 710us/sample - loss: 0.4235 - accuracy: 1.0000\n",
      "Epoch 91/100\n",
      "4/4 [==============================] - 0s 779us/sample - loss: 0.4233 - accuracy: 1.0000\n",
      "Epoch 92/100\n",
      "4/4 [==============================] - 0s 814us/sample - loss: 0.4227 - accuracy: 1.0000\n",
      "Epoch 93/100\n",
      "4/4 [==============================] - 0s 695us/sample - loss: 0.4225 - accuracy: 1.0000\n",
      "Epoch 94/100\n",
      "4/4 [==============================] - 0s 610us/sample - loss: 0.4220 - accuracy: 1.0000\n",
      "Epoch 95/100\n",
      "4/4 [==============================] - 0s 638us/sample - loss: 0.4217 - accuracy: 1.0000\n",
      "Epoch 96/100\n",
      "4/4 [==============================] - 0s 779us/sample - loss: 0.4213 - accuracy: 1.0000\n",
      "Epoch 97/100\n",
      "4/4 [==============================] - 0s 866us/sample - loss: 0.4209 - accuracy: 1.0000\n",
      "Epoch 98/100\n",
      "4/4 [==============================] - 0s 698us/sample - loss: 0.4206 - accuracy: 1.0000\n",
      "Epoch 99/100\n",
      "4/4 [==============================] - 0s 730us/sample - loss: 0.4202 - accuracy: 1.0000\n",
      "Epoch 100/100\n",
      "4/4 [==============================] - 0s 719us/sample - loss: 0.4197 - accuracy: 1.0000\n"
     ]
    },
    {
     "data": {
      "text/plain": [
       "<tensorflow.python.keras.callbacks.History at 0x7fdb09c0b290>"
      ]
     },
     "execution_count": 60,
     "metadata": {},
     "output_type": "execute_result"
    }
   ],
   "source": [
    "# train \n",
    "model.fit(train_data, train_labels, epochs=100)"
   ]
  },
  {
   "cell_type": "code",
   "execution_count": 61,
   "id": "8daae51f",
   "metadata": {},
   "outputs": [
    {
     "name": "stdout",
     "output_type": "stream",
     "text": [
      "4/1 - 0s - loss: 0.4195 - accuracy: 1.0000\n"
     ]
    },
    {
     "data": {
      "text/plain": [
       "1.0"
      ]
     },
     "execution_count": 61,
     "metadata": {},
     "output_type": "execute_result"
    }
   ],
   "source": [
    "# Evalulate \n",
    "loss, acc = model.evaluate(train_data, train_labels, verbose=2)\n",
    "acc"
   ]
  },
  {
   "cell_type": "code",
   "execution_count": 64,
   "id": "62ca3e97",
   "metadata": {},
   "outputs": [
    {
     "name": "stdout",
     "output_type": "stream",
     "text": [
      "guess 0 label 0\n",
      "guess 0 label 0\n",
      "guess 1 label 1\n",
      "guess 1 label 1\n",
      "guess 1 label 1\n"
     ]
    }
   ],
   "source": [
    "# predictions \n",
    "prob_model = tf.keras.Sequential([\n",
    "  model,\n",
    "  tf.keras.layers.Softmax()\n",
    "])\n",
    "\n",
    "# Test data \n",
    "test_data = np.array([[0, 0], [1, 1], [0, 1], [1,0], [0, 1]])\n",
    "test_labels = np.array([[0], [0], [1], [1], [1]])\n",
    "\n",
    "pred = prob_model(test_data).numpy()\n",
    "i = 0 \n",
    "for a in pred: \n",
    "    guess = a.argmax() \n",
    "    print(\"guess %d label %d\"%(guess, test_labels[i]))\n",
    "    i += 1"
   ]
  },
  {
   "cell_type": "code",
   "execution_count": null,
   "id": "e2006ea9",
   "metadata": {},
   "outputs": [],
   "source": []
  }
 ],
 "metadata": {
  "kernelspec": {
   "display_name": "Python 3 (ipykernel)",
   "language": "python",
   "name": "python3"
  },
  "language_info": {
   "codemirror_mode": {
    "name": "ipython",
    "version": 3
   },
   "file_extension": ".py",
   "mimetype": "text/x-python",
   "name": "python",
   "nbconvert_exporter": "python",
   "pygments_lexer": "ipython3",
   "version": "3.7.13"
  }
 },
 "nbformat": 4,
 "nbformat_minor": 5
}
