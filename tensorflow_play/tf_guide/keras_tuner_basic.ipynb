{
 "cells": [
  {
   "cell_type": "code",
   "execution_count": 2,
   "id": "bb5182cb",
   "metadata": {},
   "outputs": [],
   "source": [
    "import tensorflow as tf\n",
    "from tensorflow import keras\n",
    "import keras_tuner as kt"
   ]
  },
  {
   "cell_type": "code",
   "execution_count": 4,
   "id": "9a42e126",
   "metadata": {},
   "outputs": [],
   "source": [
    "# Get MNIST fashion dataset\n",
    "(img_train, label_train), (img_test, label_test) = keras.datasets.fashion_mnist.load_data()\n",
    "\n",
    "# Normalize pixel values between 0 and 1\n",
    "img_train = img_train.astype('float32') / 255.0\n",
    "img_test = img_test.astype('float32') / 255.0"
   ]
  },
  {
   "cell_type": "code",
   "execution_count": 19,
   "id": "e28b7404",
   "metadata": {},
   "outputs": [],
   "source": [
    "# Model builder \n",
    "def model_builder(hp):\n",
    "    model = keras.Sequential()\n",
    "    model.add(keras.layers.Flatten(input_shape=(28, 28)))\n",
    "\n",
    "    # Tune the number of units in the first Dense layer\n",
    "    # Choose an optimal value between 32-512\n",
    "    hp_units = hp.Int('units', min_value=32, max_value=512, step=32)\n",
    "    model.add(keras.layers.Dense(units=hp_units, activation='relu'))\n",
    "    hp_units2 = hp.Int('units2', min_value=32, max_value=512, step=32)\n",
    "    model.add(keras.layers.Dense(units=hp_units2, activation='relu'))\n",
    "    model.add(keras.layers.Dense(10))\n",
    "\n",
    "    # Tune the learning rate for the optimizer\n",
    "    # Choose an optimal value from 0.01, 0.001, or 0.0001\n",
    "    hp_learning_rate = hp.Choice('learning_rate', values=[1e-2, 1e-3, 1e-4])\n",
    "\n",
    "    model.compile(optimizer=keras.optimizers.Adam(learning_rate=hp_learning_rate),\n",
    "                loss=keras.losses.SparseCategoricalCrossentropy(from_logits=True),\n",
    "                metrics=['accuracy'])\n",
    "\n",
    "    return model"
   ]
  },
  {
   "cell_type": "code",
   "execution_count": 20,
   "id": "cf360baa",
   "metadata": {},
   "outputs": [
    {
     "name": "stdout",
     "output_type": "stream",
     "text": [
      "Trial 30 Complete [00h 00m 25s]\n",
      "val_accuracy: 0.8829166889190674\n",
      "\n",
      "Best val_accuracy So Far: 0.8853333592414856\n",
      "Total elapsed time: 00h 05m 56s\n",
      "INFO:tensorflow:Oracle triggered exit\n"
     ]
    }
   ],
   "source": [
    "# Tune the model \n",
    "tuner = kt.Hyperband(model_builder,\n",
    "                     objective='val_accuracy',\n",
    "                     max_epochs=10,\n",
    "                     factor=3,\n",
    "                     directory='my_dir',\n",
    "                     project_name='intro_to_kt', overwrite=True)\n",
    "\n",
    "# Early stop for validiation loss\n",
    "stop_early = tf.keras.callbacks.EarlyStopping(monitor='val_loss', patience=5)\n",
    "\n",
    "# Begin tuning\n",
    "tuner.search(img_train, label_train, epochs=50, validation_split=0.2, callbacks=[stop_early])"
   ]
  },
  {
   "cell_type": "code",
   "execution_count": 22,
   "id": "a5342c18",
   "metadata": {},
   "outputs": [
    {
     "name": "stdout",
     "output_type": "stream",
     "text": [
      "\n",
      "The hyperparameter search is complete. The optimal number of units in the first densely-connected\n",
      "layer is 320 and for the second densely-connected\n",
      "layer is 96 and the optimal learning rate for the optimizer\n",
      "is 0.001.\n",
      "\n"
     ]
    }
   ],
   "source": [
    "# Get tuned values \n",
    "best_hps=tuner.get_best_hyperparameters(num_trials=1)[0]\n",
    "\n",
    "print(f\"\"\"\n",
    "The hyperparameter search is complete. The optimal number of units in the first densely-connected\n",
    "layer is {best_hps.get('units')} and for the second densely-connected\n",
    "layer is {best_hps.get('units2')} and the optimal learning rate for the optimizer\n",
    "is {best_hps.get('learning_rate')}.\n",
    "\"\"\")"
   ]
  },
  {
   "cell_type": "code",
   "execution_count": 23,
   "id": "a90ea3b7",
   "metadata": {},
   "outputs": [
    {
     "name": "stdout",
     "output_type": "stream",
     "text": [
      "Epoch 1/50\n",
      "1500/1500 [==============================] - 3s 2ms/step - loss: 0.4909 - accuracy: 0.8239 - val_loss: 0.4152 - val_accuracy: 0.8488\n",
      "Epoch 2/50\n",
      "1500/1500 [==============================] - 2s 1ms/step - loss: 0.3684 - accuracy: 0.8641 - val_loss: 0.3763 - val_accuracy: 0.8648\n",
      "Epoch 3/50\n",
      "1500/1500 [==============================] - 2s 2ms/step - loss: 0.3291 - accuracy: 0.8786 - val_loss: 0.3560 - val_accuracy: 0.8677\n",
      "Epoch 4/50\n",
      "1500/1500 [==============================] - 2s 1ms/step - loss: 0.3052 - accuracy: 0.8862 - val_loss: 0.3497 - val_accuracy: 0.8784\n",
      "Epoch 5/50\n",
      "1500/1500 [==============================] - 2s 1ms/step - loss: 0.2849 - accuracy: 0.8931 - val_loss: 0.3208 - val_accuracy: 0.8860\n",
      "Epoch 6/50\n",
      "1500/1500 [==============================] - 2s 2ms/step - loss: 0.2730 - accuracy: 0.8986 - val_loss: 0.3371 - val_accuracy: 0.8778\n",
      "Epoch 7/50\n",
      "1500/1500 [==============================] - 2s 1ms/step - loss: 0.2583 - accuracy: 0.9035 - val_loss: 0.3379 - val_accuracy: 0.8812\n",
      "Epoch 8/50\n",
      "1500/1500 [==============================] - 2s 2ms/step - loss: 0.2466 - accuracy: 0.9076 - val_loss: 0.3138 - val_accuracy: 0.8888\n",
      "Epoch 9/50\n",
      "1500/1500 [==============================] - 2s 2ms/step - loss: 0.2359 - accuracy: 0.9100 - val_loss: 0.3241 - val_accuracy: 0.8882\n",
      "Epoch 10/50\n",
      "1500/1500 [==============================] - 2s 2ms/step - loss: 0.2257 - accuracy: 0.9127 - val_loss: 0.3442 - val_accuracy: 0.8795\n",
      "Epoch 11/50\n",
      "1500/1500 [==============================] - 2s 2ms/step - loss: 0.2188 - accuracy: 0.9177 - val_loss: 0.3261 - val_accuracy: 0.8892\n",
      "Epoch 12/50\n",
      "1500/1500 [==============================] - 2s 2ms/step - loss: 0.2080 - accuracy: 0.9209 - val_loss: 0.3535 - val_accuracy: 0.8777\n",
      "Epoch 13/50\n",
      "1500/1500 [==============================] - 2s 2ms/step - loss: 0.1997 - accuracy: 0.9243 - val_loss: 0.3480 - val_accuracy: 0.8910\n",
      "Epoch 14/50\n",
      "1500/1500 [==============================] - 2s 1ms/step - loss: 0.1959 - accuracy: 0.9259 - val_loss: 0.3568 - val_accuracy: 0.8832\n",
      "Epoch 15/50\n",
      "1500/1500 [==============================] - 2s 2ms/step - loss: 0.1867 - accuracy: 0.9269 - val_loss: 0.3420 - val_accuracy: 0.8844\n",
      "Epoch 16/50\n",
      "1500/1500 [==============================] - 2s 2ms/step - loss: 0.1794 - accuracy: 0.9314 - val_loss: 0.3572 - val_accuracy: 0.8914\n",
      "Epoch 17/50\n",
      "1500/1500 [==============================] - 2s 2ms/step - loss: 0.1755 - accuracy: 0.9336 - val_loss: 0.3527 - val_accuracy: 0.8905\n",
      "Epoch 18/50\n",
      "1500/1500 [==============================] - 2s 2ms/step - loss: 0.1717 - accuracy: 0.9337 - val_loss: 0.3377 - val_accuracy: 0.8953\n",
      "Epoch 19/50\n",
      "1500/1500 [==============================] - 2s 1ms/step - loss: 0.1630 - accuracy: 0.9375 - val_loss: 0.3838 - val_accuracy: 0.8926\n",
      "Epoch 20/50\n",
      "1500/1500 [==============================] - 2s 2ms/step - loss: 0.1615 - accuracy: 0.9395 - val_loss: 0.3723 - val_accuracy: 0.8937\n",
      "Epoch 21/50\n",
      "1500/1500 [==============================] - 2s 2ms/step - loss: 0.1547 - accuracy: 0.9409 - val_loss: 0.3861 - val_accuracy: 0.8929\n",
      "Epoch 22/50\n",
      "1500/1500 [==============================] - 2s 2ms/step - loss: 0.1491 - accuracy: 0.9430 - val_loss: 0.3771 - val_accuracy: 0.8952\n",
      "Epoch 23/50\n",
      "1500/1500 [==============================] - 2s 2ms/step - loss: 0.1475 - accuracy: 0.9433 - val_loss: 0.3727 - val_accuracy: 0.8913\n",
      "Epoch 24/50\n",
      "1500/1500 [==============================] - 2s 2ms/step - loss: 0.1405 - accuracy: 0.9460 - val_loss: 0.3918 - val_accuracy: 0.8933\n",
      "Epoch 25/50\n",
      "1500/1500 [==============================] - 3s 2ms/step - loss: 0.1372 - accuracy: 0.9475 - val_loss: 0.4227 - val_accuracy: 0.8917\n",
      "Epoch 26/50\n",
      "1500/1500 [==============================] - 2s 2ms/step - loss: 0.1324 - accuracy: 0.9491 - val_loss: 0.4197 - val_accuracy: 0.8944\n",
      "Epoch 27/50\n",
      "1500/1500 [==============================] - 2s 2ms/step - loss: 0.1312 - accuracy: 0.9488 - val_loss: 0.3903 - val_accuracy: 0.8983\n",
      "Epoch 28/50\n",
      "1500/1500 [==============================] - 2s 2ms/step - loss: 0.1270 - accuracy: 0.9523 - val_loss: 0.4425 - val_accuracy: 0.8906\n",
      "Epoch 29/50\n",
      "1500/1500 [==============================] - 2s 2ms/step - loss: 0.1252 - accuracy: 0.9521 - val_loss: 0.4169 - val_accuracy: 0.8936\n",
      "Epoch 30/50\n",
      "1500/1500 [==============================] - 2s 1ms/step - loss: 0.1219 - accuracy: 0.9538 - val_loss: 0.4249 - val_accuracy: 0.8965\n",
      "Epoch 31/50\n",
      "1500/1500 [==============================] - 2s 2ms/step - loss: 0.1194 - accuracy: 0.9541 - val_loss: 0.4470 - val_accuracy: 0.8937\n",
      "Epoch 32/50\n",
      "1500/1500 [==============================] - 2s 2ms/step - loss: 0.1146 - accuracy: 0.9565 - val_loss: 0.4829 - val_accuracy: 0.8890\n",
      "Epoch 33/50\n",
      "1500/1500 [==============================] - 2s 2ms/step - loss: 0.1119 - accuracy: 0.9576 - val_loss: 0.4512 - val_accuracy: 0.8972\n",
      "Epoch 34/50\n",
      "1500/1500 [==============================] - 2s 2ms/step - loss: 0.1112 - accuracy: 0.9576 - val_loss: 0.4745 - val_accuracy: 0.9004\n",
      "Epoch 35/50\n",
      "1500/1500 [==============================] - 2s 2ms/step - loss: 0.1107 - accuracy: 0.9585 - val_loss: 0.4508 - val_accuracy: 0.8964\n",
      "Epoch 36/50\n",
      "1500/1500 [==============================] - 2s 2ms/step - loss: 0.1041 - accuracy: 0.9600 - val_loss: 0.4894 - val_accuracy: 0.8915\n",
      "Epoch 37/50\n",
      "1500/1500 [==============================] - 3s 2ms/step - loss: 0.1005 - accuracy: 0.9615 - val_loss: 0.5068 - val_accuracy: 0.8938\n",
      "Epoch 38/50\n",
      "1500/1500 [==============================] - 3s 2ms/step - loss: 0.1012 - accuracy: 0.9612 - val_loss: 0.5212 - val_accuracy: 0.8926\n",
      "Epoch 39/50\n",
      "1500/1500 [==============================] - 2s 2ms/step - loss: 0.0970 - accuracy: 0.9625 - val_loss: 0.5340 - val_accuracy: 0.8989\n",
      "Epoch 40/50\n",
      "1500/1500 [==============================] - 3s 2ms/step - loss: 0.0961 - accuracy: 0.9629 - val_loss: 0.4934 - val_accuracy: 0.8952\n",
      "Epoch 41/50\n",
      "1500/1500 [==============================] - 3s 2ms/step - loss: 0.0964 - accuracy: 0.9638 - val_loss: 0.5427 - val_accuracy: 0.8941\n",
      "Epoch 42/50\n",
      "1500/1500 [==============================] - 3s 2ms/step - loss: 0.0925 - accuracy: 0.9650 - val_loss: 0.5771 - val_accuracy: 0.8947\n",
      "Epoch 43/50\n",
      "1500/1500 [==============================] - 3s 2ms/step - loss: 0.0936 - accuracy: 0.9646 - val_loss: 0.5721 - val_accuracy: 0.8912\n",
      "Epoch 44/50\n",
      "1500/1500 [==============================] - 3s 2ms/step - loss: 0.0865 - accuracy: 0.9661 - val_loss: 0.5704 - val_accuracy: 0.8895\n",
      "Epoch 45/50\n",
      "1500/1500 [==============================] - 3s 2ms/step - loss: 0.0879 - accuracy: 0.9668 - val_loss: 0.5682 - val_accuracy: 0.8982\n",
      "Epoch 46/50\n",
      "1500/1500 [==============================] - 2s 2ms/step - loss: 0.0819 - accuracy: 0.9692 - val_loss: 0.5526 - val_accuracy: 0.8939\n",
      "Epoch 47/50\n",
      "1500/1500 [==============================] - 2s 2ms/step - loss: 0.0862 - accuracy: 0.9661 - val_loss: 0.5790 - val_accuracy: 0.8888\n",
      "Epoch 48/50\n",
      "1500/1500 [==============================] - 3s 2ms/step - loss: 0.0841 - accuracy: 0.9688 - val_loss: 0.5436 - val_accuracy: 0.8940\n",
      "Epoch 49/50\n",
      "1500/1500 [==============================] - 2s 2ms/step - loss: 0.0851 - accuracy: 0.9679 - val_loss: 0.5626 - val_accuracy: 0.8945\n",
      "Epoch 50/50\n",
      "1500/1500 [==============================] - 2s 1ms/step - loss: 0.0754 - accuracy: 0.9714 - val_loss: 0.6004 - val_accuracy: 0.8942\n",
      "Best epoch: 34\n"
     ]
    }
   ],
   "source": [
    "# Train model \n",
    "model = tuner.hypermodel.build(best_hps)\n",
    "history = model.fit(img_train, label_train, epochs=50, validation_split=0.2)\n",
    "\n",
    "val_acc_per_epoch = history.history['val_accuracy']\n",
    "best_epoch = val_acc_per_epoch.index(max(val_acc_per_epoch)) + 1\n",
    "print('Best epoch: %d' % (best_epoch,))"
   ]
  },
  {
   "cell_type": "code",
   "execution_count": 24,
   "id": "bab86e5c",
   "metadata": {
    "scrolled": true
   },
   "outputs": [
    {
     "name": "stdout",
     "output_type": "stream",
     "text": [
      "Epoch 1/34\n",
      "1500/1500 [==============================] - 3s 2ms/step - loss: 0.4915 - accuracy: 0.8248 - val_loss: 0.3949 - val_accuracy: 0.8565\n",
      "Epoch 2/34\n",
      "1500/1500 [==============================] - 3s 2ms/step - loss: 0.3677 - accuracy: 0.8651 - val_loss: 0.3565 - val_accuracy: 0.8689\n",
      "Epoch 3/34\n",
      "1500/1500 [==============================] - 2s 2ms/step - loss: 0.3284 - accuracy: 0.8791 - val_loss: 0.3684 - val_accuracy: 0.8698\n",
      "Epoch 4/34\n",
      "1500/1500 [==============================] - 2s 1ms/step - loss: 0.3053 - accuracy: 0.8859 - val_loss: 0.3253 - val_accuracy: 0.8834\n",
      "Epoch 5/34\n",
      "1500/1500 [==============================] - 2s 1ms/step - loss: 0.2867 - accuracy: 0.8935 - val_loss: 0.3391 - val_accuracy: 0.8757\n",
      "Epoch 6/34\n",
      "1500/1500 [==============================] - 2s 1ms/step - loss: 0.2726 - accuracy: 0.8980 - val_loss: 0.3398 - val_accuracy: 0.8783\n",
      "Epoch 7/34\n",
      "1500/1500 [==============================] - 2s 1ms/step - loss: 0.2606 - accuracy: 0.9020 - val_loss: 0.3251 - val_accuracy: 0.8870\n",
      "Epoch 8/34\n",
      "1500/1500 [==============================] - 2s 1ms/step - loss: 0.2485 - accuracy: 0.9059 - val_loss: 0.3196 - val_accuracy: 0.8873\n",
      "Epoch 9/34\n",
      "1500/1500 [==============================] - 2s 1ms/step - loss: 0.2348 - accuracy: 0.9108 - val_loss: 0.3538 - val_accuracy: 0.8809\n",
      "Epoch 10/34\n",
      "1500/1500 [==============================] - 2s 1ms/step - loss: 0.2277 - accuracy: 0.9151 - val_loss: 0.3382 - val_accuracy: 0.8829\n",
      "Epoch 11/34\n",
      "1500/1500 [==============================] - 2s 2ms/step - loss: 0.2195 - accuracy: 0.9165 - val_loss: 0.3427 - val_accuracy: 0.8902\n",
      "Epoch 12/34\n",
      "1500/1500 [==============================] - 2s 1ms/step - loss: 0.2103 - accuracy: 0.9187 - val_loss: 0.3268 - val_accuracy: 0.8901\n",
      "Epoch 13/34\n",
      "1500/1500 [==============================] - 2s 2ms/step - loss: 0.2010 - accuracy: 0.9224 - val_loss: 0.3175 - val_accuracy: 0.8915\n",
      "Epoch 14/34\n",
      "1500/1500 [==============================] - 2s 2ms/step - loss: 0.1954 - accuracy: 0.9257 - val_loss: 0.3547 - val_accuracy: 0.8878\n",
      "Epoch 15/34\n",
      "1500/1500 [==============================] - 2s 2ms/step - loss: 0.1866 - accuracy: 0.9287 - val_loss: 0.3493 - val_accuracy: 0.8888\n",
      "Epoch 16/34\n",
      "1500/1500 [==============================] - 2s 2ms/step - loss: 0.1838 - accuracy: 0.9281 - val_loss: 0.3656 - val_accuracy: 0.8878\n",
      "Epoch 17/34\n",
      "1500/1500 [==============================] - 3s 2ms/step - loss: 0.1743 - accuracy: 0.9319 - val_loss: 0.3826 - val_accuracy: 0.8823\n",
      "Epoch 18/34\n",
      "1500/1500 [==============================] - 3s 2ms/step - loss: 0.1715 - accuracy: 0.9349 - val_loss: 0.3669 - val_accuracy: 0.8928\n",
      "Epoch 19/34\n",
      "1500/1500 [==============================] - 3s 2ms/step - loss: 0.1675 - accuracy: 0.9356 - val_loss: 0.3726 - val_accuracy: 0.8871\n",
      "Epoch 20/34\n",
      "1500/1500 [==============================] - 2s 2ms/step - loss: 0.1601 - accuracy: 0.9388 - val_loss: 0.3881 - val_accuracy: 0.8904\n",
      "Epoch 21/34\n",
      "1500/1500 [==============================] - 3s 2ms/step - loss: 0.1537 - accuracy: 0.9401 - val_loss: 0.3637 - val_accuracy: 0.8944\n",
      "Epoch 22/34\n",
      "1500/1500 [==============================] - 2s 2ms/step - loss: 0.1531 - accuracy: 0.9414 - val_loss: 0.3824 - val_accuracy: 0.8917\n",
      "Epoch 23/34\n",
      "1500/1500 [==============================] - 2s 2ms/step - loss: 0.1454 - accuracy: 0.9429 - val_loss: 0.3874 - val_accuracy: 0.8936\n",
      "Epoch 24/34\n",
      "1500/1500 [==============================] - 2s 2ms/step - loss: 0.1476 - accuracy: 0.9438 - val_loss: 0.3741 - val_accuracy: 0.8930\n",
      "Epoch 25/34\n",
      "1500/1500 [==============================] - 2s 2ms/step - loss: 0.1387 - accuracy: 0.9465 - val_loss: 0.5227 - val_accuracy: 0.8804\n",
      "Epoch 26/34\n",
      "1500/1500 [==============================] - 2s 2ms/step - loss: 0.1383 - accuracy: 0.9468 - val_loss: 0.4005 - val_accuracy: 0.8959\n",
      "Epoch 27/34\n",
      "1500/1500 [==============================] - 3s 2ms/step - loss: 0.1290 - accuracy: 0.9494 - val_loss: 0.4337 - val_accuracy: 0.8906\n",
      "Epoch 28/34\n",
      "1500/1500 [==============================] - 3s 2ms/step - loss: 0.1301 - accuracy: 0.9497 - val_loss: 0.4448 - val_accuracy: 0.8917\n",
      "Epoch 29/34\n",
      "1500/1500 [==============================] - 3s 2ms/step - loss: 0.1251 - accuracy: 0.9518 - val_loss: 0.4269 - val_accuracy: 0.8947\n",
      "Epoch 30/34\n",
      "1500/1500 [==============================] - 3s 2ms/step - loss: 0.1223 - accuracy: 0.9527 - val_loss: 0.4692 - val_accuracy: 0.8851\n",
      "Epoch 31/34\n",
      "1500/1500 [==============================] - 2s 2ms/step - loss: 0.1188 - accuracy: 0.9548 - val_loss: 0.4740 - val_accuracy: 0.8915\n",
      "Epoch 32/34\n",
      "1500/1500 [==============================] - 2s 2ms/step - loss: 0.1155 - accuracy: 0.9547 - val_loss: 0.4486 - val_accuracy: 0.8894\n",
      "Epoch 33/34\n",
      "1500/1500 [==============================] - 2s 2ms/step - loss: 0.1147 - accuracy: 0.9558 - val_loss: 0.4668 - val_accuracy: 0.8892\n",
      "Epoch 34/34\n",
      "1500/1500 [==============================] - 3s 2ms/step - loss: 0.1082 - accuracy: 0.9587 - val_loss: 0.5331 - val_accuracy: 0.8895\n"
     ]
    },
    {
     "data": {
      "text/plain": [
       "<keras.callbacks.History at 0x7fa443356e50>"
      ]
     },
     "execution_count": 24,
     "metadata": {},
     "output_type": "execute_result"
    }
   ],
   "source": [
    "# retrain with best epoch \n",
    "hypermodel = tuner.hypermodel.build(best_hps)\n",
    "hypermodel.fit(img_train, label_train, epochs=best_epoch, validation_split=0.2)"
   ]
  },
  {
   "cell_type": "code",
   "execution_count": 25,
   "id": "3439d51c",
   "metadata": {},
   "outputs": [
    {
     "name": "stdout",
     "output_type": "stream",
     "text": [
      "313/313 [==============================] - 0s 1ms/step - loss: 0.5863 - accuracy: 0.8831\n",
      "[test loss, test accuracy]: [0.5862670540809631, 0.8830999732017517]\n"
     ]
    },
    {
     "data": {
      "text/plain": [
       "'\\nIf you re-run the hyperparameter search, the Keras Tuner uses the existing state from these logs to resume the search. To disable this behavior, pass an additional overwrite=True argument while instantiating the tuner.\\n'"
      ]
     },
     "execution_count": 25,
     "metadata": {},
     "output_type": "execute_result"
    }
   ],
   "source": [
    "# Evaluate\n",
    "eval_result = hypermodel.evaluate(img_test, label_test)\n",
    "print(\"[test loss, test accuracy]:\", eval_result)\n",
    "\n",
    "'''\n",
    "If you re-run the hyperparameter search, the Keras Tuner uses the existing state from these logs to resume the search. To disable this behavior, pass an additional overwrite=True argument while instantiating the tuner.\n",
    "'''"
   ]
  }
 ],
 "metadata": {
  "kernelspec": {
   "display_name": "Python 3 (ipykernel)",
   "language": "python",
   "name": "python3"
  },
  "language_info": {
   "codemirror_mode": {
    "name": "ipython",
    "version": 3
   },
   "file_extension": ".py",
   "mimetype": "text/x-python",
   "name": "python",
   "nbconvert_exporter": "python",
   "pygments_lexer": "ipython3",
   "version": "3.7.13"
  }
 },
 "nbformat": 4,
 "nbformat_minor": 5
}
