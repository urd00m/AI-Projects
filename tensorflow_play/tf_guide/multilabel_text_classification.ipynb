{
 "cells": [
  {
   "cell_type": "code",
   "execution_count": 2,
   "id": "546c829c",
   "metadata": {},
   "outputs": [],
   "source": [
    "from tensorflow.keras import layers\n",
    "from tensorflow import keras\n",
    "import tensorflow as tf\n",
    "\n",
    "from sklearn.model_selection import train_test_split\n",
    "from ast import literal_eval\n",
    "\n",
    "import matplotlib.pyplot as plt\n",
    "import pandas as pd\n",
    "import numpy as np"
   ]
  },
  {
   "cell_type": "code",
   "execution_count": 4,
   "id": "a4174e12",
   "metadata": {},
   "outputs": [
    {
     "data": {
      "text/html": [
       "<div>\n",
       "<style scoped>\n",
       "    .dataframe tbody tr th:only-of-type {\n",
       "        vertical-align: middle;\n",
       "    }\n",
       "\n",
       "    .dataframe tbody tr th {\n",
       "        vertical-align: top;\n",
       "    }\n",
       "\n",
       "    .dataframe thead th {\n",
       "        text-align: right;\n",
       "    }\n",
       "</style>\n",
       "<table border=\"1\" class=\"dataframe\">\n",
       "  <thead>\n",
       "    <tr style=\"text-align: right;\">\n",
       "      <th></th>\n",
       "      <th>titles</th>\n",
       "      <th>summaries</th>\n",
       "      <th>terms</th>\n",
       "    </tr>\n",
       "  </thead>\n",
       "  <tbody>\n",
       "    <tr>\n",
       "      <th>0</th>\n",
       "      <td>Survey on Semantic Stereo Matching / Semantic ...</td>\n",
       "      <td>Stereo matching is one of the widely used tech...</td>\n",
       "      <td>['cs.CV', 'cs.LG']</td>\n",
       "    </tr>\n",
       "    <tr>\n",
       "      <th>1</th>\n",
       "      <td>FUTURE-AI: Guiding Principles and Consensus Re...</td>\n",
       "      <td>The recent advancements in artificial intellig...</td>\n",
       "      <td>['cs.CV', 'cs.AI', 'cs.LG']</td>\n",
       "    </tr>\n",
       "    <tr>\n",
       "      <th>2</th>\n",
       "      <td>Enforcing Mutual Consistency of Hard Regions f...</td>\n",
       "      <td>In this paper, we proposed a novel mutual cons...</td>\n",
       "      <td>['cs.CV', 'cs.AI']</td>\n",
       "    </tr>\n",
       "    <tr>\n",
       "      <th>3</th>\n",
       "      <td>Parameter Decoupling Strategy for Semi-supervi...</td>\n",
       "      <td>Consistency training has proven to be an advan...</td>\n",
       "      <td>['cs.CV']</td>\n",
       "    </tr>\n",
       "    <tr>\n",
       "      <th>4</th>\n",
       "      <td>Background-Foreground Segmentation for Interio...</td>\n",
       "      <td>To ensure safety in automated driving, the cor...</td>\n",
       "      <td>['cs.CV', 'cs.LG']</td>\n",
       "    </tr>\n",
       "  </tbody>\n",
       "</table>\n",
       "</div>"
      ],
      "text/plain": [
       "                                              titles  \\\n",
       "0  Survey on Semantic Stereo Matching / Semantic ...   \n",
       "1  FUTURE-AI: Guiding Principles and Consensus Re...   \n",
       "2  Enforcing Mutual Consistency of Hard Regions f...   \n",
       "3  Parameter Decoupling Strategy for Semi-supervi...   \n",
       "4  Background-Foreground Segmentation for Interio...   \n",
       "\n",
       "                                           summaries  \\\n",
       "0  Stereo matching is one of the widely used tech...   \n",
       "1  The recent advancements in artificial intellig...   \n",
       "2  In this paper, we proposed a novel mutual cons...   \n",
       "3  Consistency training has proven to be an advan...   \n",
       "4  To ensure safety in automated driving, the cor...   \n",
       "\n",
       "                         terms  \n",
       "0           ['cs.CV', 'cs.LG']  \n",
       "1  ['cs.CV', 'cs.AI', 'cs.LG']  \n",
       "2           ['cs.CV', 'cs.AI']  \n",
       "3                    ['cs.CV']  \n",
       "4           ['cs.CV', 'cs.LG']  "
      ]
     },
     "execution_count": 4,
     "metadata": {},
     "output_type": "execute_result"
    }
   ],
   "source": [
    "# Get data\n",
    "arxiv_data = pd.read_csv(\n",
    "    \"https://github.com/soumik12345/multi-label-text-classification/releases/download/v0.2/arxiv_data.csv\"\n",
    ")\n",
    "arxiv_data.head()"
   ]
  },
  {
   "cell_type": "code",
   "execution_count": 6,
   "id": "e34aeef2",
   "metadata": {},
   "outputs": [
    {
     "name": "stdout",
     "output_type": "stream",
     "text": [
      "There are 51774 rows in the dataset.\n",
      "There are 12802 duplicate titles.\n"
     ]
    }
   ],
   "source": [
    "# Data information \n",
    "print(f\"There are {len(arxiv_data)} rows in the dataset.\")\n",
    "total_duplicate_titles = sum(arxiv_data[\"titles\"].duplicated())\n",
    "print(f\"There are {total_duplicate_titles} duplicate titles.\")"
   ]
  },
  {
   "cell_type": "code",
   "execution_count": 8,
   "id": "8d85e158",
   "metadata": {},
   "outputs": [
    {
     "name": "stdout",
     "output_type": "stream",
     "text": [
      "There are 38972 rows in the deduplicated dataset.\n",
      "2321\n",
      "3157\n"
     ]
    },
    {
     "data": {
      "text/plain": [
       "(36651, 3)"
      ]
     },
     "execution_count": 8,
     "metadata": {},
     "output_type": "execute_result"
    }
   ],
   "source": [
    "# Data preprocessing\n",
    "arxiv_data = arxiv_data[~arxiv_data[\"titles\"].duplicated()]\n",
    "print(f\"There are {len(arxiv_data)} rows in the deduplicated dataset.\")\n",
    "\n",
    "# There are some terms with occurrence as low as 1.\n",
    "print(sum(arxiv_data[\"terms\"].value_counts() == 1))\n",
    "\n",
    "# How many unique terms?\n",
    "print(arxiv_data[\"terms\"].nunique())\n",
    "\n",
    "# Drop lowest occurenence \n",
    "arxiv_data_filtered = arxiv_data.groupby(\"terms\").filter(lambda x: len(x) > 1)\n",
    "arxiv_data_filtered.shape"
   ]
  },
  {
   "cell_type": "code",
   "execution_count": 12,
   "id": "83e16039",
   "metadata": {},
   "outputs": [
    {
     "data": {
      "text/plain": [
       "array([list(['cs.CV', 'cs.LG']), list(['cs.CV', 'cs.AI', 'cs.LG']),\n",
       "       list(['cs.CV', 'cs.AI']), list(['cs.CV']),\n",
       "       list(['cs.CV', 'cs.LG'])], dtype=object)"
      ]
     },
     "execution_count": 12,
     "metadata": {},
     "output_type": "execute_result"
    }
   ],
   "source": [
    "# More preprocessing, convert raw strings to list of strings for terms \n",
    "arxiv_data_filtered[\"terms\"] = arxiv_data_filtered[\"terms\"].apply(\n",
    "    lambda x: literal_eval(x)\n",
    ")\n",
    "arxiv_data_filtered[\"terms\"].values[:5]"
   ]
  },
  {
   "cell_type": "code",
   "execution_count": 13,
   "id": "065595c7",
   "metadata": {},
   "outputs": [
    {
     "name": "stdout",
     "output_type": "stream",
     "text": [
      "Number of rows in training set: 32985\n",
      "Number of rows in validation set: 1833\n",
      "Number of rows in test set: 1833\n"
     ]
    }
   ],
   "source": [
    "# Split data (Stratification to deal with class imbalance)\n",
    "test_split = 0.1\n",
    "\n",
    "# Initial train and test split.\n",
    "train_df, test_df = train_test_split(\n",
    "    arxiv_data_filtered,\n",
    "    test_size=test_split,\n",
    "    stratify=arxiv_data_filtered[\"terms\"].values,\n",
    ")\n",
    "\n",
    "# Splitting the test set further into validation\n",
    "# and new test sets.\n",
    "val_df = test_df.sample(frac=0.5)\n",
    "test_df.drop(val_df.index, inplace=True)\n",
    "\n",
    "print(f\"Number of rows in training set: {len(train_df)}\")\n",
    "print(f\"Number of rows in validation set: {len(val_df)}\")\n",
    "print(f\"Number of rows in test set: {len(test_df)}\")"
   ]
  },
  {
   "cell_type": "code",
   "execution_count": 14,
   "id": "62b63308",
   "metadata": {},
   "outputs": [
    {
     "name": "stderr",
     "output_type": "stream",
     "text": [
      "2022-07-07 12:12:44.405246: I tensorflow/core/platform/cpu_feature_guard.cc:142] This TensorFlow binary is optimized with oneAPI Deep Neural Network Library (oneDNN) to use the following CPU instructions in performance-critical operations:  AVX2 FMA\n",
      "To enable them in other operations, rebuild TensorFlow with the appropriate compiler flags.\n",
      "2022-07-07 12:12:44.480962: I tensorflow/compiler/mlir/mlir_graph_optimization_pass.cc:185] None of the MLIR Optimization Passes are enabled (registered 2)\n"
     ]
    },
    {
     "name": "stdout",
     "output_type": "stream",
     "text": [
      "Vocabulary:\n",
      "\n",
      "['[UNK]', 'cs.CV', 'cs.LG', 'stat.ML', 'cs.AI', 'eess.IV', 'cs.RO', 'cs.CL', 'cs.NE', 'cs.CR', 'math.OC', 'eess.SP', 'cs.GR', 'cs.SI', 'cs.MM', 'cs.SY', 'cs.IR', 'cs.MA', 'eess.SY', 'cs.HC', 'math.IT', 'cs.IT', 'cs.DC', 'stat.AP', 'cs.CY', 'stat.TH', 'math.ST', 'stat.ME', 'eess.AS', 'cs.SD', 'q-bio.QM', 'q-bio.NC', 'cs.DS', 'cs.GT', 'cs.CG', 'cs.SE', 'cs.NI', 'I.2.6', 'stat.CO', 'math.NA', 'cs.NA', 'physics.chem-ph', 'cs.DB', 'q-bio.BM', 'cs.PL', 'cs.LO', 'cond-mat.dis-nn', '68T45', 'math.PR', 'physics.comp-ph', 'cs.CE', 'cs.AR', 'I.2.10', 'q-fin.ST', 'cond-mat.stat-mech', 'quant-ph', 'math.DS', '68T05', 'physics.data-an', 'cs.CC', 'I.4.6', 'physics.soc-ph', 'physics.ao-ph', 'econ.EM', 'cs.DM', 'q-bio.GN', 'physics.med-ph', 'astro-ph.IM', 'I.4.8', 'math.AT', 'cs.PF', 'I.4', 'q-fin.TR', 'cs.FL', 'I.5.4', 'I.2', '68U10', 'physics.optics', 'hep-ex', '68T10', 'physics.geo-ph', 'cond-mat.mtrl-sci', 'q-fin.CP', 'physics.flu-dyn', 'math.CO', 'math.AP', 'I.4; I.5', 'I.4.9', 'I.2.6; I.2.8', '68T01', '65D19', 'nlin.CD', 'cs.MS', 'I.2.6; I.5.1', 'I.2.10; I.4; I.5', 'I.2.0; I.2.6', '68T07', 'q-fin.GN', 'cs.SC', 'cs.ET', 'K.3.2', 'I.2; I.5', 'I.2.8', 'I.2.10; I.4.8', '68U01', '68T30', '68', 'q-fin.EC', 'q-bio.MN', 'econ.GN', 'I.4.9; I.5.4', 'I.4.5', 'I.2; I.4; I.5', 'I.2.6; I.2.7', '68T99', '68Q32', '62H30', 'q-fin.RM', 'q-fin.PM', 'q-bio.TO', 'q-bio.OT', 'physics.bio-ph', 'nlin.AO', 'math.LO', 'math.FA', 'hep-ph', 'cond-mat.soft', 'I.4.6; I.4.8', 'I.4.4', 'I.4.3', 'I.4.0', 'I.2; J.2', 'I.2; I.2.6; I.2.7', 'I.2.7', 'I.2.6; I.5.4', 'I.2.6; I.2.9', 'I.2.6; I.2.7; H.3.1; H.3.3', 'I.2.6; I.2.10', 'I.2.6, I.5.4', 'I.2.1; J.3', 'I.2.10; I.5.1; I.4.8', 'I.2.10; I.4.8; I.5.4', 'I.2.10; I.2.6', 'I.2.1', 'H.3.1; I.2.6; I.2.7', 'H.3.1; H.3.3; I.2.6; I.2.7', 'G.3', 'F.2.2; I.2.7', 'E.5; E.4; E.2; H.1.1; F.1.1; F.1.3', '68Txx', '62H99', '62H35', '14J60 (Primary) 14F05, 14J26 (Secondary)']\n"
     ]
    }
   ],
   "source": [
    "# Vectorization of the multi label binarization \n",
    "terms = tf.ragged.constant(train_df[\"terms\"].values)\n",
    "lookup = tf.keras.layers.StringLookup(output_mode=\"multi_hot\")\n",
    "lookup.adapt(terms)\n",
    "vocab = lookup.get_vocabulary()\n",
    "\n",
    "\n",
    "def invert_multi_hot(encoded_labels):\n",
    "    \"\"\"Reverse a single multi-hot encoded label to a tuple of vocab terms.\"\"\"\n",
    "    hot_indices = np.argwhere(encoded_labels == 1.0)[..., 0]\n",
    "    return np.take(vocab, hot_indices)\n",
    "\n",
    "\n",
    "print(\"Vocabulary:\\n\")\n",
    "print(vocab)"
   ]
  },
  {
   "cell_type": "code",
   "execution_count": 16,
   "id": "d18408e7",
   "metadata": {
    "scrolled": true
   },
   "outputs": [
    {
     "name": "stdout",
     "output_type": "stream",
     "text": [
      "['cs.LG', 'stat.ML']\n",
      "Original label: ['cs.LG', 'stat.ML']\n",
      "Label-binarized representation: [[0. 0. 1. 1. 0. 0. 0. 0. 0. 0. 0. 0. 0. 0. 0. 0. 0. 0. 0. 0. 0. 0. 0. 0.\n",
      "  0. 0. 0. 0. 0. 0. 0. 0. 0. 0. 0. 0. 0. 0. 0. 0. 0. 0. 0. 0. 0. 0. 0. 0.\n",
      "  0. 0. 0. 0. 0. 0. 0. 0. 0. 0. 0. 0. 0. 0. 0. 0. 0. 0. 0. 0. 0. 0. 0. 0.\n",
      "  0. 0. 0. 0. 0. 0. 0. 0. 0. 0. 0. 0. 0. 0. 0. 0. 0. 0. 0. 0. 0. 0. 0. 0.\n",
      "  0. 0. 0. 0. 0. 0. 0. 0. 0. 0. 0. 0. 0. 0. 0. 0. 0. 0. 0. 0. 0. 0. 0. 0.\n",
      "  0. 0. 0. 0. 0. 0. 0. 0. 0. 0. 0. 0. 0. 0. 0. 0. 0. 0. 0. 0. 0. 0. 0. 0.\n",
      "  0. 0. 0. 0. 0. 0. 0. 0. 0.]]\n"
     ]
    }
   ],
   "source": [
    "# Binarization \n",
    "sample_label = train_df[\"terms\"].iloc[0]\n",
    "print(f\"Original label: {sample_label}\")\n",
    "\n",
    "label_binarized = lookup([sample_label])\n",
    "print(f\"Label-binarized representation: {label_binarized}\")"
   ]
  },
  {
   "cell_type": "code",
   "execution_count": 18,
   "id": "92eaa58d",
   "metadata": {},
   "outputs": [],
   "source": [
    "# More preprocessing\n",
    "train_df[\"summaries\"].apply(lambda x: len(x.split(\" \"))).describe()\n",
    "\n",
    "max_seqlen = 160\n",
    "batch_size = 128\n",
    "padding_token = \"<pad>\"\n",
    "auto = tf.data.AUTOTUNE\n",
    "\n",
    "\n",
    "def make_dataset(dataframe, is_train=True):\n",
    "    labels = tf.ragged.constant(dataframe[\"terms\"].values)\n",
    "    label_binarized = lookup(labels).numpy()\n",
    "    dataset = tf.data.Dataset.from_tensor_slices(\n",
    "        (dataframe[\"summaries\"].values, label_binarized)\n",
    "    )\n",
    "    dataset = dataset.shuffle(batch_size * 10) if is_train else dataset\n",
    "    return dataset.batch(batch_size)\n",
    "\n",
    "train_dataset = make_dataset(train_df, is_train=True)\n",
    "validation_dataset = make_dataset(val_df, is_train=False)\n",
    "test_dataset = make_dataset(test_df, is_train=False)"
   ]
  },
  {
   "cell_type": "code",
   "execution_count": 19,
   "id": "1fcc74c5",
   "metadata": {
    "scrolled": true
   },
   "outputs": [
    {
     "name": "stdout",
     "output_type": "stream",
     "text": [
      "Abstract: b'Research in machine learning, mobile robotics, and autonomous driving is\\naccelerated by the availability of high quality annotated data. To this end, we\\nrelease the Audi Autonomous Driving Dataset (A2D2). Our dataset consists of\\nsimultaneously recorded images and 3D point clouds, together with 3D bounding\\nboxes, semantic segmentation, instance segmentation, and data extracted from\\nthe automotive bus. Our sensor suite consists of six cameras and five LiDAR\\nunits, providing full 360 degree coverage. The recorded data is time\\nsynchronized and mutually registered. Annotations are for non-sequential\\nframes: 41,277 frames with semantic segmentation image and point cloud labels,\\nof which 12,497 frames also have 3D bounding box annotations for objects within\\nthe field of view of the front camera. In addition, we provide 392,556\\nsequential frames of unannotated sensor data for recordings in three cities in\\nthe south of Germany. These sequences contain several loops. Faces and vehicle\\nnumber plates are blurred due to GDPR legislation and to preserve anonymity.\\nA2D2 is made available under the CC BY-ND 4.0 license, permitting commercial\\nuse subject to the terms of the license. Data and further information are\\navailable at http://www.a2d2.audi.'\n",
      "Label(s): ['cs.CV' 'cs.LG' 'eess.IV']\n",
      " \n",
      "Abstract: b\"Generative adversarial networks (GANs) are well known for their unsupervised\\nlearning capabilities. A recent success in the field of astronomy is deblending\\ntwo overlapping galaxy images via a branched GAN model. However, it remains a\\nsignificant challenge to comprehend how the network works, which is\\nparticularly difficult for non-expert users. This research focuses on behaviors\\nof one of the network's major components, the Discriminator, which plays a\\nvital role but is often overlooked, Specifically, we enhance the Layer-wise\\nRelevance Propagation (LRP) scheme to generate a heatmap-based visualization.\\nWe call this technique Polarized-LRP and it consists of two parts i.e. positive\\ncontribution heatmaps for ground truth images and negative contribution\\nheatmaps for generated images. Using the Galaxy Zoo dataset we demonstrate that\\nour method clearly reveals attention areas of the Discriminator when\\ndifferentiating generated galaxy images from ground truth images. To connect\\nthe Discriminator's impact on the Generator, we visualize the gradual changes\\nof the Generator across the training process. An interesting result we have\\nachieved there is the detection of a problematic data augmentation procedure\\nthat would else have remained hidden. We find that our proposed method serves\\nas a useful visual analytical tool for a deeper understanding of GAN models.\"\n",
      "Label(s): ['cs.CV' 'eess.IV']\n",
      " \n",
      "Abstract: b'We develop a probabilistic interpretation of two-stage object detection. We\\nshow that this probabilistic interpretation motivates a number of common\\nempirical training practices. It also suggests changes to two-stage detection\\npipelines. Specifically, the first stage should infer proper\\nobject-vs-background likelihoods, which should then inform the overall score of\\nthe detector. A standard region proposal network (RPN) cannot infer this\\nlikelihood sufficiently well, but many one-stage detectors can. We show how to\\nbuild a probabilistic two-stage detector from any state-of-the-art one-stage\\ndetector. The resulting detectors are faster and more accurate than both their\\none- and two-stage precursors. Our detector achieves 56.4 mAP on COCO test-dev\\nwith single-scale testing, outperforming all published results. Using a\\nlightweight backbone, our detector achieves 49.2 mAP on COCO at 33 fps on a\\nTitan Xp, outperforming the popular YOLOv4 model.'\n",
      "Label(s): ['cs.CV']\n",
      " \n",
      "Abstract: b'We study the off-policy evaluation (OPE) problem in reinforcement learning\\nwith linear function approximation, which aims to estimate the value function\\nof a target policy based on the offline data collected by a behavior policy. We\\npropose to incorporate the variance information of the value function to\\nimprove the sample efficiency of OPE. More specifically, for time-inhomogeneous\\nepisodic linear Markov decision processes (MDPs), we propose an algorithm,\\nVA-OPE, which uses the estimated variance of the value function to reweight the\\nBellman residual in Fitted Q-Iteration. We show that our algorithm achieves a\\ntighter error bound than the best-known result. We also provide a fine-grained\\ncharacterization of the distribution shift between the behavior policy and the\\ntarget policy. Extensive numerical experiments corroborate our theory.'\n",
      "Label(s): ['cs.LG' 'stat.ML' 'math.OC']\n",
      " \n",
      "Abstract: b'Image Segmentation plays an essential role in computer vision and image\\nprocessing with various applications from medical diagnosis to autonomous car\\ndriving. A lot of segmentation algorithms have been proposed for addressing\\nspecific problems. In recent years, the success of deep learning techniques has\\ntremendously influenced a wide range of computer vision areas, and the modern\\napproaches of image segmentation based on deep learning are becoming prevalent.\\nIn this article, we introduce a high-efficient development toolkit for image\\nsegmentation, named PaddleSeg. The toolkit aims to help both developers and\\nresearchers in the whole process of designing segmentation models, training\\nmodels, optimizing performance and inference speed, and deploying models.\\nCurrently, PaddleSeg supports around 20 popular segmentation models and more\\nthan 50 pre-trained models from real-time and high-accuracy levels. With\\nmodular components and backbone networks, users can easily build over one\\nhundred models for different requirements. Furthermore, we provide\\ncomprehensive benchmarks and evaluations to show that these segmentation\\nalgorithms trained on our toolkit have more competitive accuracy. Also, we\\nprovide various real industrial applications and practical cases based on\\nPaddleSeg. All codes and examples of PaddleSeg are available at\\nhttps://github.com/PaddlePaddle/PaddleSeg.'\n",
      "Label(s): ['cs.CV']\n",
      " \n"
     ]
    }
   ],
   "source": [
    "# preview dataset\n",
    "text_batch, label_batch = next(iter(train_dataset))\n",
    "\n",
    "for i, text in enumerate(text_batch[:5]):\n",
    "    label = label_batch[i].numpy()[None, ...]\n",
    "    print(f\"Abstract: {text}\")\n",
    "    print(f\"Label(s): {invert_multi_hot(label[0])}\")\n",
    "    print(\" \")"
   ]
  },
  {
   "cell_type": "code",
   "execution_count": 22,
   "id": "848fdf3a",
   "metadata": {},
   "outputs": [
    {
     "name": "stdout",
     "output_type": "stream",
     "text": [
      "153341\n"
     ]
    }
   ],
   "source": [
    "# Vectorization\n",
    "# Source: https://stackoverflow.com/a/18937309/7636462\n",
    "vocabulary = set()\n",
    "train_df[\"summaries\"].str.lower().str.split().apply(vocabulary.update)\n",
    "vocabulary_size = len(vocabulary)\n",
    "print(vocabulary_size)\n",
    "\n",
    "text_vectorizer = layers.TextVectorization(\n",
    "    max_tokens=vocabulary_size, ngrams=2, output_mode=\"tf_idf\"\n",
    ")\n",
    "\n",
    "# `TextVectorization` layer needs to be adapted as per the vocabulary from our\n",
    "# training set.\n",
    "with tf.device(\"/CPU:0\"):\n",
    "    text_vectorizer.adapt(train_dataset.map(lambda text, label: text))\n",
    "\n",
    "train_dataset = train_dataset.map(\n",
    "    lambda text, label: (text_vectorizer(text), label), num_parallel_calls=auto\n",
    ").prefetch(auto)\n",
    "validation_dataset = validation_dataset.map(\n",
    "    lambda text, label: (text_vectorizer(text), label), num_parallel_calls=auto\n",
    ").prefetch(auto)\n",
    "test_dataset = test_dataset.map(\n",
    "    lambda text, label: (text_vectorizer(text), label), num_parallel_calls=auto\n",
    ").prefetch(auto)"
   ]
  },
  {
   "cell_type": "code",
   "execution_count": 23,
   "id": "d01853cc",
   "metadata": {},
   "outputs": [],
   "source": [
    "# Model \n",
    "def make_model():\n",
    "    shallow_mlp_model = keras.Sequential(\n",
    "        [\n",
    "            layers.Dense(512, activation=\"relu\"),\n",
    "            layers.Dense(256, activation=\"relu\"),\n",
    "            layers.Dense(lookup.vocabulary_size(), activation=\"sigmoid\"),\n",
    "        ]  # More on why \"sigmoid\" has been used here in a moment.\n",
    "    )\n",
    "    return shallow_mlp_model"
   ]
  },
  {
   "cell_type": "code",
   "execution_count": 29,
   "id": "c5544e05",
   "metadata": {
    "scrolled": true
   },
   "outputs": [
    {
     "name": "stdout",
     "output_type": "stream",
     "text": [
      "258/258 [==============================] - 56s 213ms/step - loss: 0.0321 - categorical_accuracy: 0.8534 - val_loss: 0.0182 - val_categorical_accuracy: 0.8969\n"
     ]
    },
    {
     "data": {
      "image/png": "[encoded data removed]",
      "text/plain": [
       "<Figure size 432x288 with 1 Axes>"
      ]
     },
     "metadata": {
      "needs_background": "light"
     },
     "output_type": "display_data"
    },
    {
     "data": {
      "image/png": "[encoded data removed]",
      "text/plain": [
       "<Figure size 432x288 with 1 Axes>"
      ]
     },
     "metadata": {
      "needs_background": "light"
     },
     "output_type": "display_data"
    }
   ],
   "source": [
    "# Train \n",
    "epochs = 1\n",
    "\n",
    "shallow_mlp_model = make_model()\n",
    "shallow_mlp_model.compile(\n",
    "    loss=\"binary_crossentropy\", optimizer=\"adam\", metrics=[\"categorical_accuracy\"]\n",
    ")\n",
    "\n",
    "history = shallow_mlp_model.fit(\n",
    "    train_dataset, validation_data=validation_dataset, epochs=epochs\n",
    ")\n",
    "\n",
    "\n",
    "def plot_result(item):\n",
    "    plt.plot(history.history[item], label=item)\n",
    "    plt.plot(history.history[\"val_\" + item], label=\"val_\" + item)\n",
    "    plt.xlabel(\"Epochs\")\n",
    "    plt.ylabel(item)\n",
    "    plt.title(\"Train and Validation {} Over Epochs\".format(item), fontsize=14)\n",
    "    plt.legend()\n",
    "    plt.grid()\n",
    "    plt.show()\n",
    "\n",
    "\n",
    "plot_result(\"loss\")\n",
    "plot_result(\"categorical_accuracy\")"
   ]
  },
  {
   "cell_type": "code",
   "execution_count": 30,
   "id": "f70631bf",
   "metadata": {},
   "outputs": [
    {
     "name": "stdout",
     "output_type": "stream",
     "text": [
      "15/15 [==============================] - 1s 70ms/step - loss: 0.0186 - categorical_accuracy: 0.8898\n",
      "Categorical accuracy on the test set: 88.98%.\n"
     ]
    }
   ],
   "source": [
    "# Evaluation \n",
    "_, categorical_acc = shallow_mlp_model.evaluate(test_dataset)\n",
    "print(f\"Categorical accuracy on the test set: {round(categorical_acc * 100, 2)}%.\")"
   ]
  },
  {
   "cell_type": "code",
   "execution_count": 31,
   "id": "da3f3367",
   "metadata": {},
   "outputs": [
    {
     "name": "stdout",
     "output_type": "stream",
     "text": [
      "Abstract: b'Machine learning classifiers are often trained to recognize a set of\\npre-defined classes. However, in many applications, it is often desirable to\\nhave the flexibility of learning additional concepts, with limited data and\\nwithout re-training on the full training set. This paper addresses this\\nproblem, incremental few-shot learning, where a regular classification network\\nhas already been trained to recognize a set of base classes, and several extra\\nnovel classes are being considered, each with only a few labeled examples.\\nAfter learning the novel classes, the model is then evaluated on the overall\\nclassification performance on both base and novel classes. To this end, we\\npropose a meta-learning model, the Attention Attractor Network, which\\nregularizes the learning of novel classes. In each episode, we train a set of\\nnew weights to recognize novel classes until they converge, and we show that\\nthe technique of recurrent back-propagation can back-propagate through the\\noptimization process and facilitate the learning of these parameters. We\\ndemonstrate that the learned attractor network can help recognize novel classes\\nwhile remembering old classes without the need to review the original training\\nset, outperforming various baselines.'\n",
      "Label(s): ['cs.CV' 'cs.LG' 'stat.ML']\n",
      "Predicted Label(s): (cs.CV, cs.LG, stat.ML)\n",
      " \n",
      "Abstract: b'We propose a novel reinforcement learning-based approach for adaptive and\\niterative feature selection. Given a masked vector of input features, a\\nreinforcement learning agent iteratively selects certain features to be\\nunmasked, and uses them to predict an outcome when it is sufficiently\\nconfident. The algorithm makes use of a novel environment setting,\\ncorresponding to a non-stationary Markov Decision Process. A key component of\\nour approach is a guesser network, trained to predict the outcome from the\\nselected features and parametrizing the reward function. Applying our method to\\na national survey dataset, we show that it not only outperforms strong\\nbaselines when requiring the prediction to be made based on a small number of\\ninput features, but is also highly more interpretable. Our code is publicly\\navailable at \\\\url{https://github.com/ushaham/adaptiveFS}.'\n",
      "Label(s): ['cs.LG' 'stat.ML' 'cs.AI']\n",
      "Predicted Label(s): (cs.LG, stat.ML, cs.AI)\n",
      " \n",
      "Abstract: b'In recent years, cross-spectral iris recognition has emerged as a promising\\nbiometric approach to establish the identity of individuals. However, matching\\niris images acquired at different spectral bands (i.e., matching a visible\\n(VIS) iris probe to a gallery of near-infrared (NIR) iris images or vice versa)\\nshows a significant performance degradation when compared to intraband NIR\\nmatching. Hence, in this paper, we have investigated a range of deep\\nconvolutional generative adversarial network (DCGAN) architectures to further\\nimprove the accuracy of cross-spectral iris recognition methods. Moreover,\\nunlike the existing works in the literature, we introduce a resolution\\ndifference into the classical cross-spectral matching problem domain. We have\\ndeveloped two different techniques using the conditional generative adversarial\\nnetwork (cGAN) as a backbone architecture for cross-spectral iris matching. In\\nthe first approach, we simultaneously address the cross-resolution and\\ncross-spectral matching problem by training a cGAN that jointly translates\\ncross-resolution as well as cross-spectral tasks to the same resolution and\\nwithin the same spectrum. In the second approach, we design a coupled\\ngenerative adversarial network (cpGAN) architecture consisting of a pair of\\ncGAN modules that project the VIS and NIR iris images into a low-dimensional\\nembedding domain to ensure maximum pairwise similarity between the feature\\nvectors from the two iris modalities of the same subject.'\n",
      "Label(s): ['cs.CV']\n",
      "Predicted Label(s): (cs.CV, cs.LG, eess.IV)\n",
      " \n",
      "Abstract: b'As machine learning algorithms continue to improve, there is an increasing\\nneed for explaining why a model produces a certain prediction for a certain\\ninput. In recent years, several methods for model interpretability have been\\ndeveloped, aiming to provide explanation of which subset regions of the model\\ninput is the main reason for the model prediction. In parallel, a significant\\nresearch community effort is occurring in recent years for developing\\nadversarial example generation methods for fooling models, while not altering\\nthe true label of the input,as it would have been classified by a human\\nannotator. In this paper, we bridge the gap between adversarial example\\ngeneration and model interpretability, and introduce a modification to the\\nadversarial example generation process which encourages better\\ninterpretability. We analyze the proposed method on a public medical imaging\\ndataset, both quantitatively and qualitatively, and show that it significantly\\noutperforms the leading known alternative method. Our suggested method is\\nsimple to implement, and can be easily plugged into most common adversarial\\nexample generation frameworks. Additionally, we propose an explanation quality\\nmetric - $APE$ - \"Adversarial Perturbative Explanation\", which measures how\\nwell an explanation describes model decisions.'\n",
      "Label(s): ['cs.CV' 'cs.LG' 'stat.ML' 'cs.CR']\n",
      "Predicted Label(s): (cs.LG, cs.CV, stat.ML)\n",
      " \n",
      "Abstract: b'Estimating the remaining surgery duration (RSD) during surgical procedures\\ncan be useful for OR planning and anesthesia dose estimation. With the recent\\nsuccess of deep learning-based methods in computer vision, several neural\\nnetwork approaches have been proposed for fully automatic RSD prediction based\\nsolely on visual data from the endoscopic camera. We investigate whether RSD\\nprediction can be improved using unsupervised temporal video segmentation as an\\nauxiliary learning task. As opposed to previous work, which presented\\nsupervised surgical phase recognition as auxiliary task, we avoid the need for\\nmanual annotations by proposing a similar but unsupervised learning objective\\nwhich clusters video sequences into temporally coherent segments. In multiple\\nexperimental setups, results obtained by learning the auxiliary task are\\nincorporated into a deep RSD model through feature extraction, pretraining or\\nregularization. Further, we propose a novel loss function for RSD training\\nwhich attempts to counteract unfavorable characteristics of the RSD ground\\ntruth. Using our unsupervised method as an auxiliary task for RSD training, we\\noutperform other self-supervised methods and are comparable to the supervised\\nstate-of-the-art. Combined with the novel RSD loss, we slightly outperform the\\nsupervised approach.'\n",
      "Label(s): ['cs.CV']\n",
      "Predicted Label(s): (cs.CV, cs.LG, stat.ML)\n",
      " \n"
     ]
    }
   ],
   "source": [
    "# End to End model \n",
    "model_for_inference = keras.Sequential([text_vectorizer, shallow_mlp_model])\n",
    "\n",
    "# Create a small dataset just for demoing inference.\n",
    "inference_dataset = make_dataset(test_df.sample(100), is_train=False)\n",
    "text_batch, label_batch = next(iter(inference_dataset))\n",
    "predicted_probabilities = model_for_inference.predict(text_batch)\n",
    "\n",
    "# Perform inference.\n",
    "for i, text in enumerate(text_batch[:5]):\n",
    "    label = label_batch[i].numpy()[None, ...]\n",
    "    print(f\"Abstract: {text}\")\n",
    "    print(f\"Label(s): {invert_multi_hot(label[0])}\")\n",
    "    predicted_proba = [proba for proba in predicted_probabilities[i]]\n",
    "    top_3_labels = [\n",
    "        x\n",
    "        for _, x in sorted(\n",
    "            zip(predicted_probabilities[i], lookup.get_vocabulary()),\n",
    "            key=lambda pair: pair[0],\n",
    "            reverse=True,\n",
    "        )\n",
    "    ][:3]\n",
    "    print(f\"Predicted Label(s): ({', '.join([label for label in top_3_labels])})\")\n",
    "    print(\" \")"
   ]
  }
 ],
 "metadata": {
  "kernelspec": {
   "display_name": "Python 3 (ipykernel)",
   "language": "python",
   "name": "python3"
  },
  "language_info": {
   "codemirror_mode": {
    "name": "ipython",
    "version": 3
   },
   "file_extension": ".py",
   "mimetype": "text/x-python",
   "name": "python",
   "nbconvert_exporter": "python",
   "pygments_lexer": "ipython3",
   "version": "3.7.13"
  }
 },
 "nbformat": 4,
 "nbformat_minor": 5
}
