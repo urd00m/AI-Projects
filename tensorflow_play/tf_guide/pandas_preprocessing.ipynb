{
 "cells": [
  {
   "cell_type": "code",
   "execution_count": 60,
   "id": "68e76792",
   "metadata": {},
   "outputs": [],
   "source": [
    "import pandas as pd\n",
    "import tensorflow as tf\n",
    "from sklearn.model_selection import train_test_split\n",
    "import matplotlib.pyplot as plt\n",
    "\n",
    "SHUFFLE_BUFFER = 500\n",
    "BATCH_SIZE = 2"
   ]
  },
  {
   "cell_type": "markdown",
   "id": "318eaeee",
   "metadata": {},
   "source": [
    "# Dataframe as an Array"
   ]
  },
  {
   "cell_type": "code",
   "execution_count": 3,
   "id": "09eff625",
   "metadata": {},
   "outputs": [
    {
     "name": "stdout",
     "output_type": "stream",
     "text": [
      "Downloading data from https://storage.googleapis.com/download.tensorflow.org/data/heart.csv\n",
      "16384/13273 [=====================================] - 0s 0us/step\n",
      "24576/13273 [=======================================================] - 0s 0us/step\n"
     ]
    },
    {
     "data": {
      "text/html": [
       "<div>\n",
       "<style scoped>\n",
       "    .dataframe tbody tr th:only-of-type {\n",
       "        vertical-align: middle;\n",
       "    }\n",
       "\n",
       "    .dataframe tbody tr th {\n",
       "        vertical-align: top;\n",
       "    }\n",
       "\n",
       "    .dataframe thead th {\n",
       "        text-align: right;\n",
       "    }\n",
       "</style>\n",
       "<table border=\"1\" class=\"dataframe\">\n",
       "  <thead>\n",
       "    <tr style=\"text-align: right;\">\n",
       "      <th></th>\n",
       "      <th>age</th>\n",
       "      <th>sex</th>\n",
       "      <th>cp</th>\n",
       "      <th>trestbps</th>\n",
       "      <th>chol</th>\n",
       "      <th>fbs</th>\n",
       "      <th>restecg</th>\n",
       "      <th>thalach</th>\n",
       "      <th>exang</th>\n",
       "      <th>oldpeak</th>\n",
       "      <th>slope</th>\n",
       "      <th>ca</th>\n",
       "      <th>thal</th>\n",
       "      <th>target</th>\n",
       "    </tr>\n",
       "  </thead>\n",
       "  <tbody>\n",
       "    <tr>\n",
       "      <th>0</th>\n",
       "      <td>63</td>\n",
       "      <td>1</td>\n",
       "      <td>1</td>\n",
       "      <td>145</td>\n",
       "      <td>233</td>\n",
       "      <td>1</td>\n",
       "      <td>2</td>\n",
       "      <td>150</td>\n",
       "      <td>0</td>\n",
       "      <td>2.3</td>\n",
       "      <td>3</td>\n",
       "      <td>0</td>\n",
       "      <td>fixed</td>\n",
       "      <td>0</td>\n",
       "    </tr>\n",
       "    <tr>\n",
       "      <th>1</th>\n",
       "      <td>67</td>\n",
       "      <td>1</td>\n",
       "      <td>4</td>\n",
       "      <td>160</td>\n",
       "      <td>286</td>\n",
       "      <td>0</td>\n",
       "      <td>2</td>\n",
       "      <td>108</td>\n",
       "      <td>1</td>\n",
       "      <td>1.5</td>\n",
       "      <td>2</td>\n",
       "      <td>3</td>\n",
       "      <td>normal</td>\n",
       "      <td>1</td>\n",
       "    </tr>\n",
       "    <tr>\n",
       "      <th>2</th>\n",
       "      <td>67</td>\n",
       "      <td>1</td>\n",
       "      <td>4</td>\n",
       "      <td>120</td>\n",
       "      <td>229</td>\n",
       "      <td>0</td>\n",
       "      <td>2</td>\n",
       "      <td>129</td>\n",
       "      <td>1</td>\n",
       "      <td>2.6</td>\n",
       "      <td>2</td>\n",
       "      <td>2</td>\n",
       "      <td>reversible</td>\n",
       "      <td>0</td>\n",
       "    </tr>\n",
       "    <tr>\n",
       "      <th>3</th>\n",
       "      <td>37</td>\n",
       "      <td>1</td>\n",
       "      <td>3</td>\n",
       "      <td>130</td>\n",
       "      <td>250</td>\n",
       "      <td>0</td>\n",
       "      <td>0</td>\n",
       "      <td>187</td>\n",
       "      <td>0</td>\n",
       "      <td>3.5</td>\n",
       "      <td>3</td>\n",
       "      <td>0</td>\n",
       "      <td>normal</td>\n",
       "      <td>0</td>\n",
       "    </tr>\n",
       "    <tr>\n",
       "      <th>4</th>\n",
       "      <td>41</td>\n",
       "      <td>0</td>\n",
       "      <td>2</td>\n",
       "      <td>130</td>\n",
       "      <td>204</td>\n",
       "      <td>0</td>\n",
       "      <td>2</td>\n",
       "      <td>172</td>\n",
       "      <td>0</td>\n",
       "      <td>1.4</td>\n",
       "      <td>1</td>\n",
       "      <td>0</td>\n",
       "      <td>normal</td>\n",
       "      <td>0</td>\n",
       "    </tr>\n",
       "  </tbody>\n",
       "</table>\n",
       "</div>"
      ],
      "text/plain": [
       "   age  sex  cp  trestbps  chol  fbs  restecg  thalach  exang  oldpeak  slope  \\\n",
       "0   63    1   1       145   233    1        2      150      0      2.3      3   \n",
       "1   67    1   4       160   286    0        2      108      1      1.5      2   \n",
       "2   67    1   4       120   229    0        2      129      1      2.6      2   \n",
       "3   37    1   3       130   250    0        0      187      0      3.5      3   \n",
       "4   41    0   2       130   204    0        2      172      0      1.4      1   \n",
       "\n",
       "   ca        thal  target  \n",
       "0   0       fixed       0  \n",
       "1   3      normal       1  \n",
       "2   2  reversible       0  \n",
       "3   0      normal       0  \n",
       "4   0      normal       0  "
      ]
     },
     "execution_count": 3,
     "metadata": {},
     "output_type": "execute_result"
    }
   ],
   "source": [
    "# Get data\n",
    "csv_file = tf.keras.utils.get_file('heart.csv', 'https://storage.googleapis.com/download.tensorflow.org/data/heart.csv')\n",
    "\n",
    "# read csv file \n",
    "df = pd.read_csv(csv_file)\n",
    "df.head()"
   ]
  },
  {
   "cell_type": "code",
   "execution_count": 4,
   "id": "ae2710ff",
   "metadata": {
    "scrolled": true
   },
   "outputs": [
    {
     "data": {
      "text/plain": [
       "age           int64\n",
       "sex           int64\n",
       "cp            int64\n",
       "trestbps      int64\n",
       "chol          int64\n",
       "fbs           int64\n",
       "restecg       int64\n",
       "thalach       int64\n",
       "exang         int64\n",
       "oldpeak     float64\n",
       "slope         int64\n",
       "ca            int64\n",
       "thal         object\n",
       "target        int64\n",
       "dtype: object"
      ]
     },
     "execution_count": 4,
     "metadata": {},
     "output_type": "execute_result"
    }
   ],
   "source": [
    "df.dtypes"
   ]
  },
  {
   "cell_type": "code",
   "execution_count": 5,
   "id": "a802b473",
   "metadata": {},
   "outputs": [],
   "source": [
    "# get label\n",
    "target = df.pop(\"target\")"
   ]
  },
  {
   "cell_type": "code",
   "execution_count": 6,
   "id": "6cf9958e",
   "metadata": {},
   "outputs": [
    {
     "data": {
      "text/html": [
       "<div>\n",
       "<style scoped>\n",
       "    .dataframe tbody tr th:only-of-type {\n",
       "        vertical-align: middle;\n",
       "    }\n",
       "\n",
       "    .dataframe tbody tr th {\n",
       "        vertical-align: top;\n",
       "    }\n",
       "\n",
       "    .dataframe thead th {\n",
       "        text-align: right;\n",
       "    }\n",
       "</style>\n",
       "<table border=\"1\" class=\"dataframe\">\n",
       "  <thead>\n",
       "    <tr style=\"text-align: right;\">\n",
       "      <th></th>\n",
       "      <th>age</th>\n",
       "      <th>thalach</th>\n",
       "      <th>trestbps</th>\n",
       "      <th>chol</th>\n",
       "      <th>oldpeak</th>\n",
       "    </tr>\n",
       "  </thead>\n",
       "  <tbody>\n",
       "    <tr>\n",
       "      <th>0</th>\n",
       "      <td>63</td>\n",
       "      <td>150</td>\n",
       "      <td>145</td>\n",
       "      <td>233</td>\n",
       "      <td>2.3</td>\n",
       "    </tr>\n",
       "    <tr>\n",
       "      <th>1</th>\n",
       "      <td>67</td>\n",
       "      <td>108</td>\n",
       "      <td>160</td>\n",
       "      <td>286</td>\n",
       "      <td>1.5</td>\n",
       "    </tr>\n",
       "    <tr>\n",
       "      <th>2</th>\n",
       "      <td>67</td>\n",
       "      <td>129</td>\n",
       "      <td>120</td>\n",
       "      <td>229</td>\n",
       "      <td>2.6</td>\n",
       "    </tr>\n",
       "    <tr>\n",
       "      <th>3</th>\n",
       "      <td>37</td>\n",
       "      <td>187</td>\n",
       "      <td>130</td>\n",
       "      <td>250</td>\n",
       "      <td>3.5</td>\n",
       "    </tr>\n",
       "    <tr>\n",
       "      <th>4</th>\n",
       "      <td>41</td>\n",
       "      <td>172</td>\n",
       "      <td>130</td>\n",
       "      <td>204</td>\n",
       "      <td>1.4</td>\n",
       "    </tr>\n",
       "  </tbody>\n",
       "</table>\n",
       "</div>"
      ],
      "text/plain": [
       "   age  thalach  trestbps  chol  oldpeak\n",
       "0   63      150       145   233      2.3\n",
       "1   67      108       160   286      1.5\n",
       "2   67      129       120   229      2.6\n",
       "3   37      187       130   250      3.5\n",
       "4   41      172       130   204      1.4"
      ]
     },
     "execution_count": 6,
     "metadata": {},
     "output_type": "execute_result"
    }
   ],
   "source": [
    "# get numerical features \n",
    "numeric_feature_names = ['age', 'thalach', 'trestbps',  'chol', 'oldpeak']\n",
    "numeric_features = df[numeric_feature_names]\n",
    "numeric_features.head()"
   ]
  },
  {
   "cell_type": "code",
   "execution_count": 8,
   "id": "5f67230c",
   "metadata": {},
   "outputs": [
    {
     "data": {
      "text/plain": [
       "<tf.Tensor: shape=(303, 5), dtype=float64, numpy=\n",
       "array([[ 63. , 150. , 145. , 233. ,   2.3],\n",
       "       [ 67. , 108. , 160. , 286. ,   1.5],\n",
       "       [ 67. , 129. , 120. , 229. ,   2.6],\n",
       "       ...,\n",
       "       [ 65. , 127. , 135. , 254. ,   2.8],\n",
       "       [ 48. , 150. , 130. , 256. ,   0. ],\n",
       "       [ 63. , 154. , 150. , 407. ,   4. ]])>"
      ]
     },
     "execution_count": 8,
     "metadata": {},
     "output_type": "execute_result"
    }
   ],
   "source": [
    "# Converting pandas df to tensor object \n",
    "tf.convert_to_tensor(numeric_features)"
   ]
  },
  {
   "cell_type": "code",
   "execution_count": 10,
   "id": "0310ed9b",
   "metadata": {},
   "outputs": [
    {
     "data": {
      "text/plain": [
       "<tf.Tensor: shape=(3, 5), dtype=float32, numpy=\n",
       "array([[ 0.93383914,  0.03480718,  0.74578077, -0.2600867 ,  1.0680453 ],\n",
       "       [ 1.3782105 , -1.7806165 ,  1.5923285 ,  0.7573879 ,  0.38022864],\n",
       "       [ 1.3782105 , -0.87290466, -0.6651321 , -0.3368772 ,  1.3259765 ]],\n",
       "      dtype=float32)>"
      ]
     },
     "execution_count": 10,
     "metadata": {},
     "output_type": "execute_result"
    }
   ],
   "source": [
    "# normalization layer \n",
    "normalizer = tf.keras.layers.Normalization(axis=-1)\n",
    "normalizer.adapt(numeric_features)\n",
    "\n",
    "# visualize on first 3 rows \n",
    "normalizer(numeric_features.iloc[:3])"
   ]
  },
  {
   "cell_type": "code",
   "execution_count": 11,
   "id": "31eb1de8",
   "metadata": {},
   "outputs": [],
   "source": [
    "# model \n",
    "def get_basic_model():\n",
    "    model = tf.keras.Sequential([\n",
    "        normalizer,\n",
    "        tf.keras.layers.Dense(10, activation='relu'),\n",
    "        tf.keras.layers.Dense(10, activation='relu'),\n",
    "        tf.keras.layers.Dense(1)\n",
    "    ])\n",
    "\n",
    "    model.compile(optimizer='adam',\n",
    "                loss=tf.keras.losses.BinaryCrossentropy(from_logits=True),\n",
    "                metrics=['accuracy'])\n",
    "    return model"
   ]
  },
  {
   "cell_type": "code",
   "execution_count": 12,
   "id": "dbd2e18a",
   "metadata": {
    "scrolled": true
   },
   "outputs": [
    {
     "name": "stdout",
     "output_type": "stream",
     "text": [
      "Epoch 1/15\n",
      "152/152 [==============================] - 1s 789us/step - loss: 0.5705 - accuracy: 0.7360\n",
      "Epoch 2/15\n",
      "152/152 [==============================] - 0s 730us/step - loss: 0.5049 - accuracy: 0.7228\n",
      "Epoch 3/15\n",
      "152/152 [==============================] - 0s 690us/step - loss: 0.4804 - accuracy: 0.7294\n",
      "Epoch 4/15\n",
      "152/152 [==============================] - 0s 688us/step - loss: 0.4666 - accuracy: 0.7360\n",
      "Epoch 5/15\n",
      "152/152 [==============================] - 0s 710us/step - loss: 0.4549 - accuracy: 0.7492\n",
      "Epoch 6/15\n",
      "152/152 [==============================] - 0s 746us/step - loss: 0.4472 - accuracy: 0.7591\n",
      "Epoch 7/15\n",
      "152/152 [==============================] - 0s 798us/step - loss: 0.4407 - accuracy: 0.7822\n",
      "Epoch 8/15\n",
      "152/152 [==============================] - 0s 768us/step - loss: 0.4353 - accuracy: 0.7855\n",
      "Epoch 9/15\n",
      "152/152 [==============================] - 0s 836us/step - loss: 0.4310 - accuracy: 0.7921\n",
      "Epoch 10/15\n",
      "152/152 [==============================] - 0s 826us/step - loss: 0.4285 - accuracy: 0.7921\n",
      "Epoch 11/15\n",
      "152/152 [==============================] - 0s 790us/step - loss: 0.4267 - accuracy: 0.7888\n",
      "Epoch 12/15\n",
      "152/152 [==============================] - 0s 779us/step - loss: 0.4247 - accuracy: 0.7921\n",
      "Epoch 13/15\n",
      "152/152 [==============================] - 0s 787us/step - loss: 0.4221 - accuracy: 0.7888\n",
      "Epoch 14/15\n",
      "152/152 [==============================] - 0s 770us/step - loss: 0.4201 - accuracy: 0.7921\n",
      "Epoch 15/15\n",
      "152/152 [==============================] - 0s 756us/step - loss: 0.4185 - accuracy: 0.7987\n"
     ]
    },
    {
     "data": {
      "text/plain": [
       "<keras.callbacks.History at 0x7f993adb0990>"
      ]
     },
     "execution_count": 12,
     "metadata": {},
     "output_type": "execute_result"
    }
   ],
   "source": [
    "# train\n",
    "model = get_basic_model()\n",
    "model.fit(numeric_features, target, epochs=15, batch_size=BATCH_SIZE)"
   ]
  },
  {
   "cell_type": "code",
   "execution_count": 81,
   "id": "94a67674",
   "metadata": {
    "scrolled": true
   },
   "outputs": [
    {
     "name": "stdout",
     "output_type": "stream",
     "text": [
      "Epoch 1/20\n",
      "  1/106 [..............................] - ETA: 21s - loss: 0.7650 - accuracy: 0.5000"
     ]
    },
    {
     "name": "stderr",
     "output_type": "stream",
     "text": [
      "/Users/alanwang/opt/anaconda3/envs/tf/lib/python3.7/site-packages/keras/backend.py:4994: UserWarning: \"`binary_crossentropy` received `from_logits=True`, but the `output` argument was produced by a sigmoid or softmax activation and thus does not represent logits. Was this intended?\"\n",
      "  '\"`binary_crossentropy` received `from_logits=True`, but the `output`'\n"
     ]
    },
    {
     "name": "stdout",
     "output_type": "stream",
     "text": [
      "106/106 [==============================] - 0s 2ms/step - loss: 0.7316 - accuracy: 0.5000 - val_loss: 0.6088 - val_accuracy: 0.6727\n",
      "Epoch 2/20\n",
      "106/106 [==============================] - 0s 877us/step - loss: 0.5317 - accuracy: 0.7500 - val_loss: 0.5116 - val_accuracy: 0.7818\n",
      "Epoch 3/20\n",
      "  1/106 [..............................] - ETA: 0s - loss: 0.4150 - accuracy: 1.0000"
     ]
    },
    {
     "name": "stderr",
     "output_type": "stream",
     "text": [
      "/Users/alanwang/opt/anaconda3/envs/tf/lib/python3.7/site-packages/keras/backend.py:4994: UserWarning: \"`binary_crossentropy` received `from_logits=True`, but the `output` argument was produced by a sigmoid or softmax activation and thus does not represent logits. Was this intended?\"\n",
      "  '\"`binary_crossentropy` received `from_logits=True`, but the `output`'\n"
     ]
    },
    {
     "name": "stdout",
     "output_type": "stream",
     "text": [
      "106/106 [==============================] - 0s 898us/step - loss: 0.4357 - accuracy: 0.7925 - val_loss: 0.4526 - val_accuracy: 0.8000\n",
      "Epoch 4/20\n",
      "106/106 [==============================] - 0s 855us/step - loss: 0.3768 - accuracy: 0.8349 - val_loss: 0.4215 - val_accuracy: 0.7818\n",
      "Epoch 5/20\n",
      "106/106 [==============================] - 0s 820us/step - loss: 0.3425 - accuracy: 0.8538 - val_loss: 0.4050 - val_accuracy: 0.8000\n",
      "Epoch 6/20\n",
      "106/106 [==============================] - 0s 860us/step - loss: 0.3216 - accuracy: 0.8679 - val_loss: 0.3977 - val_accuracy: 0.8000\n",
      "Epoch 7/20\n",
      "106/106 [==============================] - 0s 856us/step - loss: 0.3054 - accuracy: 0.8774 - val_loss: 0.3949 - val_accuracy: 0.8182\n",
      "Epoch 8/20\n",
      "106/106 [==============================] - 0s 863us/step - loss: 0.2949 - accuracy: 0.8821 - val_loss: 0.3933 - val_accuracy: 0.8182\n",
      "Epoch 9/20\n",
      "106/106 [==============================] - 0s 846us/step - loss: 0.2855 - accuracy: 0.8915 - val_loss: 0.3946 - val_accuracy: 0.8182\n",
      "Epoch 10/20\n",
      "106/106 [==============================] - 0s 864us/step - loss: 0.2765 - accuracy: 0.8868 - val_loss: 0.3974 - val_accuracy: 0.8182\n",
      "Epoch 11/20\n",
      "106/106 [==============================] - 0s 816us/step - loss: 0.2704 - accuracy: 0.8962 - val_loss: 0.4000 - val_accuracy: 0.8182\n",
      "Epoch 12/20\n",
      "106/106 [==============================] - 0s 847us/step - loss: 0.2627 - accuracy: 0.8868 - val_loss: 0.4048 - val_accuracy: 0.8182\n",
      "Epoch 13/20\n",
      "106/106 [==============================] - 0s 841us/step - loss: 0.2562 - accuracy: 0.8915 - val_loss: 0.4086 - val_accuracy: 0.8364\n",
      "Epoch 14/20\n",
      "106/106 [==============================] - 0s 836us/step - loss: 0.2487 - accuracy: 0.9009 - val_loss: 0.4128 - val_accuracy: 0.8364\n",
      "Epoch 15/20\n",
      "106/106 [==============================] - 0s 829us/step - loss: 0.2418 - accuracy: 0.9057 - val_loss: 0.4171 - val_accuracy: 0.8364\n",
      "Epoch 16/20\n",
      "106/106 [==============================] - 0s 968us/step - loss: 0.2370 - accuracy: 0.9151 - val_loss: 0.4201 - val_accuracy: 0.8545\n",
      "Epoch 17/20\n",
      "106/106 [==============================] - 0s 973us/step - loss: 0.2307 - accuracy: 0.9057 - val_loss: 0.4251 - val_accuracy: 0.8545\n",
      "Epoch 18/20\n",
      "106/106 [==============================] - 0s 957us/step - loss: 0.2248 - accuracy: 0.9151 - val_loss: 0.4302 - val_accuracy: 0.8545\n",
      "Epoch 19/20\n",
      "106/106 [==============================] - 0s 870us/step - loss: 0.2191 - accuracy: 0.9104 - val_loss: 0.4348 - val_accuracy: 0.8545\n",
      "Epoch 20/20\n",
      "106/106 [==============================] - 0s 843us/step - loss: 0.2129 - accuracy: 0.9245 - val_loss: 0.4412 - val_accuracy: 0.8364\n",
      "TESTING\n",
      "2/2 [==============================] - 0s 2ms/step - loss: 0.3381 - accuracy: 0.8611\n",
      "[1, 0, 0, 0, 0]\n",
      "True label: 244    1\n",
      "249    0\n",
      "144    0\n",
      "236    0\n",
      "116    0\n",
      "Name: target, dtype: int64\n"
     ]
    }
   ],
   "source": [
    "# play to improve accuracy \n",
    "df = pd.read_csv(csv_file)\n",
    "df.head()\n",
    "BATCH_SIZE=2\n",
    "\n",
    "# get dummies and separate out \n",
    "df = pd.get_dummies(df)\n",
    "target = df.pop(\"target\")\n",
    "\n",
    "# convert to tensor \n",
    "tf.convert_to_tensor(df)\n",
    "\n",
    "# Normalization layer\n",
    "normalizer = tf.keras.layers.Normalization(axis=-1)\n",
    "normalizer.adapt(df)\n",
    "\n",
    "# Train and test split\n",
    "train_features, test_features, train_labels, test_labels = train_test_split(df,target,test_size=0.3,random_state=42)\n",
    "\n",
    "# validation set \n",
    "test_features, val_features, test_labels, val_labels = train_test_split(test_features, test_labels, test_size=.6,random_state=42)\n",
    "\n",
    "def build_model():\n",
    "    model = tf.keras.Sequential([\n",
    "        normalizer,\n",
    "        tf.keras.layers.Dense(17, activation='relu'),\n",
    "        tf.keras.layers.Dense(20, activation='relu'),\n",
    "        tf.keras.layers.Dense(1, activation='sigmoid')\n",
    "    ])\n",
    "\n",
    "    model.compile(optimizer='sgd',\n",
    "                loss=tf.keras.losses.BinaryCrossentropy(from_logits=True),\n",
    "                metrics=['accuracy'])\n",
    "    return model\n",
    "\n",
    "# Train \n",
    "model = build_model()\n",
    "history = model.fit(train_features, train_labels, validation_data=(val_features, val_labels), epochs=20, batch_size=BATCH_SIZE)\n",
    "\n",
    "# Evaluation \n",
    "print(\"TESTING\")\n",
    "model.evaluate(test_features, test_labels)\n",
    "\n",
    "# Helper function\n",
    "def round_array(to_round):\n",
    "    ret = []\n",
    "    for item in to_round:\n",
    "        ret.append(round(item[0]))\n",
    "    return ret \n",
    "\n",
    "# Inference / Prediction on first 5\n",
    "print(str(round_array(model.predict(test_features[:5]))))\n",
    "print(f\"True label: {test_labels[:5]}\")"
   ]
  },
  {
   "cell_type": "code",
   "execution_count": 82,
   "id": "ca5dc40a",
   "metadata": {},
   "outputs": [
    {
     "data": {
      "image/png": "[encoded data removed]",
      "text/plain": [
       "<Figure size 432x288 with 1 Axes>"
      ]
     },
     "metadata": {
      "needs_background": "light"
     },
     "output_type": "display_data"
    },
    {
     "data": {
      "image/png": "[encoded data removed]",
      "text/plain": [
       "<Figure size 432x288 with 1 Axes>"
      ]
     },
     "metadata": {
      "needs_background": "light"
     },
     "output_type": "display_data"
    }
   ],
   "source": [
    "# visualize training \n",
    "plt.plot(history.history[\"val_accuracy\"], label=\"val_accuracy\", color=\"blue\")\n",
    "plt.plot(history.history[\"accuracy\"], label=\"accuracy\", color=\"red\")\n",
    "plt.legend()\n",
    "plt.show()\n",
    "plt.plot(history.history[\"val_loss\"], label=\"val_loss\", color=\"blue\")\n",
    "plt.plot(history.history[\"loss\"], label=\"loss\", color=\"red\")\n",
    "plt.legend()\n",
    "plt.show()"
   ]
  },
  {
   "cell_type": "markdown",
   "id": "4818c8cf",
   "metadata": {},
   "source": [
    "# As a Dictionary"
   ]
  },
  {
   "cell_type": "code",
   "execution_count": 89,
   "id": "e209a896",
   "metadata": {},
   "outputs": [
    {
     "name": "stdout",
     "output_type": "stream",
     "text": [
      "({'age': <tf.Tensor: shape=(), dtype=int64, numpy=63>, 'thalach': <tf.Tensor: shape=(), dtype=int64, numpy=150>, 'trestbps': <tf.Tensor: shape=(), dtype=int64, numpy=145>, 'chol': <tf.Tensor: shape=(), dtype=int64, numpy=233>, 'oldpeak': <tf.Tensor: shape=(), dtype=float64, numpy=2.3>}, <tf.Tensor: shape=(), dtype=int64, numpy=0>)\n",
      "({'age': <tf.Tensor: shape=(), dtype=int64, numpy=67>, 'thalach': <tf.Tensor: shape=(), dtype=int64, numpy=108>, 'trestbps': <tf.Tensor: shape=(), dtype=int64, numpy=160>, 'chol': <tf.Tensor: shape=(), dtype=int64, numpy=286>, 'oldpeak': <tf.Tensor: shape=(), dtype=float64, numpy=1.5>}, <tf.Tensor: shape=(), dtype=int64, numpy=1>)\n",
      "({'age': <tf.Tensor: shape=(), dtype=int64, numpy=67>, 'thalach': <tf.Tensor: shape=(), dtype=int64, numpy=129>, 'trestbps': <tf.Tensor: shape=(), dtype=int64, numpy=120>, 'chol': <tf.Tensor: shape=(), dtype=int64, numpy=229>, 'oldpeak': <tf.Tensor: shape=(), dtype=float64, numpy=2.6>}, <tf.Tensor: shape=(), dtype=int64, numpy=0>)\n"
     ]
    }
   ],
   "source": [
    "# get data\n",
    "numeric_dict_ds = tf.data.Dataset.from_tensor_slices((dict(numeric_features), target))\n",
    "\n",
    "# visualize \n",
    "for row in numeric_dict_ds.take(3):\n",
    "    print(row)"
   ]
  },
  {
   "cell_type": "markdown",
   "id": "92f96eeb",
   "metadata": {},
   "source": [
    "# Using model subclass"
   ]
  },
  {
   "cell_type": "code",
   "execution_count": 92,
   "id": "8d67884e",
   "metadata": {},
   "outputs": [
    {
     "name": "stdout",
     "output_type": "stream",
     "text": [
      "Epoch 1/5\n",
      "152/152 [==============================] - 2s 12ms/step - loss: 0.6715 - accuracy: 0.6865\n",
      "Epoch 2/5\n",
      "152/152 [==============================] - 1s 10ms/step - loss: 0.5092 - accuracy: 0.7294\n",
      "Epoch 3/5\n",
      "152/152 [==============================] - 1s 10ms/step - loss: 0.4649 - accuracy: 0.7360\n",
      "Epoch 4/5\n",
      "152/152 [==============================] - 1s 10ms/step - loss: 0.4468 - accuracy: 0.7624\n",
      "Epoch 5/5\n",
      "152/152 [==============================] - 1s 10ms/step - loss: 0.4387 - accuracy: 0.7657\n",
      "Epoch 1/5\n",
      "152/152 [==============================] - 2s 10ms/step - loss: 0.4336 - accuracy: 0.7624\n",
      "Epoch 2/5\n",
      "152/152 [==============================] - 1s 10ms/step - loss: 0.4296 - accuracy: 0.7789\n",
      "Epoch 3/5\n",
      "152/152 [==============================] - 1s 10ms/step - loss: 0.4283 - accuracy: 0.7723\n",
      "Epoch 4/5\n",
      "152/152 [==============================] - 2s 10ms/step - loss: 0.4262 - accuracy: 0.7822\n",
      "Epoch 5/5\n",
      "152/152 [==============================] - 1s 10ms/step - loss: 0.4247 - accuracy: 0.7756\n"
     ]
    },
    {
     "data": {
      "text/plain": [
       "<keras.callbacks.History at 0x7f993b9853d0>"
      ]
     },
     "execution_count": 92,
     "metadata": {},
     "output_type": "execute_result"
    }
   ],
   "source": [
    "# function to handle inputs \n",
    "def stack_dict(inputs, fun=tf.stack):\n",
    "    values = []\n",
    "    for key in sorted(inputs.keys()):\n",
    "        values.append(tf.cast(inputs[key], tf.float32))  # cast to 32 bit float \n",
    "\n",
    "    return fun(values, axis=-1) # What does fun do? \n",
    "\n",
    "# Model\n",
    "class MyModel(tf.keras.Model):\n",
    "    def __init__(self):\n",
    "        # Create all the internal layers in init.\n",
    "        super().__init__(self)\n",
    "\n",
    "        self.normalizer = tf.keras.layers.Normalization(axis=-1)\n",
    "\n",
    "        self.seq = tf.keras.Sequential([\n",
    "          self.normalizer,\n",
    "          tf.keras.layers.Dense(10, activation='relu'),\n",
    "          tf.keras.layers.Dense(10, activation='relu'),\n",
    "          tf.keras.layers.Dense(1)\n",
    "        ])\n",
    "\n",
    "    def adapt(self, inputs):\n",
    "        # Stack the inputs and `adapt` the normalization layer.\n",
    "        inputs = stack_dict(inputs)\n",
    "        self.normalizer.adapt(inputs)\n",
    "\n",
    "    def call(self, inputs):\n",
    "        # Stack the inputs\n",
    "        inputs = stack_dict(inputs)\n",
    "        # Run them through all the layers.\n",
    "        result = self.seq(inputs)\n",
    "        return result\n",
    "\n",
    "# Create model\n",
    "model = MyModel()\n",
    "model.adapt(dict(numeric_features))\n",
    "model.compile(optimizer='adam',\n",
    "              loss=tf.keras.losses.BinaryCrossentropy(from_logits=True),\n",
    "              metrics=['accuracy'],\n",
    "              run_eagerly=True)\n",
    "\n",
    "# Training \n",
    "model.fit(dict(numeric_features), target, epochs=5, batch_size=BATCH_SIZE)\n",
    "\n",
    "# Batch it \n",
    "numeric_dict_batches = numeric_dict_ds.shuffle(SHUFFLE_BUFFER).batch(BATCH_SIZE)\n",
    "model.fit(numeric_dict_batches, epochs=5)"
   ]
  },
  {
   "cell_type": "code",
   "execution_count": 93,
   "id": "cb7646a6",
   "metadata": {},
   "outputs": [
    {
     "data": {
      "text/plain": [
       "array([[[ 0.27833122]],\n",
       "\n",
       "       [[ 0.337853  ]],\n",
       "\n",
       "       [[-0.05567427]]], dtype=float32)"
      ]
     },
     "execution_count": 93,
     "metadata": {},
     "output_type": "execute_result"
    }
   ],
   "source": [
    "# Prediction\n",
    "model.predict(dict(numeric_features.iloc[:3]))\n"
   ]
  },
  {
   "cell_type": "markdown",
   "id": "11351a75",
   "metadata": {},
   "source": [
    "# Keras Functional Style"
   ]
  },
  {
   "cell_type": "code",
   "execution_count": 94,
   "id": "1ac95fb4",
   "metadata": {},
   "outputs": [
    {
     "data": {
      "text/plain": [
       "{'age': <KerasTensor: shape=(None, 1) dtype=float32 (created by layer 'age')>,\n",
       " 'thalach': <KerasTensor: shape=(None, 1) dtype=float32 (created by layer 'thalach')>,\n",
       " 'trestbps': <KerasTensor: shape=(None, 1) dtype=float32 (created by layer 'trestbps')>,\n",
       " 'chol': <KerasTensor: shape=(None, 1) dtype=float32 (created by layer 'chol')>,\n",
       " 'oldpeak': <KerasTensor: shape=(None, 1) dtype=float32 (created by layer 'oldpeak')>}"
      ]
     },
     "execution_count": 94,
     "metadata": {},
     "output_type": "execute_result"
    }
   ],
   "source": [
    "# Organize data\n",
    "inputs = {}\n",
    "for name, column in numeric_features.items():\n",
    "    inputs[name] = tf.keras.Input(\n",
    "        shape=(1,), name=name, dtype=tf.float32) # convert \n",
    "\n",
    "inputs"
   ]
  },
  {
   "cell_type": "code",
   "execution_count": 95,
   "id": "0b6e684e",
   "metadata": {},
   "outputs": [
    {
     "name": "stdout",
     "output_type": "stream",
     "text": [
      "Epoch 1/5\n",
      "152/152 [==============================] - 2s 10ms/step - loss: 0.6000 - accuracy: 0.7261\n",
      "Epoch 2/5\n",
      "152/152 [==============================] - 2s 10ms/step - loss: 0.5333 - accuracy: 0.7261\n",
      "Epoch 3/5\n",
      "152/152 [==============================] - 1s 9ms/step - loss: 0.4885 - accuracy: 0.7426\n",
      "Epoch 4/5\n",
      "152/152 [==============================] - 1s 9ms/step - loss: 0.4659 - accuracy: 0.7492\n",
      "Epoch 5/5\n",
      "152/152 [==============================] - 1s 10ms/step - loss: 0.4553 - accuracy: 0.7723\n"
     ]
    },
    {
     "data": {
      "text/plain": [
       "<keras.callbacks.History at 0x7f9941376a90>"
      ]
     },
     "execution_count": 95,
     "metadata": {},
     "output_type": "execute_result"
    }
   ],
   "source": [
    "# Model and training\n",
    "x = stack_dict(inputs, fun=tf.concat)\n",
    "\n",
    "normalizer = tf.keras.layers.Normalization(axis=-1)\n",
    "normalizer.adapt(stack_dict(dict(numeric_features)))\n",
    "\n",
    "x = normalizer(x)\n",
    "x = tf.keras.layers.Dense(10, activation='relu')(x)\n",
    "x = tf.keras.layers.Dense(10, activation='relu')(x)\n",
    "x = tf.keras.layers.Dense(1)(x)\n",
    "\n",
    "model = tf.keras.Model(inputs, x)\n",
    "\n",
    "model.compile(optimizer='adam',\n",
    "              loss=tf.keras.losses.BinaryCrossentropy(from_logits=True),\n",
    "              metrics=['accuracy'],\n",
    "              run_eagerly=True)\n",
    "\n",
    "model.fit(dict(numeric_features), target, epochs=5, batch_size=BATCH_SIZE)\n"
   ]
  },
  {
   "cell_type": "code",
   "execution_count": null,
   "id": "24da3db0",
   "metadata": {},
   "outputs": [],
   "source": []
  }
 ],
 "metadata": {
  "kernelspec": {
   "display_name": "Python 3 (ipykernel)",
   "language": "python",
   "name": "python3"
  },
  "language_info": {
   "codemirror_mode": {
    "name": "ipython",
    "version": 3
   },
   "file_extension": ".py",
   "mimetype": "text/x-python",
   "name": "python",
   "nbconvert_exporter": "python",
   "pygments_lexer": "ipython3",
   "version": "3.7.13"
  }
 },
 "nbformat": 4,
 "nbformat_minor": 5
}
