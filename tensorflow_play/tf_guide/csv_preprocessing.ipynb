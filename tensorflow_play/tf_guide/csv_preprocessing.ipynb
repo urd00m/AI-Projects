{
 "cells": [
  {
   "cell_type": "code",
   "execution_count": 60,
   "id": "4864247c",
   "metadata": {},
   "outputs": [],
   "source": [
    "import pandas as pd\n",
    "import numpy as np\n",
    "\n",
    "# Make numpy values easier to read.\n",
    "np.set_printoptions(precision=3, suppress=True)\n",
    "\n",
    "import tensorflow as tf\n",
    "from tensorflow.keras import layers\n",
    "from sklearn.model_selection import train_test_split\n",
    "import matplotlib.pyplot as plt"
   ]
  },
  {
   "cell_type": "markdown",
   "id": "a6965f65",
   "metadata": {},
   "source": [
    "# Non-mixed Datatypes "
   ]
  },
  {
   "cell_type": "code",
   "execution_count": 85,
   "id": "88bd55f7",
   "metadata": {},
   "outputs": [
    {
     "data": {
      "text/html": [
       "<div>\n",
       "<style scoped>\n",
       "    .dataframe tbody tr th:only-of-type {\n",
       "        vertical-align: middle;\n",
       "    }\n",
       "\n",
       "    .dataframe tbody tr th {\n",
       "        vertical-align: top;\n",
       "    }\n",
       "\n",
       "    .dataframe thead th {\n",
       "        text-align: right;\n",
       "    }\n",
       "</style>\n",
       "<table border=\"1\" class=\"dataframe\">\n",
       "  <thead>\n",
       "    <tr style=\"text-align: right;\">\n",
       "      <th></th>\n",
       "      <th>Length</th>\n",
       "      <th>Diameter</th>\n",
       "      <th>Height</th>\n",
       "      <th>Whole weight</th>\n",
       "      <th>Shucked weight</th>\n",
       "      <th>Viscera weight</th>\n",
       "      <th>Shell weight</th>\n",
       "      <th>Age</th>\n",
       "    </tr>\n",
       "  </thead>\n",
       "  <tbody>\n",
       "    <tr>\n",
       "      <th>0</th>\n",
       "      <td>0.435</td>\n",
       "      <td>0.335</td>\n",
       "      <td>0.110</td>\n",
       "      <td>0.334</td>\n",
       "      <td>0.1355</td>\n",
       "      <td>0.0775</td>\n",
       "      <td>0.0965</td>\n",
       "      <td>7</td>\n",
       "    </tr>\n",
       "    <tr>\n",
       "      <th>1</th>\n",
       "      <td>0.585</td>\n",
       "      <td>0.450</td>\n",
       "      <td>0.125</td>\n",
       "      <td>0.874</td>\n",
       "      <td>0.3545</td>\n",
       "      <td>0.2075</td>\n",
       "      <td>0.2250</td>\n",
       "      <td>6</td>\n",
       "    </tr>\n",
       "    <tr>\n",
       "      <th>2</th>\n",
       "      <td>0.655</td>\n",
       "      <td>0.510</td>\n",
       "      <td>0.160</td>\n",
       "      <td>1.092</td>\n",
       "      <td>0.3960</td>\n",
       "      <td>0.2825</td>\n",
       "      <td>0.3700</td>\n",
       "      <td>14</td>\n",
       "    </tr>\n",
       "    <tr>\n",
       "      <th>3</th>\n",
       "      <td>0.545</td>\n",
       "      <td>0.425</td>\n",
       "      <td>0.125</td>\n",
       "      <td>0.768</td>\n",
       "      <td>0.2940</td>\n",
       "      <td>0.1495</td>\n",
       "      <td>0.2600</td>\n",
       "      <td>16</td>\n",
       "    </tr>\n",
       "    <tr>\n",
       "      <th>4</th>\n",
       "      <td>0.545</td>\n",
       "      <td>0.420</td>\n",
       "      <td>0.130</td>\n",
       "      <td>0.879</td>\n",
       "      <td>0.3740</td>\n",
       "      <td>0.1695</td>\n",
       "      <td>0.2300</td>\n",
       "      <td>13</td>\n",
       "    </tr>\n",
       "  </tbody>\n",
       "</table>\n",
       "</div>"
      ],
      "text/plain": [
       "   Length  Diameter  Height  Whole weight  Shucked weight  Viscera weight  \\\n",
       "0   0.435     0.335   0.110         0.334          0.1355          0.0775   \n",
       "1   0.585     0.450   0.125         0.874          0.3545          0.2075   \n",
       "2   0.655     0.510   0.160         1.092          0.3960          0.2825   \n",
       "3   0.545     0.425   0.125         0.768          0.2940          0.1495   \n",
       "4   0.545     0.420   0.130         0.879          0.3740          0.1695   \n",
       "\n",
       "   Shell weight  Age  \n",
       "0        0.0965    7  \n",
       "1        0.2250    6  \n",
       "2        0.3700   14  \n",
       "3        0.2600   16  \n",
       "4        0.2300   13  "
      ]
     },
     "execution_count": 85,
     "metadata": {},
     "output_type": "execute_result"
    }
   ],
   "source": [
    "# Get data\n",
    "abalone_train = pd.read_csv(\n",
    "    \"https://storage.googleapis.com/download.tensorflow.org/data/abalone_train.csv\",\n",
    "    names=[\"Length\", \"Diameter\", \"Height\", \"Whole weight\", \"Shucked weight\",\n",
    "           \"Viscera weight\", \"Shell weight\", \"Age\"])\n",
    "\n",
    "abalone_train.head()"
   ]
  },
  {
   "cell_type": "code",
   "execution_count": 183,
   "id": "783d96e8",
   "metadata": {},
   "outputs": [
    {
     "data": {
      "text/plain": [
       "(1, 3154, 7)"
      ]
     },
     "execution_count": 183,
     "metadata": {},
     "output_type": "execute_result"
    }
   ],
   "source": [
    "np.array([train_features,]).shape"
   ]
  },
  {
   "cell_type": "code",
   "execution_count": 185,
   "id": "8e9c6c33",
   "metadata": {},
   "outputs": [
    {
     "data": {
      "text/plain": [
       "(1, 3154)"
      ]
     },
     "execution_count": 185,
     "metadata": {},
     "output_type": "execute_result"
    }
   ],
   "source": [
    "np.array([train_labels,]).shape"
   ]
  },
  {
   "cell_type": "code",
   "execution_count": 211,
   "id": "086dfb23",
   "metadata": {
    "scrolled": true
   },
   "outputs": [
    {
     "name": "stdout",
     "output_type": "stream",
     "text": [
      "Total number of training data 3320\n",
      "Training batches 103 of size 32\n",
      "Testing batches 2 of size 32\n"
     ]
    }
   ],
   "source": [
    "# Separate features from labels \n",
    "abalone_features = abalone_train.copy()\n",
    "abalone_labels = abalone_features.pop('Age')\n",
    "abalone_features = np.array(abalone_features)\n",
    "abalone_features\n",
    "\n",
    "# split training and testing \n",
    "train_features, test_features, train_labels, test_labels = train_test_split(abalone_features, abalone_labels, test_size=.01, random_state=1)\n",
    "\n",
    "# Create dataset \n",
    "batch_size = 32\n",
    "\n",
    "# This is equivalent to having a batch size of 1\n",
    "#train_ds = tf.data.Dataset.from_tensor_slices(([[x,] for x in train_features], [[x,] for x in train_labels]))\n",
    "#test_ds = tf.data.Dataset.from_tensor_slices(([[x,] for x in test_features], [[x,] for x in test_labels]))\n",
    "\n",
    "train_ds = tf.data.Dataset.from_tensor_slices((train_features, train_labels))\n",
    "test_ds = tf.data.Dataset.from_tensor_slices((test_features, test_labels))\n",
    "train_ds = train_ds.batch(batch_size)\n",
    "test_ds = test_ds.batch(batch_size)\n",
    "\n",
    "# this is equivalent to having 1 batch (bad)\n",
    "#train_ds = tf.data.Dataset.from_tensor_slices(([train_features,], [train_labels,]))\n",
    "#test_ds = tf.data.Dataset.from_tensor_slices(([test_features,], [test_labels,]))\n",
    "\n",
    "# visualize \n",
    "print(f\"Total number of training data {len(abalone_features)}\")\n",
    "print(f\"Training batches {len(train_ds)} of size {batch_size}\")\n",
    "print(f\"Testing batches {len(test_ds)} of size {batch_size}\")"
   ]
  },
  {
   "cell_type": "code",
   "execution_count": 212,
   "id": "023b2deb",
   "metadata": {},
   "outputs": [
    {
     "name": "stdout",
     "output_type": "stream",
     "text": [
      "tf.Tensor(\n",
      "[[0.405 0.305 0.105 0.362 0.157 0.07  0.125]\n",
      " [0.65  0.505 0.19  1.274 0.59  0.23  0.391]\n",
      " [0.485 0.4   0.135 0.663 0.313 0.137 0.2  ]\n",
      " [0.33  0.25  0.095 0.208 0.102 0.04  0.052]\n",
      " [0.47  0.365 0.1   0.411 0.175 0.086 0.135]\n",
      " [0.73  0.56  0.19  1.942 0.799 0.519 0.566]\n",
      " [0.67  0.545 0.175 1.707 0.7   0.387 0.575]\n",
      " [0.57  0.465 0.16  0.893 0.315 0.258 0.263]\n",
      " [0.61  0.495 0.185 1.109 0.37  0.314 0.33 ]\n",
      " [0.35  0.255 0.08  0.192 0.08  0.038 0.063]\n",
      " [0.52  0.425 0.165 0.989 0.396 0.225 0.32 ]\n",
      " [0.6   0.475 0.15  1.008 0.443 0.221 0.28 ]\n",
      " [0.58  0.44  0.175 1.226 0.54  0.271 0.327]\n",
      " [0.275 0.195 0.065 0.106 0.054 0.02  0.028]\n",
      " [0.64  0.51  0.175 1.368 0.515 0.266 0.57 ]\n",
      " [0.54  0.42  0.14  0.803 0.38  0.18  0.21 ]\n",
      " [0.61  0.48  0.19  1.296 0.521 0.323 0.365]\n",
      " [0.74  0.605 0.2   2.493 1.145 0.575 0.523]\n",
      " [0.61  0.485 0.17  1.022 0.419 0.24  0.36 ]\n",
      " [0.69  0.55  0.2   1.569 0.687 0.367 0.46 ]\n",
      " [0.235 0.175 0.065 0.061 0.021 0.02  0.019]\n",
      " [0.63  0.53  0.18  1.28  0.618 0.256 0.315]\n",
      " [0.625 0.49  0.185 1.169 0.527 0.254 0.344]\n",
      " [0.605 0.475 0.145 0.884 0.384 0.191 0.27 ]\n",
      " [0.615 0.475 0.19  1.433 0.732 0.305 0.329]\n",
      " [0.345 0.27  0.09  0.195 0.078 0.045 0.059]\n",
      " [0.625 0.515 0.16  1.264 0.572 0.326 0.321]\n",
      " [0.315 0.235 0.08  0.18  0.08  0.045 0.047]\n",
      " [0.62  0.485 0.17  1.208 0.48  0.304 0.33 ]\n",
      " [0.52  0.41  0.17  0.871 0.373 0.219 0.25 ]\n",
      " [0.51  0.38  0.13  0.584 0.224 0.136 0.185]\n",
      " [0.61  0.45  0.19  1.081 0.517 0.249 0.293]], shape=(32, 7), dtype=float64)\n",
      "tf.Tensor(\n",
      "[10 11 10  7  8 11 13 10 12  9 16 15 10  6 21  9 12 13 12 12  6  9 11  8\n",
      "  9  9  9  5 15 14 13 10], shape=(32,), dtype=int64)\n"
     ]
    }
   ],
   "source": [
    "for feature, label in train_ds:\n",
    "    print(feature)\n",
    "    print(label)\n",
    "    break"
   ]
  },
  {
   "cell_type": "code",
   "execution_count": 165,
   "id": "f3304d56",
   "metadata": {},
   "outputs": [
    {
     "data": {
      "image/png": "[encoded data removed]",
      "text/plain": [
       "<Figure size 432x288 with 1 Axes>"
      ]
     },
     "metadata": {
      "needs_background": "light"
     },
     "output_type": "display_data"
    }
   ],
   "source": [
    "# view data\n",
    "'''\n",
    "for feature, label in train_ds:\n",
    "    print(f\"Feature {str(feature)} + label - {str(label)}\")\n",
    "'''\n",
    "\n",
    "# Plot\n",
    "# shucked weight vs age\n",
    "for feature, label in train_ds: \n",
    "    plt.scatter(feature[3], label, color=\"blue\")\n",
    "plt.xlabel(\"weight\")\n",
    "plt.ylabel(\"age\")\n",
    "plt.title(\"age v. weight\")\n",
    "plt.show()"
   ]
  },
  {
   "cell_type": "code",
   "execution_count": 213,
   "id": "b84ef505",
   "metadata": {},
   "outputs": [],
   "source": [
    "# regression model \n",
    "normalize = layers.Normalization()\n",
    "normalize.adapt(abalone_features)\n",
    "abalone_model = tf.keras.Sequential([\n",
    "  normalize, \n",
    "  layers.Dense(64),\n",
    "  layers.Dense(1)\n",
    "])\n",
    "\n",
    "abalone_model.compile(loss = tf.keras.losses.MeanSquaredError(),\n",
    "                      optimizer = tf.keras.optimizers.Adam())"
   ]
  },
  {
   "cell_type": "code",
   "execution_count": 214,
   "id": "89309bc5",
   "metadata": {
    "scrolled": true
   },
   "outputs": [
    {
     "name": "stdout",
     "output_type": "stream",
     "text": [
      "Epoch 1/10\n",
      "103/103 [==============================] - 0s 729us/step - loss: 94.2420\n",
      "Epoch 2/10\n",
      "103/103 [==============================] - 0s 693us/step - loss: 56.4097\n",
      "Epoch 3/10\n",
      "103/103 [==============================] - 0s 684us/step - loss: 18.5652\n",
      "Epoch 4/10\n",
      "103/103 [==============================] - 0s 680us/step - loss: 6.3305\n",
      "Epoch 5/10\n",
      "103/103 [==============================] - 0s 700us/step - loss: 5.1717\n",
      "Epoch 6/10\n",
      "103/103 [==============================] - 0s 774us/step - loss: 5.0404\n",
      "Epoch 7/10\n",
      "103/103 [==============================] - 0s 794us/step - loss: 4.9956\n",
      "Epoch 8/10\n",
      "103/103 [==============================] - 0s 854us/step - loss: 4.9750\n",
      "Epoch 9/10\n",
      "103/103 [==============================] - 0s 689us/step - loss: 4.9627\n",
      "Epoch 10/10\n",
      "103/103 [==============================] - 0s 732us/step - loss: 4.9533\n"
     ]
    },
    {
     "data": {
      "text/plain": [
       "<keras.callbacks.History at 0x7fb473adc310>"
      ]
     },
     "execution_count": 214,
     "metadata": {},
     "output_type": "execute_result"
    }
   ],
   "source": [
    "# train \n",
    "abalone_model.fit(train_ds, epochs=10, verbose=1)\n",
    "#abalone_model.fit(abalone_features, abalone_labels, epochs=10, verbose=1)"
   ]
  },
  {
   "cell_type": "code",
   "execution_count": 215,
   "id": "406a60e9",
   "metadata": {},
   "outputs": [
    {
     "name": "stdout",
     "output_type": "stream",
     "text": [
      "2/2 [==============================] - 0s 2ms/step - loss: 3.7543\n"
     ]
    },
    {
     "data": {
      "text/plain": [
       "3.754281997680664"
      ]
     },
     "execution_count": 215,
     "metadata": {},
     "output_type": "execute_result"
    }
   ],
   "source": [
    "# Evaluate\n",
    "abalone_model.evaluate(test_ds)"
   ]
  },
  {
   "cell_type": "code",
   "execution_count": 216,
   "id": "cfce7d52",
   "metadata": {
    "scrolled": true
   },
   "outputs": [
    {
     "name": "stdout",
     "output_type": "stream",
     "text": [
      "Predicted label: 10.44200325012207 actual label: 9\n",
      "Predicted label: 10.136301040649414 actual label: 12\n",
      "Predicted label: 10.64048957824707 actual label: 8\n",
      "Predicted label: 10.18053150177002 actual label: 9\n",
      "Predicted label: 8.55508804321289 actual label: 8\n",
      "Predicted label: 10.282342910766602 actual label: 10\n",
      "Predicted label: 7.5853657722473145 actual label: 6\n",
      "Predicted label: 10.685802459716797 actual label: 11\n",
      "Predicted label: 10.544822692871094 actual label: 11\n",
      "Predicted label: 9.941275596618652 actual label: 9\n",
      "Predicted label: 10.997572898864746 actual label: 10\n",
      "Predicted label: 9.789473533630371 actual label: 7\n",
      "Predicted label: 12.09975528717041 actual label: 10\n",
      "Predicted label: 10.456380844116211 actual label: 10\n",
      "Predicted label: 9.319207191467285 actual label: 10\n",
      "Predicted label: 7.5354084968566895 actual label: 7\n",
      "Predicted label: 11.17361068725586 actual label: 10\n",
      "Predicted label: 12.493745803833008 actual label: 11\n",
      "Predicted label: 7.067288875579834 actual label: 6\n",
      "Predicted label: 12.524667739868164 actual label: 10\n",
      "Predicted label: 7.311757564544678 actual label: 7\n",
      "Predicted label: 9.002412796020508 actual label: 9\n",
      "Predicted label: 7.562272548675537 actual label: 7\n",
      "Predicted label: 9.405613899230957 actual label: 9\n",
      "Predicted label: 8.529650688171387 actual label: 8\n",
      "Predicted label: 8.518838882446289 actual label: 7\n",
      "Predicted label: 10.238289833068848 actual label: 9\n",
      "Predicted label: 8.989998817443848 actual label: 11\n",
      "Predicted label: 8.113082885742188 actual label: 9\n",
      "Predicted label: 8.419260025024414 actual label: 9\n",
      "Predicted label: 16.522659301757812 actual label: 25\n",
      "Predicted label: 7.614512920379639 actual label: 7\n",
      "Predicted label: 8.090411186218262 actual label: 7\n",
      "Predicted label: 12.036295890808105 actual label: 11\n"
     ]
    }
   ],
   "source": [
    "# Visualize \n",
    "for batch_feature, batch_label in test_ds:\n",
    "    for feature, label in zip(batch_feature, batch_label):\n",
    "        print(f\"Predicted label: {abalone_model.predict(np.array([np.array(feature),])).flatten()[0]} actual label: {label}\")\n"
   ]
  },
  {
   "cell_type": "markdown",
   "id": "4e63f62d",
   "metadata": {},
   "source": [
    "# Mixed Datatypes "
   ]
  },
  {
   "cell_type": "code",
   "execution_count": 217,
   "id": "e3641f23",
   "metadata": {},
   "outputs": [
    {
     "data": {
      "text/html": [
       "<div>\n",
       "<style scoped>\n",
       "    .dataframe tbody tr th:only-of-type {\n",
       "        vertical-align: middle;\n",
       "    }\n",
       "\n",
       "    .dataframe tbody tr th {\n",
       "        vertical-align: top;\n",
       "    }\n",
       "\n",
       "    .dataframe thead th {\n",
       "        text-align: right;\n",
       "    }\n",
       "</style>\n",
       "<table border=\"1\" class=\"dataframe\">\n",
       "  <thead>\n",
       "    <tr style=\"text-align: right;\">\n",
       "      <th></th>\n",
       "      <th>survived</th>\n",
       "      <th>sex</th>\n",
       "      <th>age</th>\n",
       "      <th>n_siblings_spouses</th>\n",
       "      <th>parch</th>\n",
       "      <th>fare</th>\n",
       "      <th>class</th>\n",
       "      <th>deck</th>\n",
       "      <th>embark_town</th>\n",
       "      <th>alone</th>\n",
       "    </tr>\n",
       "  </thead>\n",
       "  <tbody>\n",
       "    <tr>\n",
       "      <th>0</th>\n",
       "      <td>0</td>\n",
       "      <td>male</td>\n",
       "      <td>22.0</td>\n",
       "      <td>1</td>\n",
       "      <td>0</td>\n",
       "      <td>7.2500</td>\n",
       "      <td>Third</td>\n",
       "      <td>unknown</td>\n",
       "      <td>Southampton</td>\n",
       "      <td>n</td>\n",
       "    </tr>\n",
       "    <tr>\n",
       "      <th>1</th>\n",
       "      <td>1</td>\n",
       "      <td>female</td>\n",
       "      <td>38.0</td>\n",
       "      <td>1</td>\n",
       "      <td>0</td>\n",
       "      <td>71.2833</td>\n",
       "      <td>First</td>\n",
       "      <td>C</td>\n",
       "      <td>Cherbourg</td>\n",
       "      <td>n</td>\n",
       "    </tr>\n",
       "    <tr>\n",
       "      <th>2</th>\n",
       "      <td>1</td>\n",
       "      <td>female</td>\n",
       "      <td>26.0</td>\n",
       "      <td>0</td>\n",
       "      <td>0</td>\n",
       "      <td>7.9250</td>\n",
       "      <td>Third</td>\n",
       "      <td>unknown</td>\n",
       "      <td>Southampton</td>\n",
       "      <td>y</td>\n",
       "    </tr>\n",
       "    <tr>\n",
       "      <th>3</th>\n",
       "      <td>1</td>\n",
       "      <td>female</td>\n",
       "      <td>35.0</td>\n",
       "      <td>1</td>\n",
       "      <td>0</td>\n",
       "      <td>53.1000</td>\n",
       "      <td>First</td>\n",
       "      <td>C</td>\n",
       "      <td>Southampton</td>\n",
       "      <td>n</td>\n",
       "    </tr>\n",
       "    <tr>\n",
       "      <th>4</th>\n",
       "      <td>0</td>\n",
       "      <td>male</td>\n",
       "      <td>28.0</td>\n",
       "      <td>0</td>\n",
       "      <td>0</td>\n",
       "      <td>8.4583</td>\n",
       "      <td>Third</td>\n",
       "      <td>unknown</td>\n",
       "      <td>Queenstown</td>\n",
       "      <td>y</td>\n",
       "    </tr>\n",
       "  </tbody>\n",
       "</table>\n",
       "</div>"
      ],
      "text/plain": [
       "   survived     sex   age  n_siblings_spouses  parch     fare  class     deck  \\\n",
       "0         0    male  22.0                   1      0   7.2500  Third  unknown   \n",
       "1         1  female  38.0                   1      0  71.2833  First        C   \n",
       "2         1  female  26.0                   0      0   7.9250  Third  unknown   \n",
       "3         1  female  35.0                   1      0  53.1000  First        C   \n",
       "4         0    male  28.0                   0      0   8.4583  Third  unknown   \n",
       "\n",
       "   embark_town alone  \n",
       "0  Southampton     n  \n",
       "1    Cherbourg     n  \n",
       "2  Southampton     y  \n",
       "3  Southampton     n  \n",
       "4   Queenstown     y  "
      ]
     },
     "execution_count": 217,
     "metadata": {},
     "output_type": "execute_result"
    }
   ],
   "source": [
    "# Get data\n",
    "titanic = pd.read_csv(\"https://storage.googleapis.com/tf-datasets/titanic/train.csv\")\n",
    "titanic.head()"
   ]
  },
  {
   "cell_type": "code",
   "execution_count": 222,
   "id": "064b5d94",
   "metadata": {},
   "outputs": [
    {
     "data": {
      "text/plain": [
       "{'sex': <KerasTensor: shape=(None, 1) dtype=string (created by layer 'sex')>,\n",
       " 'age': <KerasTensor: shape=(None, 1) dtype=float32 (created by layer 'age')>,\n",
       " 'n_siblings_spouses': <KerasTensor: shape=(None, 1) dtype=float32 (created by layer 'n_siblings_spouses')>,\n",
       " 'parch': <KerasTensor: shape=(None, 1) dtype=float32 (created by layer 'parch')>,\n",
       " 'fare': <KerasTensor: shape=(None, 1) dtype=float32 (created by layer 'fare')>,\n",
       " 'class': <KerasTensor: shape=(None, 1) dtype=string (created by layer 'class')>,\n",
       " 'deck': <KerasTensor: shape=(None, 1) dtype=string (created by layer 'deck')>,\n",
       " 'embark_town': <KerasTensor: shape=(None, 1) dtype=string (created by layer 'embark_town')>,\n",
       " 'alone': <KerasTensor: shape=(None, 1) dtype=string (created by layer 'alone')>}"
      ]
     },
     "execution_count": 222,
     "metadata": {},
     "output_type": "execute_result"
    }
   ],
   "source": [
    "# Pop out labels \n",
    "titanic_features = titanic.copy()\n",
    "titanic_labels = titanic_features.pop('survived')\n",
    "\n",
    "# dtype to column name\n",
    "inputs = {}\n",
    "\n",
    "for name, column in titanic_features.items():\n",
    "    dtype = column.dtype\n",
    "    if dtype == object:\n",
    "        dtype = tf.string\n",
    "    else:\n",
    "        dtype = tf.float32\n",
    "\n",
    "    inputs[name] = tf.keras.Input(shape=(1,), name=name, dtype=dtype)\n",
    "\n",
    "inputs"
   ]
  },
  {
   "cell_type": "code",
   "execution_count": 232,
   "id": "0d8da16a",
   "metadata": {},
   "outputs": [],
   "source": [
    "# run numeric inputs thorugh normalization layer \n",
    "numeric_inputs = {name:input for name,input in inputs.items()\n",
    "                  if input.dtype==tf.float32}\n",
    "\n",
    "x = layers.Concatenate()(list(numeric_inputs.values()))\n",
    "norm = layers.Normalization()\n",
    "norm.adapt(np.array(titanic[numeric_inputs.keys()]))\n",
    "all_numeric_inputs = norm(x)\n",
    "\n",
    "preprocessed_inputs = [all_numeric_inputs]"
   ]
  },
  {
   "cell_type": "code",
   "execution_count": 236,
   "id": "cd7ba2e3",
   "metadata": {},
   "outputs": [],
   "source": [
    "# one-hot encoding\n",
    "for name, input in inputs.items():\n",
    "    if input.dtype == tf.float32:\n",
    "        continue\n",
    "\n",
    "    lookup = layers.StringLookup(vocabulary=np.unique(titanic_features[name]))\n",
    "    one_hot = layers.CategoryEncoding(num_tokens=lookup.vocabulary_size())\n",
    "\n",
    "    x = lookup(input)\n",
    "    x = one_hot(x)\n",
    "    preprocessed_inputs.append(x)"
   ]
  },
  {
   "cell_type": "code",
   "execution_count": 241,
   "id": "9fcccc8a",
   "metadata": {
    "scrolled": true
   },
   "outputs": [
    {
     "name": "stdout",
     "output_type": "stream",
     "text": [
      "('You must install pydot (`pip install pydot`) and install graphviz (see instructions at https://graphviz.gitlab.io/download/) ', 'for plot_model/model_to_dot to work.')\n"
     ]
    }
   ],
   "source": [
    "# combined preprocessed inputs\n",
    "preprocessed_inputs_cat = layers.Concatenate()(preprocessed_inputs)\n",
    "titanic_preprocessing = tf.keras.Model(inputs, preprocessed_inputs_cat)\n",
    "tf.keras.utils.plot_model(model = titanic_preprocessing , rankdir=\"LR\", dpi=72, show_shapes=True)"
   ]
  },
  {
   "cell_type": "code",
   "execution_count": 246,
   "id": "5f7f3e9e",
   "metadata": {},
   "outputs": [
    {
     "data": {
      "text/plain": [
       "<tf.Tensor: shape=(1, 28), dtype=float32, numpy=\n",
       "array([[-0.61 ,  0.395, -0.479, -0.497,  0.   ,  0.   ,  1.   ,  0.   ,\n",
       "         0.   ,  0.   ,  1.   ,  0.   ,  0.   ,  0.   ,  0.   ,  0.   ,\n",
       "         0.   ,  0.   ,  0.   ,  1.   ,  0.   ,  0.   ,  0.   ,  1.   ,\n",
       "         0.   ,  0.   ,  1.   ,  0.   ]], dtype=float32)>"
      ]
     },
     "execution_count": 246,
     "metadata": {},
     "output_type": "execute_result"
    }
   ],
   "source": [
    "# Create dictionary\n",
    "titanic_features_dict = {name: np.array(value) \n",
    "                         for name, value in titanic_features.items()}\n",
    "features_dict = {name:values[:1] for name, values in titanic_features_dict.items()}\n",
    "titanic_preprocessing(features_dict)"
   ]
  },
  {
   "cell_type": "code",
   "execution_count": 253,
   "id": "1643af94",
   "metadata": {},
   "outputs": [],
   "source": [
    "# build model\n",
    "def titanic_model(preprocessing_head, inputs):\n",
    "    body = tf.keras.Sequential([ # Regression model \n",
    "        layers.Dense(64),\n",
    "        layers.Dense(1)\n",
    "    ])\n",
    "\n",
    "    preprocessed_inputs = preprocessing_head(inputs) # Why? input is fed in 3 times why \n",
    "    result = body(preprocessed_inputs)\n",
    "    model = tf.keras.Model(inputs, result)\n",
    "\n",
    "    model.compile(loss=tf.keras.losses.BinaryCrossentropy(from_logits=True),\n",
    "                    optimizer=tf.keras.optimizers.Adam())\n",
    "    return model\n",
    "\n",
    "titanic_model = titanic_model(titanic_preprocessing, inputs)"
   ]
  },
  {
   "cell_type": "code",
   "execution_count": 254,
   "id": "109f10be",
   "metadata": {},
   "outputs": [
    {
     "name": "stdout",
     "output_type": "stream",
     "text": [
      "Epoch 1/10\n",
      "20/20 [==============================] - 1s 1ms/step - loss: 0.6611\n",
      "Epoch 2/10\n",
      "20/20 [==============================] - 0s 2ms/step - loss: 0.5393\n",
      "Epoch 3/10\n",
      "20/20 [==============================] - 0s 1ms/step - loss: 0.4974\n",
      "Epoch 4/10\n",
      "20/20 [==============================] - 0s 1ms/step - loss: 0.4702\n",
      "Epoch 5/10\n",
      "20/20 [==============================] - 0s 2ms/step - loss: 0.4520\n",
      "Epoch 6/10\n",
      "20/20 [==============================] - 0s 2ms/step - loss: 0.4418\n",
      "Epoch 7/10\n",
      "20/20 [==============================] - 0s 1ms/step - loss: 0.4331\n",
      "Epoch 8/10\n",
      "20/20 [==============================] - 0s 1ms/step - loss: 0.4281\n",
      "Epoch 9/10\n",
      "20/20 [==============================] - 0s 2ms/step - loss: 0.4249\n",
      "Epoch 10/10\n",
      "20/20 [==============================] - 0s 2ms/step - loss: 0.4227\n"
     ]
    },
    {
     "data": {
      "text/plain": [
       "<keras.callbacks.History at 0x7fb4523bd190>"
      ]
     },
     "execution_count": 254,
     "metadata": {},
     "output_type": "execute_result"
    }
   ],
   "source": [
    "# train\n",
    "titanic_model.fit(x=titanic_features_dict, y=titanic_labels, epochs=10)"
   ]
  },
  {
   "cell_type": "markdown",
   "id": "3094100e",
   "metadata": {},
   "source": [
    "# Use Tf data"
   ]
  },
  {
   "cell_type": "code",
   "execution_count": 256,
   "id": "7499bc46",
   "metadata": {},
   "outputs": [
    {
     "name": "stdout",
     "output_type": "stream",
     "text": [
      "{'sex': 'male', 'age': 22.0, 'n_siblings_spouses': 1, 'parch': 0, 'fare': 7.25, 'class': 'Third', 'deck': 'unknown', 'embark_town': 'Southampton', 'alone': 'n'}\n",
      "sex                : male\n",
      "age                : 22.0\n",
      "n_siblings_spouses : 1\n",
      "parch              : 0\n",
      "fare               : 7.25\n",
      "class              : Third\n",
      "deck               : unknown\n",
      "embark_town        : Southampton\n",
      "alone              : n\n"
     ]
    }
   ],
   "source": [
    "# Get data manually \n",
    "import itertools \n",
    "\n",
    "def slices(features):\n",
    "    for i in itertools.count():\n",
    "        # For each feature take index `i`\n",
    "        example = {name:values[i] for name, values in features.items()}\n",
    "        yield example\n",
    "\n",
    "for example in slices(titanic_features_dict):\n",
    "    for name, value in example.items():\n",
    "        print(f\"{name:19s}: {value}\")\n",
    "    break"
   ]
  },
  {
   "cell_type": "code",
   "execution_count": 257,
   "id": "047f4af7",
   "metadata": {},
   "outputs": [
    {
     "name": "stdout",
     "output_type": "stream",
     "text": [
      "sex                : b'male'\n",
      "age                : 22.0\n",
      "n_siblings_spouses : 1\n",
      "parch              : 0\n",
      "fare               : 7.25\n",
      "class              : b'Third'\n",
      "deck               : b'unknown'\n",
      "embark_town        : b'Southampton'\n",
      "alone              : b'n'\n"
     ]
    }
   ],
   "source": [
    "# Get data\n",
    "features_ds = tf.data.Dataset.from_tensor_slices(titanic_features_dict)\n",
    "for example in features_ds:\n",
    "    for name, value in example.items():\n",
    "        print(f\"{name:19s}: {value}\")\n",
    "    break"
   ]
  },
  {
   "cell_type": "code",
   "execution_count": 259,
   "id": "3201795a",
   "metadata": {},
   "outputs": [],
   "source": [
    "# create ds \n",
    "titanic_ds = tf.data.Dataset.from_tensor_slices((titanic_features_dict, titanic_labels))\n",
    "\n",
    "# batch \n",
    "titanic_batches = titanic_ds.shuffle(len(titanic_labels)).batch(32)"
   ]
  },
  {
   "cell_type": "code",
   "execution_count": 260,
   "id": "8b9a4770",
   "metadata": {},
   "outputs": [
    {
     "name": "stdout",
     "output_type": "stream",
     "text": [
      "Epoch 1/5\n",
      "20/20 [==============================] - 0s 2ms/step - loss: 0.4231\n",
      "Epoch 2/5\n",
      "20/20 [==============================] - 0s 2ms/step - loss: 0.4222\n",
      "Epoch 3/5\n",
      "20/20 [==============================] - 0s 3ms/step - loss: 0.4222\n",
      "Epoch 4/5\n",
      "20/20 [==============================] - 0s 2ms/step - loss: 0.4198\n",
      "Epoch 5/5\n",
      "20/20 [==============================] - 0s 2ms/step - loss: 0.4191\n"
     ]
    },
    {
     "data": {
      "text/plain": [
       "<keras.callbacks.History at 0x7fb47411f650>"
      ]
     },
     "execution_count": 260,
     "metadata": {},
     "output_type": "execute_result"
    }
   ],
   "source": [
    "# train\n",
    "titanic_model.fit(titanic_batches, epochs=5)"
   ]
  },
  {
   "cell_type": "markdown",
   "id": "96f16e5d",
   "metadata": {},
   "source": [
    "# From single file "
   ]
  },
  {
   "cell_type": "code",
   "execution_count": 261,
   "id": "c087ee6e",
   "metadata": {},
   "outputs": [
    {
     "name": "stdout",
     "output_type": "stream",
     "text": [
      "Downloading data from https://storage.googleapis.com/tf-datasets/titanic/train.csv\n",
      "32768/30874 [===============================] - 0s 2us/step\n",
      "40960/30874 [=======================================] - 0s 1us/step\n"
     ]
    }
   ],
   "source": [
    "# get data\n",
    "titanic_file_path = tf.keras.utils.get_file(\"train.csv\", \"https://storage.googleapis.com/tf-datasets/titanic/train.csv\")\n"
   ]
  },
  {
   "cell_type": "code",
   "execution_count": 262,
   "id": "4856dc8d",
   "metadata": {},
   "outputs": [
    {
     "name": "stdout",
     "output_type": "stream",
     "text": [
      "sex                 : [b'female' b'male' b'male' b'male' b'female']\n",
      "age                 : [28. 28. 27. 30. 53.]\n",
      "n_siblings_spouses  : [1 0 0 1 2]\n",
      "parch               : [0 0 0 0 0]\n",
      "fare                : [24.15   8.05   7.896 16.1   51.479]\n",
      "class               : [b'Third' b'Third' b'Third' b'Third' b'First']\n",
      "deck                : [b'unknown' b'unknown' b'unknown' b'unknown' b'C']\n",
      "embark_town         : [b'Queenstown' b'Southampton' b'Southampton' b'Southampton' b'Southampton']\n",
      "alone               : [b'n' b'y' b'y' b'n' b'n']\n",
      "\n",
      "label               : [1 0 0 0 1]\n"
     ]
    }
   ],
   "source": [
    "# split data using tf.data\n",
    "titanic_csv_ds = tf.data.experimental.make_csv_dataset(\n",
    "    titanic_file_path,\n",
    "    batch_size=5, # Artificially small to make examples easier to show.\n",
    "    label_name='survived',\n",
    "    num_epochs=1,\n",
    "    ignore_errors=True,)\n",
    "\n",
    "for batch, label in titanic_csv_ds.take(1):\n",
    "    for key, value in batch.items():\n",
    "        print(f\"{key:20s}: {value}\")\n",
    "    print()\n",
    "    print(f\"{'label':20s}: {label}\")"
   ]
  },
  {
   "cell_type": "code",
   "execution_count": 263,
   "id": "7ab4800c",
   "metadata": {
    "scrolled": true
   },
   "outputs": [
    {
     "name": "stdout",
     "output_type": "stream",
     "text": [
      "Downloading data from https://archive.ics.uci.edu/ml/machine-learning-databases/00492/Metro_Interstate_Traffic_Volume.csv.gz\n",
      "409600/405373 [==============================] - 1s 2us/step\n",
      "417792/405373 [==============================] - 1s 2us/step\n",
      "holiday             : [b'None' b'None' b'None' b'None' b'None']\n",
      "temp                : [295.91 266.91 287.77 273.08 297.15]\n",
      "rain_1h             : [0. 0. 0. 0. 0.]\n",
      "snow_1h             : [0. 0. 0. 0. 0.]\n",
      "clouds_all          : [36 64  1  1 24]\n",
      "weather_main        : [b'Thunderstorm' b'Clouds' b'Clear' b'Clear' b'Clouds']\n",
      "weather_description : [b'proximity thunderstorm' b'broken clouds' b'sky is clear'\n",
      " b'sky is clear' b'few clouds']\n",
      "date_time           : [b'2013-08-25 09:00:00' b'2013-11-12 11:00:00' b'2013-04-29 01:00:00'\n",
      " b'2013-03-30 00:00:00' b'2013-07-11 20:00:00']\n",
      "\n",
      "label               : [3341 4657  383 1092 3315]\n"
     ]
    }
   ],
   "source": [
    "# another example\n",
    "traffic_volume_csv_gz = tf.keras.utils.get_file(\n",
    "    'Metro_Interstate_Traffic_Volume.csv.gz', \n",
    "    \"https://archive.ics.uci.edu/ml/machine-learning-databases/00492/Metro_Interstate_Traffic_Volume.csv.gz\",\n",
    "    cache_dir='.', cache_subdir='traffic')\n",
    "\n",
    "traffic_volume_csv_gz_ds = tf.data.experimental.make_csv_dataset(\n",
    "    traffic_volume_csv_gz,\n",
    "    batch_size=256,\n",
    "    label_name='traffic_volume',\n",
    "    num_epochs=1,\n",
    "    compression_type=\"GZIP\")\n",
    "\n",
    "for batch, label in traffic_volume_csv_gz_ds.take(1):\n",
    "    for key, value in batch.items():\n",
    "        print(f\"{key:20s}: {value[:5]}\")\n",
    "    print()\n",
    "    print(f\"{'label':20s}: {label[:5]}\")"
   ]
  },
  {
   "cell_type": "markdown",
   "id": "d06bd564",
   "metadata": {},
   "source": [
    "# Multiple Files"
   ]
  }
 ],
 "metadata": {
  "kernelspec": {
   "display_name": "Python 3 (ipykernel)",
   "language": "python",
   "name": "python3"
  },
  "language_info": {
   "codemirror_mode": {
    "name": "ipython",
    "version": 3
   },
   "file_extension": ".py",
   "mimetype": "text/x-python",
   "name": "python",
   "nbconvert_exporter": "python",
   "pygments_lexer": "ipython3",
   "version": "3.7.13"
  }
 },
 "nbformat": 4,
 "nbformat_minor": 5
}
